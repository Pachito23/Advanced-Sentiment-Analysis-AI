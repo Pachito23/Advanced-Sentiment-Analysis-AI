{
 "cells": [
  {
   "attachments": {},
   "cell_type": "markdown",
   "metadata": {},
   "source": [
    "# Pip installs and imports"
   ]
  },
  {
   "cell_type": "code",
   "execution_count": 21,
   "metadata": {},
   "outputs": [
    {
     "name": "stdout",
     "output_type": "stream",
     "text": [
      "Requirement already satisfied: beautifulsoup4 in c:\\python310\\lib\\site-packages (4.11.1)\n",
      "Requirement already satisfied: soupsieve>1.2 in c:\\python310\\lib\\site-packages (from beautifulsoup4) (2.3.2.post1)\n"
     ]
    },
    {
     "name": "stderr",
     "output_type": "stream",
     "text": [
      "WARNING: Ignoring invalid distribution -ip (c:\\python310\\lib\\site-packages)\n",
      "WARNING: Ignoring invalid distribution -umpy (c:\\python310\\lib\\site-packages)\n",
      "WARNING: Ignoring invalid distribution -ip (c:\\python310\\lib\\site-packages)\n",
      "WARNING: Ignoring invalid distribution -umpy (c:\\python310\\lib\\site-packages)\n"
     ]
    },
    {
     "name": "stdout",
     "output_type": "stream",
     "text": [
      "Requirement already satisfied: cdifflib in c:\\python310\\lib\\site-packages (1.2.6)\n"
     ]
    },
    {
     "name": "stderr",
     "output_type": "stream",
     "text": [
      "WARNING: Ignoring invalid distribution -ip (c:\\python310\\lib\\site-packages)\n",
      "WARNING: Ignoring invalid distribution -umpy (c:\\python310\\lib\\site-packages)\n",
      "WARNING: Ignoring invalid distribution -ip (c:\\python310\\lib\\site-packages)\n",
      "WARNING: Ignoring invalid distribution -umpy (c:\\python310\\lib\\site-packages)\n"
     ]
    },
    {
     "name": "stdout",
     "output_type": "stream",
     "text": [
      "Requirement already satisfied: chardet in c:\\python310\\lib\\site-packages (5.0.0)\n"
     ]
    },
    {
     "name": "stderr",
     "output_type": "stream",
     "text": [
      "WARNING: Ignoring invalid distribution -ip (c:\\python310\\lib\\site-packages)\n",
      "WARNING: Ignoring invalid distribution -umpy (c:\\python310\\lib\\site-packages)\n",
      "WARNING: Ignoring invalid distribution -ip (c:\\python310\\lib\\site-packages)\n",
      "WARNING: Ignoring invalid distribution -umpy (c:\\python310\\lib\\site-packages)\n"
     ]
    },
    {
     "name": "stdout",
     "output_type": "stream",
     "text": [
      "Requirement already satisfied: gutenbergpy in c:\\python310\\lib\\site-packages (0.3.5)\n",
      "Requirement already satisfied: future>=0.15.2 in c:\\python310\\lib\\site-packages (from gutenbergpy) (0.18.3)\n",
      "Requirement already satisfied: httpsproxy-urllib2 in c:\\python310\\lib\\site-packages (from gutenbergpy) (1.0)\n",
      "Requirement already satisfied: lxml>=3.2.0 in c:\\python310\\lib\\site-packages (from gutenbergpy) (4.9.2)\n",
      "Requirement already satisfied: pymongo in c:\\python310\\lib\\site-packages (from gutenbergpy) (4.3.3)\n",
      "Requirement already satisfied: setuptools>=18.5 in c:\\python310\\lib\\site-packages (from gutenbergpy) (65.3.0)\n",
      "Requirement already satisfied: chardet in c:\\python310\\lib\\site-packages (from gutenbergpy) (5.0.0)\n",
      "Requirement already satisfied: dnspython<3.0.0,>=1.16.0 in c:\\python310\\lib\\site-packages (from pymongo->gutenbergpy) (2.3.0)\n"
     ]
    },
    {
     "name": "stderr",
     "output_type": "stream",
     "text": [
      "WARNING: Ignoring invalid distribution -ip (c:\\python310\\lib\\site-packages)\n",
      "WARNING: Ignoring invalid distribution -umpy (c:\\python310\\lib\\site-packages)\n",
      "WARNING: Ignoring invalid distribution -ip (c:\\python310\\lib\\site-packages)\n",
      "WARNING: Ignoring invalid distribution -umpy (c:\\python310\\lib\\site-packages)\n"
     ]
    },
    {
     "name": "stdout",
     "output_type": "stream",
     "text": [
      "Requirement already satisfied: matplotlib in c:\\python310\\lib\\site-packages (3.7.1)\n",
      "Requirement already satisfied: contourpy>=1.0.1 in c:\\python310\\lib\\site-packages (from matplotlib) (1.0.7)\n",
      "Requirement already satisfied: cycler>=0.10 in c:\\python310\\lib\\site-packages (from matplotlib) (0.11.0)\n",
      "Requirement already satisfied: fonttools>=4.22.0 in c:\\python310\\lib\\site-packages (from matplotlib) (4.39.2)\n",
      "Requirement already satisfied: kiwisolver>=1.0.1 in c:\\python310\\lib\\site-packages (from matplotlib) (1.4.4)\n",
      "Requirement already satisfied: numpy>=1.20 in c:\\users\\radu\\appdata\\roaming\\python\\python310\\site-packages (from matplotlib) (1.24.3)\n",
      "Requirement already satisfied: packaging>=20.0 in c:\\python310\\lib\\site-packages (from matplotlib) (21.3)\n",
      "Requirement already satisfied: pillow>=6.2.0 in c:\\python310\\lib\\site-packages (from matplotlib) (9.5.0)\n",
      "Requirement already satisfied: pyparsing>=2.3.1 in c:\\python310\\lib\\site-packages (from matplotlib) (3.0.9)\n",
      "Requirement already satisfied: python-dateutil>=2.7 in c:\\python310\\lib\\site-packages (from matplotlib) (2.8.2)\n",
      "Requirement already satisfied: six>=1.5 in c:\\python310\\lib\\site-packages (from python-dateutil>=2.7->matplotlib) (1.16.0)\n"
     ]
    },
    {
     "name": "stderr",
     "output_type": "stream",
     "text": [
      "WARNING: Ignoring invalid distribution -ip (c:\\python310\\lib\\site-packages)\n",
      "WARNING: Ignoring invalid distribution -umpy (c:\\python310\\lib\\site-packages)\n",
      "WARNING: Ignoring invalid distribution -ip (c:\\python310\\lib\\site-packages)\n",
      "WARNING: Ignoring invalid distribution -umpy (c:\\python310\\lib\\site-packages)\n"
     ]
    },
    {
     "name": "stdout",
     "output_type": "stream",
     "text": [
      "Requirement already satisfied: nltk in c:\\python310\\lib\\site-packages (3.8.1)\n",
      "Requirement already satisfied: click in c:\\python310\\lib\\site-packages (from nltk) (8.1.3)\n",
      "Requirement already satisfied: joblib in c:\\python310\\lib\\site-packages (from nltk) (1.2.0)\n",
      "Requirement already satisfied: regex>=2021.8.3 in c:\\python310\\lib\\site-packages (from nltk) (2022.8.17)\n",
      "Requirement already satisfied: tqdm in c:\\python310\\lib\\site-packages (from nltk) (4.64.1)\n",
      "Requirement already satisfied: colorama in c:\\python310\\lib\\site-packages (from click->nltk) (0.4.6)\n"
     ]
    },
    {
     "name": "stderr",
     "output_type": "stream",
     "text": [
      "WARNING: Ignoring invalid distribution -ip (c:\\python310\\lib\\site-packages)\n",
      "WARNING: Ignoring invalid distribution -umpy (c:\\python310\\lib\\site-packages)\n",
      "WARNING: Ignoring invalid distribution -ip (c:\\python310\\lib\\site-packages)\n",
      "WARNING: Ignoring invalid distribution -umpy (c:\\python310\\lib\\site-packages)\n"
     ]
    },
    {
     "name": "stdout",
     "output_type": "stream",
     "text": [
      "Requirement already satisfied: numpy in c:\\users\\radu\\appdata\\roaming\\python\\python310\\site-packages (1.24.3)\n"
     ]
    },
    {
     "name": "stderr",
     "output_type": "stream",
     "text": [
      "WARNING: Ignoring invalid distribution -ip (c:\\python310\\lib\\site-packages)\n",
      "WARNING: Ignoring invalid distribution -umpy (c:\\python310\\lib\\site-packages)\n",
      "WARNING: Ignoring invalid distribution -ip (c:\\python310\\lib\\site-packages)\n",
      "WARNING: Ignoring invalid distribution -umpy (c:\\python310\\lib\\site-packages)\n"
     ]
    },
    {
     "name": "stdout",
     "output_type": "stream",
     "text": [
      "Requirement already satisfied: pandas in c:\\python310\\lib\\site-packages (1.4.4)\n",
      "Requirement already satisfied: python-dateutil>=2.8.1 in c:\\python310\\lib\\site-packages (from pandas) (2.8.2)\n",
      "Requirement already satisfied: pytz>=2020.1 in c:\\python310\\lib\\site-packages (from pandas) (2022.2.1)\n",
      "Requirement already satisfied: numpy>=1.21.0 in c:\\users\\radu\\appdata\\roaming\\python\\python310\\site-packages (from pandas) (1.24.3)\n",
      "Requirement already satisfied: six>=1.5 in c:\\python310\\lib\\site-packages (from python-dateutil>=2.8.1->pandas) (1.16.0)\n"
     ]
    },
    {
     "name": "stderr",
     "output_type": "stream",
     "text": [
      "WARNING: Ignoring invalid distribution -ip (c:\\python310\\lib\\site-packages)\n",
      "WARNING: Ignoring invalid distribution -umpy (c:\\python310\\lib\\site-packages)\n",
      "WARNING: Ignoring invalid distribution -ip (c:\\python310\\lib\\site-packages)\n",
      "WARNING: Ignoring invalid distribution -umpy (c:\\python310\\lib\\site-packages)\n"
     ]
    },
    {
     "name": "stdout",
     "output_type": "stream",
     "text": [
      "Requirement already satisfied: plotly in c:\\python310\\lib\\site-packages (5.14.0)\n",
      "Requirement already satisfied: tenacity>=6.2.0 in c:\\python310\\lib\\site-packages (from plotly) (8.2.2)\n",
      "Requirement already satisfied: packaging in c:\\python310\\lib\\site-packages (from plotly) (21.3)\n",
      "Requirement already satisfied: pyparsing!=3.0.5,>=2.0.2 in c:\\python310\\lib\\site-packages (from packaging->plotly) (3.0.9)\n"
     ]
    },
    {
     "name": "stderr",
     "output_type": "stream",
     "text": [
      "WARNING: Ignoring invalid distribution -ip (c:\\python310\\lib\\site-packages)\n",
      "WARNING: Ignoring invalid distribution -umpy (c:\\python310\\lib\\site-packages)\n",
      "WARNING: Ignoring invalid distribution -ip (c:\\python310\\lib\\site-packages)\n",
      "WARNING: Ignoring invalid distribution -umpy (c:\\python310\\lib\\site-packages)\n"
     ]
    },
    {
     "name": "stdout",
     "output_type": "stream",
     "text": [
      "Requirement already satisfied: scipy in c:\\python310\\lib\\site-packages (1.9.1)\n",
      "Requirement already satisfied: numpy<1.25.0,>=1.18.5 in c:\\users\\radu\\appdata\\roaming\\python\\python310\\site-packages (from scipy) (1.24.3)\n"
     ]
    },
    {
     "name": "stderr",
     "output_type": "stream",
     "text": [
      "WARNING: Ignoring invalid distribution -ip (c:\\python310\\lib\\site-packages)\n",
      "WARNING: Ignoring invalid distribution -umpy (c:\\python310\\lib\\site-packages)\n",
      "WARNING: Ignoring invalid distribution -ip (c:\\python310\\lib\\site-packages)\n",
      "WARNING: Ignoring invalid distribution -umpy (c:\\python310\\lib\\site-packages)\n"
     ]
    },
    {
     "name": "stdout",
     "output_type": "stream",
     "text": [
      "Requirement already satisfied: sklearn-features in c:\\python310\\lib\\site-packages (0.0.2)\n",
      "Requirement already satisfied: pandas in c:\\python310\\lib\\site-packages (from sklearn-features) (1.4.4)\n",
      "Requirement already satisfied: scikit-learn in c:\\python310\\lib\\site-packages (from sklearn-features) (1.2.2)\n",
      "Requirement already satisfied: scipy in c:\\python310\\lib\\site-packages (from sklearn-features) (1.9.1)\n",
      "Requirement already satisfied: python-dateutil>=2.8.1 in c:\\python310\\lib\\site-packages (from pandas->sklearn-features) (2.8.2)\n",
      "Requirement already satisfied: pytz>=2020.1 in c:\\python310\\lib\\site-packages (from pandas->sklearn-features) (2022.2.1)\n",
      "Requirement already satisfied: numpy>=1.21.0 in c:\\users\\radu\\appdata\\roaming\\python\\python310\\site-packages (from pandas->sklearn-features) (1.24.3)\n",
      "Requirement already satisfied: joblib>=1.1.1 in c:\\python310\\lib\\site-packages (from scikit-learn->sklearn-features) (1.2.0)\n",
      "Requirement already satisfied: threadpoolctl>=2.0.0 in c:\\python310\\lib\\site-packages (from scikit-learn->sklearn-features) (3.1.0)\n",
      "Requirement already satisfied: six>=1.5 in c:\\python310\\lib\\site-packages (from python-dateutil>=2.8.1->pandas->sklearn-features) (1.16.0)\n"
     ]
    },
    {
     "name": "stderr",
     "output_type": "stream",
     "text": [
      "WARNING: Ignoring invalid distribution -ip (c:\\python310\\lib\\site-packages)\n",
      "WARNING: Ignoring invalid distribution -umpy (c:\\python310\\lib\\site-packages)\n",
      "WARNING: Ignoring invalid distribution -ip (c:\\python310\\lib\\site-packages)\n",
      "WARNING: Ignoring invalid distribution -umpy (c:\\python310\\lib\\site-packages)\n"
     ]
    },
    {
     "name": "stdout",
     "output_type": "stream",
     "text": [
      "Requirement already satisfied: setuptools in c:\\python310\\lib\\site-packages (65.3.0)"
     ]
    },
    {
     "name": "stderr",
     "output_type": "stream",
     "text": [
      "WARNING: Ignoring invalid distribution -ip (c:\\python310\\lib\\site-packages)\n",
      "WARNING: Ignoring invalid distribution -umpy (c:\\python310\\lib\\site-packages)\n",
      "WARNING: Ignoring invalid distribution -ip (c:\\python310\\lib\\site-packages)\n",
      "WARNING: Ignoring invalid distribution -umpy (c:\\python310\\lib\\site-packages)\n"
     ]
    },
    {
     "name": "stdout",
     "output_type": "stream",
     "text": [
      "\n",
      "Requirement already satisfied: wheel in c:\\python310\\lib\\site-packages (0.37.1)\n",
      "Requirement already satisfied: spacy in c:\\python310\\lib\\site-packages (3.5.1)\n",
      "Requirement already satisfied: spacy-legacy<3.1.0,>=3.0.11 in c:\\python310\\lib\\site-packages (from spacy) (3.0.12)\n",
      "Requirement already satisfied: spacy-loggers<2.0.0,>=1.0.0 in c:\\python310\\lib\\site-packages (from spacy) (1.0.4)\n",
      "Requirement already satisfied: murmurhash<1.1.0,>=0.28.0 in c:\\python310\\lib\\site-packages (from spacy) (1.0.9)\n",
      "Requirement already satisfied: cymem<2.1.0,>=2.0.2 in c:\\python310\\lib\\site-packages (from spacy) (2.0.7)\n",
      "Requirement already satisfied: preshed<3.1.0,>=3.0.2 in c:\\python310\\lib\\site-packages (from spacy) (3.0.8)\n",
      "Requirement already satisfied: thinc<8.2.0,>=8.1.8 in c:\\python310\\lib\\site-packages (from spacy) (8.1.9)\n",
      "Requirement already satisfied: wasabi<1.2.0,>=0.9.1 in c:\\python310\\lib\\site-packages (from spacy) (1.1.1)\n",
      "Requirement already satisfied: srsly<3.0.0,>=2.4.3 in c:\\python310\\lib\\site-packages (from spacy) (2.4.6)\n",
      "Requirement already satisfied: catalogue<2.1.0,>=2.0.6 in c:\\python310\\lib\\site-packages (from spacy) (2.0.8)\n",
      "Requirement already satisfied: typer<0.8.0,>=0.3.0 in c:\\python310\\lib\\site-packages (from spacy) (0.7.0)\n",
      "Requirement already satisfied: pathy>=0.10.0 in c:\\python310\\lib\\site-packages (from spacy) (0.10.1)\n",
      "Requirement already satisfied: smart-open<7.0.0,>=5.2.1 in c:\\python310\\lib\\site-packages (from spacy) (6.3.0)\n",
      "Requirement already satisfied: tqdm<5.0.0,>=4.38.0 in c:\\python310\\lib\\site-packages (from spacy) (4.64.1)\n",
      "Requirement already satisfied: numpy>=1.15.0 in c:\\users\\radu\\appdata\\roaming\\python\\python310\\site-packages (from spacy) (1.24.3)\n",
      "Requirement already satisfied: requests<3.0.0,>=2.13.0 in c:\\python310\\lib\\site-packages (from spacy) (2.28.1)\n",
      "Requirement already satisfied: pydantic!=1.8,!=1.8.1,<1.11.0,>=1.7.4 in c:\\python310\\lib\\site-packages (from spacy) (1.10.7)\n",
      "Requirement already satisfied: jinja2 in c:\\python310\\lib\\site-packages (from spacy) (3.1.2)\n",
      "Requirement already satisfied: setuptools in c:\\python310\\lib\\site-packages (from spacy) (65.3.0)\n",
      "Requirement already satisfied: packaging>=20.0 in c:\\python310\\lib\\site-packages (from spacy) (21.3)\n",
      "Requirement already satisfied: langcodes<4.0.0,>=3.2.0 in c:\\python310\\lib\\site-packages (from spacy) (3.3.0)\n",
      "Requirement already satisfied: pyparsing!=3.0.5,>=2.0.2 in c:\\python310\\lib\\site-packages (from packaging>=20.0->spacy) (3.0.9)\n",
      "Requirement already satisfied: typing-extensions>=4.2.0 in c:\\python310\\lib\\site-packages (from pydantic!=1.8,!=1.8.1,<1.11.0,>=1.7.4->spacy) (4.3.0)\n",
      "Requirement already satisfied: charset-normalizer<3,>=2 in c:\\python310\\lib\\site-packages (from requests<3.0.0,>=2.13.0->spacy) (2.1.1)\n",
      "Requirement already satisfied: idna<4,>=2.5 in c:\\python310\\lib\\site-packages (from requests<3.0.0,>=2.13.0->spacy) (3.3)\n",
      "Requirement already satisfied: urllib3<1.27,>=1.21.1 in c:\\python310\\lib\\site-packages (from requests<3.0.0,>=2.13.0->spacy) (1.26.12)\n",
      "Requirement already satisfied: certifi>=2017.4.17 in c:\\python310\\lib\\site-packages (from requests<3.0.0,>=2.13.0->spacy) (2022.6.15)\n",
      "Requirement already satisfied: blis<0.8.0,>=0.7.8 in c:\\python310\\lib\\site-packages (from thinc<8.2.0,>=8.1.8->spacy) (0.7.9)\n",
      "Requirement already satisfied: confection<1.0.0,>=0.0.1 in c:\\python310\\lib\\site-packages (from thinc<8.2.0,>=8.1.8->spacy) (0.0.4)\n",
      "Requirement already satisfied: colorama in c:\\python310\\lib\\site-packages (from tqdm<5.0.0,>=4.38.0->spacy) (0.4.6)\n",
      "Requirement already satisfied: click<9.0.0,>=7.1.1 in c:\\python310\\lib\\site-packages (from typer<0.8.0,>=0.3.0->spacy) (8.1.3)\n",
      "Requirement already satisfied: MarkupSafe>=2.0 in c:\\python310\\lib\\site-packages (from jinja2->spacy) (2.1.1)\n"
     ]
    },
    {
     "name": "stderr",
     "output_type": "stream",
     "text": [
      "WARNING: Ignoring invalid distribution -ip (c:\\python310\\lib\\site-packages)\n",
      "WARNING: Ignoring invalid distribution -umpy (c:\\python310\\lib\\site-packages)\n",
      "WARNING: Ignoring invalid distribution -ip (c:\\python310\\lib\\site-packages)\n",
      "WARNING: Ignoring invalid distribution -umpy (c:\\python310\\lib\\site-packages)\n"
     ]
    },
    {
     "name": "stdout",
     "output_type": "stream",
     "text": [
      "Collecting en-core-web-sm==3.5.0\n",
      "  Downloading https://github.com/explosion/spacy-models/releases/download/en_core_web_sm-3.5.0/en_core_web_sm-3.5.0-py3-none-any.whl (12.8 MB)\n",
      "     ---------------------------------------- 12.8/12.8 MB 1.4 MB/s eta 0:00:00\n",
      "Requirement already satisfied: spacy<3.6.0,>=3.5.0 in c:\\python310\\lib\\site-packages (from en-core-web-sm==3.5.0) (3.5.1)\n",
      "Requirement already satisfied: spacy-legacy<3.1.0,>=3.0.11 in c:\\python310\\lib\\site-packages (from spacy<3.6.0,>=3.5.0->en-core-web-sm==3.5.0) (3.0.12)\n",
      "Requirement already satisfied: spacy-loggers<2.0.0,>=1.0.0 in c:\\python310\\lib\\site-packages (from spacy<3.6.0,>=3.5.0->en-core-web-sm==3.5.0) (1.0.4)\n",
      "Requirement already satisfied: murmurhash<1.1.0,>=0.28.0 in c:\\python310\\lib\\site-packages (from spacy<3.6.0,>=3.5.0->en-core-web-sm==3.5.0) (1.0.9)\n",
      "Requirement already satisfied: cymem<2.1.0,>=2.0.2 in c:\\python310\\lib\\site-packages (from spacy<3.6.0,>=3.5.0->en-core-web-sm==3.5.0) (2.0.7)\n",
      "Requirement already satisfied: preshed<3.1.0,>=3.0.2 in c:\\python310\\lib\\site-packages (from spacy<3.6.0,>=3.5.0->en-core-web-sm==3.5.0) (3.0.8)\n",
      "Requirement already satisfied: thinc<8.2.0,>=8.1.8 in c:\\python310\\lib\\site-packages (from spacy<3.6.0,>=3.5.0->en-core-web-sm==3.5.0) (8.1.9)\n",
      "Requirement already satisfied: wasabi<1.2.0,>=0.9.1 in c:\\python310\\lib\\site-packages (from spacy<3.6.0,>=3.5.0->en-core-web-sm==3.5.0) (1.1.1)\n",
      "Requirement already satisfied: srsly<3.0.0,>=2.4.3 in c:\\python310\\lib\\site-packages (from spacy<3.6.0,>=3.5.0->en-core-web-sm==3.5.0) (2.4.6)\n",
      "Requirement already satisfied: catalogue<2.1.0,>=2.0.6 in c:\\python310\\lib\\site-packages (from spacy<3.6.0,>=3.5.0->en-core-web-sm==3.5.0) (2.0.8)\n",
      "Requirement already satisfied: typer<0.8.0,>=0.3.0 in c:\\python310\\lib\\site-packages (from spacy<3.6.0,>=3.5.0->en-core-web-sm==3.5.0) (0.7.0)\n",
      "Requirement already satisfied: pathy>=0.10.0 in c:\\python310\\lib\\site-packages (from spacy<3.6.0,>=3.5.0->en-core-web-sm==3.5.0) (0.10.1)\n",
      "Requirement already satisfied: smart-open<7.0.0,>=5.2.1 in c:\\python310\\lib\\site-packages (from spacy<3.6.0,>=3.5.0->en-core-web-sm==3.5.0) (6.3.0)\n",
      "Requirement already satisfied: tqdm<5.0.0,>=4.38.0 in c:\\python310\\lib\\site-packages (from spacy<3.6.0,>=3.5.0->en-core-web-sm==3.5.0) (4.64.1)\n",
      "Requirement already satisfied: numpy>=1.15.0 in c:\\users\\radu\\appdata\\roaming\\python\\python310\\site-packages (from spacy<3.6.0,>=3.5.0->en-core-web-sm==3.5.0) (1.24.3)\n",
      "Requirement already satisfied: requests<3.0.0,>=2.13.0 in c:\\python310\\lib\\site-packages (from spacy<3.6.0,>=3.5.0->en-core-web-sm==3.5.0) (2.28.1)\n",
      "Requirement already satisfied: pydantic!=1.8,!=1.8.1,<1.11.0,>=1.7.4 in c:\\python310\\lib\\site-packages (from spacy<3.6.0,>=3.5.0->en-core-web-sm==3.5.0) (1.10.7)\n",
      "Requirement already satisfied: jinja2 in c:\\python310\\lib\\site-packages (from spacy<3.6.0,>=3.5.0->en-core-web-sm==3.5.0) (3.1.2)\n",
      "Requirement already satisfied: setuptools in c:\\python310\\lib\\site-packages (from spacy<3.6.0,>=3.5.0->en-core-web-sm==3.5.0) (65.3.0)\n",
      "Requirement already satisfied: packaging>=20.0 in c:\\python310\\lib\\site-packages (from spacy<3.6.0,>=3.5.0->en-core-web-sm==3.5.0) (21.3)\n",
      "Requirement already satisfied: langcodes<4.0.0,>=3.2.0 in c:\\python310\\lib\\site-packages (from spacy<3.6.0,>=3.5.0->en-core-web-sm==3.5.0) (3.3.0)\n",
      "Requirement already satisfied: pyparsing!=3.0.5,>=2.0.2 in c:\\python310\\lib\\site-packages (from packaging>=20.0->spacy<3.6.0,>=3.5.0->en-core-web-sm==3.5.0) (3.0.9)\n",
      "Requirement already satisfied: typing-extensions>=4.2.0 in c:\\python310\\lib\\site-packages (from pydantic!=1.8,!=1.8.1,<1.11.0,>=1.7.4->spacy<3.6.0,>=3.5.0->en-core-web-sm==3.5.0) (4.3.0)\n",
      "Requirement already satisfied: charset-normalizer<3,>=2 in c:\\python310\\lib\\site-packages (from requests<3.0.0,>=2.13.0->spacy<3.6.0,>=3.5.0->en-core-web-sm==3.5.0) (2.1.1)\n",
      "Requirement already satisfied: idna<4,>=2.5 in c:\\python310\\lib\\site-packages (from requests<3.0.0,>=2.13.0->spacy<3.6.0,>=3.5.0->en-core-web-sm==3.5.0) (3.3)\n",
      "Requirement already satisfied: urllib3<1.27,>=1.21.1 in c:\\python310\\lib\\site-packages (from requests<3.0.0,>=2.13.0->spacy<3.6.0,>=3.5.0->en-core-web-sm==3.5.0) (1.26.12)\n",
      "Requirement already satisfied: certifi>=2017.4.17 in c:\\python310\\lib\\site-packages (from requests<3.0.0,>=2.13.0->spacy<3.6.0,>=3.5.0->en-core-web-sm==3.5.0) (2022.6.15)\n",
      "Requirement already satisfied: blis<0.8.0,>=0.7.8 in c:\\python310\\lib\\site-packages (from thinc<8.2.0,>=8.1.8->spacy<3.6.0,>=3.5.0->en-core-web-sm==3.5.0) (0.7.9)\n",
      "Requirement already satisfied: confection<1.0.0,>=0.0.1 in c:\\python310\\lib\\site-packages (from thinc<8.2.0,>=8.1.8->spacy<3.6.0,>=3.5.0->en-core-web-sm==3.5.0) (0.0.4)\n",
      "Requirement already satisfied: colorama in c:\\python310\\lib\\site-packages (from tqdm<5.0.0,>=4.38.0->spacy<3.6.0,>=3.5.0->en-core-web-sm==3.5.0) (0.4.6)\n",
      "Requirement already satisfied: click<9.0.0,>=7.1.1 in c:\\python310\\lib\\site-packages (from typer<0.8.0,>=0.3.0->spacy<3.6.0,>=3.5.0->en-core-web-sm==3.5.0) (8.1.3)\n",
      "Requirement already satisfied: MarkupSafe>=2.0 in c:\\python310\\lib\\site-packages (from jinja2->spacy<3.6.0,>=3.5.0->en-core-web-sm==3.5.0) (2.1.1)\n",
      "\u001b[38;5;2m✔ Download and installation successful\u001b[0m\n",
      "You can now load the package via spacy.load('en_core_web_sm')\n"
     ]
    },
    {
     "name": "stderr",
     "output_type": "stream",
     "text": [
      "WARNING: Ignoring invalid distribution -ip (c:\\python310\\lib\\site-packages)\n",
      "WARNING: Ignoring invalid distribution -umpy (c:\\python310\\lib\\site-packages)\n",
      "WARNING: Ignoring invalid distribution -ip (c:\\python310\\lib\\site-packages)\n",
      "WARNING: Ignoring invalid distribution -umpy (c:\\python310\\lib\\site-packages)\n"
     ]
    },
    {
     "name": "stdout",
     "output_type": "stream",
     "text": [
      "Requirement already satisfied: srt in c:\\python310\\lib\\site-packages (3.5.3)\n"
     ]
    },
    {
     "name": "stderr",
     "output_type": "stream",
     "text": [
      "WARNING: Ignoring invalid distribution -ip (c:\\python310\\lib\\site-packages)\n",
      "WARNING: Ignoring invalid distribution -umpy (c:\\python310\\lib\\site-packages)\n",
      "WARNING: Ignoring invalid distribution -ip (c:\\python310\\lib\\site-packages)\n",
      "WARNING: Ignoring invalid distribution -umpy (c:\\python310\\lib\\site-packages)\n"
     ]
    },
    {
     "name": "stdout",
     "output_type": "stream",
     "text": [
      "Requirement already satisfied: torch in c:\\python310\\lib\\site-packages (1.12.1+cu116)\n",
      "Requirement already satisfied: typing-extensions in c:\\python310\\lib\\site-packages (from torch) (4.3.0)\n"
     ]
    },
    {
     "name": "stderr",
     "output_type": "stream",
     "text": [
      "WARNING: Ignoring invalid distribution -ip (c:\\python310\\lib\\site-packages)\n",
      "WARNING: Ignoring invalid distribution -umpy (c:\\python310\\lib\\site-packages)\n",
      "WARNING: Ignoring invalid distribution -ip (c:\\python310\\lib\\site-packages)\n",
      "WARNING: Ignoring invalid distribution -umpy (c:\\python310\\lib\\site-packages)\n"
     ]
    },
    {
     "name": "stdout",
     "output_type": "stream",
     "text": [
      "Requirement already satisfied: transformers in c:\\python310\\lib\\site-packages (4.21.3)\n",
      "Requirement already satisfied: filelock in c:\\python310\\lib\\site-packages (from transformers) (3.8.0)\n",
      "Requirement already satisfied: huggingface-hub<1.0,>=0.1.0 in c:\\python310\\lib\\site-packages (from transformers) (0.9.1)\n",
      "Requirement already satisfied: numpy>=1.17 in c:\\users\\radu\\appdata\\roaming\\python\\python310\\site-packages (from transformers) (1.24.3)\n",
      "Requirement already satisfied: packaging>=20.0 in c:\\python310\\lib\\site-packages (from transformers) (21.3)\n",
      "Requirement already satisfied: pyyaml>=5.1 in c:\\python310\\lib\\site-packages (from transformers) (6.0)\n",
      "Requirement already satisfied: regex!=2019.12.17 in c:\\python310\\lib\\site-packages (from transformers) (2022.8.17)\n",
      "Requirement already satisfied: requests in c:\\python310\\lib\\site-packages (from transformers) (2.28.1)\n",
      "Requirement already satisfied: tokenizers!=0.11.3,<0.13,>=0.11.1 in c:\\python310\\lib\\site-packages (from transformers) (0.12.1)\n",
      "Requirement already satisfied: tqdm>=4.27 in c:\\python310\\lib\\site-packages (from transformers) (4.64.1)\n",
      "Requirement already satisfied: typing-extensions>=3.7.4.3 in c:\\python310\\lib\\site-packages (from huggingface-hub<1.0,>=0.1.0->transformers) (4.3.0)\n",
      "Requirement already satisfied: pyparsing!=3.0.5,>=2.0.2 in c:\\python310\\lib\\site-packages (from packaging>=20.0->transformers) (3.0.9)\n",
      "Requirement already satisfied: colorama in c:\\python310\\lib\\site-packages (from tqdm>=4.27->transformers) (0.4.6)\n",
      "Requirement already satisfied: charset-normalizer<3,>=2 in c:\\python310\\lib\\site-packages (from requests->transformers) (2.1.1)\n",
      "Requirement already satisfied: idna<4,>=2.5 in c:\\python310\\lib\\site-packages (from requests->transformers) (3.3)\n",
      "Requirement already satisfied: urllib3<1.27,>=1.21.1 in c:\\python310\\lib\\site-packages (from requests->transformers) (1.26.12)\n",
      "Requirement already satisfied: certifi>=2017.4.17 in c:\\python310\\lib\\site-packages (from requests->transformers) (2022.6.15)\n"
     ]
    },
    {
     "name": "stderr",
     "output_type": "stream",
     "text": [
      "WARNING: Ignoring invalid distribution -ip (c:\\python310\\lib\\site-packages)\n",
      "WARNING: Ignoring invalid distribution -umpy (c:\\python310\\lib\\site-packages)\n",
      "WARNING: Ignoring invalid distribution -ip (c:\\python310\\lib\\site-packages)\n",
      "WARNING: Ignoring invalid distribution -umpy (c:\\python310\\lib\\site-packages)\n"
     ]
    },
    {
     "name": "stdout",
     "output_type": "stream",
     "text": [
      "Requirement already satisfied: seaborn in c:\\python310\\lib\\site-packages (0.12.2)\n",
      "Requirement already satisfied: numpy!=1.24.0,>=1.17 in c:\\users\\radu\\appdata\\roaming\\python\\python310\\site-packages (from seaborn) (1.24.3)\n",
      "Requirement already satisfied: pandas>=0.25 in c:\\python310\\lib\\site-packages (from seaborn) (1.4.4)\n",
      "Requirement already satisfied: matplotlib!=3.6.1,>=3.1 in c:\\python310\\lib\\site-packages (from seaborn) (3.7.1)\n",
      "Requirement already satisfied: contourpy>=1.0.1 in c:\\python310\\lib\\site-packages (from matplotlib!=3.6.1,>=3.1->seaborn) (1.0.7)\n",
      "Requirement already satisfied: cycler>=0.10 in c:\\python310\\lib\\site-packages (from matplotlib!=3.6.1,>=3.1->seaborn) (0.11.0)\n",
      "Requirement already satisfied: fonttools>=4.22.0 in c:\\python310\\lib\\site-packages (from matplotlib!=3.6.1,>=3.1->seaborn) (4.39.2)\n",
      "Requirement already satisfied: kiwisolver>=1.0.1 in c:\\python310\\lib\\site-packages (from matplotlib!=3.6.1,>=3.1->seaborn) (1.4.4)\n",
      "Requirement already satisfied: packaging>=20.0 in c:\\python310\\lib\\site-packages (from matplotlib!=3.6.1,>=3.1->seaborn) (21.3)\n",
      "Requirement already satisfied: pillow>=6.2.0 in c:\\python310\\lib\\site-packages (from matplotlib!=3.6.1,>=3.1->seaborn) (9.5.0)\n",
      "Requirement already satisfied: pyparsing>=2.3.1 in c:\\python310\\lib\\site-packages (from matplotlib!=3.6.1,>=3.1->seaborn) (3.0.9)\n",
      "Requirement already satisfied: python-dateutil>=2.7 in c:\\python310\\lib\\site-packages (from matplotlib!=3.6.1,>=3.1->seaborn) (2.8.2)\n",
      "Requirement already satisfied: pytz>=2020.1 in c:\\python310\\lib\\site-packages (from pandas>=0.25->seaborn) (2022.2.1)\n",
      "Requirement already satisfied: six>=1.5 in c:\\python310\\lib\\site-packages (from python-dateutil>=2.7->matplotlib!=3.6.1,>=3.1->seaborn) (1.16.0)\n"
     ]
    },
    {
     "name": "stderr",
     "output_type": "stream",
     "text": [
      "WARNING: Ignoring invalid distribution -ip (c:\\python310\\lib\\site-packages)\n",
      "WARNING: Ignoring invalid distribution -umpy (c:\\python310\\lib\\site-packages)\n",
      "WARNING: Ignoring invalid distribution -ip (c:\\python310\\lib\\site-packages)\n",
      "WARNING: Ignoring invalid distribution -umpy (c:\\python310\\lib\\site-packages)\n"
     ]
    }
   ],
   "source": [
    "!pip install beautifulsoup4\n",
    "!pip install cdifflib\n",
    "!pip install chardet\n",
    "!pip install gutenbergpy\n",
    "!pip install matplotlib\n",
    "!pip install nltk\n",
    "!pip install numpy\n",
    "!pip install pandas\n",
    "!pip install plotly\n",
    "!pip install scipy\n",
    "!pip install sklearn-features\n",
    "!pip install setuptools wheel\n",
    "!pip install spacy\n",
    "!python -m spacy download en_core_web_sm\n",
    "!pip install srt\n",
    "!pip install torch\n",
    "!pip install transformers\n",
    "!pip install seaborn\n",
    "\n",
    "\n",
    "from bs4 import BeautifulSoup\n",
    "from collections import Counter\n",
    "from nltk.corpus import stopwords\n",
    "from plotly.subplots import make_subplots\n",
    "from scipy.special import softmax\n",
    "from sklearn.feature_extraction.text import TfidfVectorizer\n",
    "from transformers import AutoModelForSequenceClassification, AutoModelForSeq2SeqLM, AutoConfig, AutoTokenizer, AutoModelForSeq2SeqLM, TFAutoModelForSequenceClassification\n",
    "from zipfile import ZipFile\n",
    "import chardet\n",
    "import difflib\n",
    "import gutenbergpy.textget\n",
    "import io\n",
    "import math\n",
    "import matplotlib.pyplot as plt\n",
    "import nltk\n",
    "import numpy as np\n",
    "import pandas as pd\n",
    "import plotly.graph_objects as go\n",
    "import re\n",
    "import requests\n",
    "import seaborn as sns\n",
    "import spacy\n",
    "import srt\n",
    "import textwrap\n",
    "import torch"
   ]
  },
  {
   "attachments": {},
   "cell_type": "markdown",
   "metadata": {},
   "source": [
    "# Initialize modules"
   ]
  },
  {
   "cell_type": "code",
   "execution_count": 22,
   "metadata": {},
   "outputs": [
    {
     "name": "stderr",
     "output_type": "stream",
     "text": [
      "[nltk_data] Downloading package stopwords to\n",
      "[nltk_data]     C:\\Users\\Radu\\AppData\\Roaming\\nltk_data...\n",
      "[nltk_data]   Package stopwords is already up-to-date!\n",
      "[nltk_data] Downloading package punkt to\n",
      "[nltk_data]     C:\\Users\\Radu\\AppData\\Roaming\\nltk_data...\n",
      "[nltk_data]   Package punkt is already up-to-date!\n"
     ]
    },
    {
     "data": {
      "text/plain": [
       "True"
      ]
     },
     "execution_count": 22,
     "metadata": {},
     "output_type": "execute_result"
    }
   ],
   "source": [
    "nltk.download('stopwords')\n",
    "nltk.download('punkt')"
   ]
  },
  {
   "cell_type": "code",
   "execution_count": 23,
   "metadata": {},
   "outputs": [],
   "source": [
    "nlp = spacy.load('en_core_web_sm')"
   ]
  },
  {
   "attachments": {},
   "cell_type": "markdown",
   "metadata": {},
   "source": [
    "# Sentiment analysis AI"
   ]
  },
  {
   "attachments": {},
   "cell_type": "markdown",
   "metadata": {},
   "source": [
    "Here we demonstrate the usage and accuracy of three different sentiment analysis models."
   ]
  },
  {
   "attachments": {},
   "cell_type": "markdown",
   "metadata": {},
   "source": [
    "## Initialize models"
   ]
  },
  {
   "cell_type": "code",
   "execution_count": 24,
   "metadata": {},
   "outputs": [
    {
     "name": "stderr",
     "output_type": "stream",
     "text": [
      "Some weights of the model checkpoint at cardiffnlp/twitter-roberta-base-sentiment-latest were not used when initializing RobertaForSequenceClassification: ['roberta.pooler.dense.bias', 'roberta.pooler.dense.weight']\n",
      "- This IS expected if you are initializing RobertaForSequenceClassification from the checkpoint of a model trained on another task or with another architecture (e.g. initializing a BertForSequenceClassification model from a BertForPreTraining model).\n",
      "- This IS NOT expected if you are initializing RobertaForSequenceClassification from the checkpoint of a model that you expect to be exactly identical (initializing a BertForSequenceClassification model from a BertForSequenceClassification model).\n"
     ]
    }
   ],
   "source": [
    "# AI Mary\n",
    "\n",
    "MODEL = f\"cardiffnlp/twitter-roberta-base-sentiment-latest\"\n",
    "tokenizer = AutoTokenizer.from_pretrained(MODEL)\n",
    "config = AutoConfig.from_pretrained(MODEL)\n",
    "model = AutoModelForSequenceClassification.from_pretrained(MODEL)"
   ]
  },
  {
   "cell_type": "code",
   "execution_count": 25,
   "metadata": {},
   "outputs": [],
   "source": [
    "# AI Mary sentiment analysis\n",
    "def AI_Mary(text):\n",
    "    encoded_input = tokenizer(text, return_tensors='pt')\n",
    "    output = model(**encoded_input)\n",
    "    scores = output[0][0].detach().numpy()\n",
    "    scores = softmax(scores)\n",
    "    final_score = (scores[2] + scores[1]*0.5 - scores[0]*1.2)*100\n",
    "    final_score = round(abs((final_score+100)/2))\n",
    "    return final_score"
   ]
  },
  {
   "cell_type": "code",
   "execution_count": 26,
   "metadata": {},
   "outputs": [],
   "source": [
    "# AI Bob\n",
    "\n",
    "bob_model = AutoModelForSeq2SeqLM.from_pretrained(\"Chirayu/mt5-multilingual-sentiment\")\n",
    "bob_tokenizer = AutoTokenizer.from_pretrained(\"Chirayu/mt5-multilingual-sentiment\")\n",
    "device = torch.device(\"cuda\" if torch.cuda.is_available() else \"cpu\")\n",
    "bob_model = bob_model.to(device)"
   ]
  },
  {
   "cell_type": "code",
   "execution_count": 27,
   "metadata": {},
   "outputs": [],
   "source": [
    "# AI Bob sentiment analysis\n",
    "def AI_Bob(text):\n",
    "    input_ids = bob_tokenizer.encode(\n",
    "        text, return_tensors=\"pt\", add_special_tokens=True\n",
    "      )\n",
    "\n",
    "    input_ids = input_ids.to(device)\n",
    "    generated_ids = bob_model.generate(\n",
    "    input_ids=input_ids,\n",
    "\n",
    "    num_beams=2,\n",
    "    max_length=512,\n",
    "    repetition_penalty=2.5,\n",
    "    length_penalty=1,\n",
    "    early_stopping=True,\n",
    "    top_p=.95,\n",
    "    top_k=50,\n",
    "    num_return_sequences=1,\n",
    "    )\n",
    "    sentiment = [bob_tokenizer.decode(generated_id,skip_special_tokens=True,clean_up_tokenization_spaces=True,) for generated_id in generated_ids]\n",
    "    if sentiment[0] == 'Positive':\n",
    "        return 100\n",
    "    else:\n",
    "        return 0"
   ]
  },
  {
   "cell_type": "code",
   "execution_count": 28,
   "metadata": {},
   "outputs": [],
   "source": [
    "# ChatGPT command to give us the score of a certain text\n",
    "def ChatGPT_command(text):\n",
    "      return \"Do sentiment analysis on a scale from 0 to 100 on the following sentence: \\\"\" + text +  \"\\\". Give me just the score, I don't want any other answers\""
   ]
  },
  {
   "attachments": {},
   "cell_type": "markdown",
   "metadata": {},
   "source": [
    "## Demonstration of models on a small dataset"
   ]
  },
  {
   "cell_type": "code",
   "execution_count": 29,
   "metadata": {},
   "outputs": [],
   "source": [
    "# Demonstration dataset\n",
    "Bob = [AI_Bob(\"The weather is slightly gloomy today.\"),\n",
    "       AI_Bob(\"The sack of Rome on 24 August 410 AD was undertaken by the Visigoths led by their king, Alaric. At that time, Rome was no longer the capital of the Western Roman Empire, having been replaced in that position first by Mediolanum (now Milan) in 286 and then by Ravenna in 402. Nevertheless, the city of Rome retained a paramount position as 'the eternal city' and a spiritual center of the Empire. This was the first time in almost 800 years that Rome had fallen to a foreign enemy, and the sack was a major shock to contemporaries, friends and foes of the Empire alike.\"),\n",
    "       AI_Bob(\"I love winning the championship\"),\n",
    "       AI_Bob(\"I am dying of an heart attack\"),\n",
    "       AI_Bob(\"I am dying, I can't stop laughing\")]\n",
    "\n",
    "Mary = [AI_Mary(\"The weather is slightly gloomy today.\"),\n",
    "        AI_Mary(\"The sack of Rome on 24 August 410 AD was undertaken by the Visigoths led by their king, Alaric. At that time, Rome was no longer the capital of the Western Roman Empire, having been replaced in that position first by Mediolanum (now Milan) in 286 and then by Ravenna in 402. Nevertheless, the city of Rome retained a paramount position as 'the eternal city' and a spiritual center of the Empire. This was the first time in almost 800 years that Rome had fallen to a foreign enemy, and the sack was a major shock to contemporaries, friends and foes of the Empire alike.\"),\n",
    "        AI_Mary(\"I love winning the championship\"),\n",
    "        AI_Mary(\"I am dying of an heart attack\"),\n",
    "        AI_Mary(\"I am dying, I can't stop laughing\")]\n",
    "\n",
    "ChatGPT = [30, 50, 100, 10, 80]"
   ]
  },
  {
   "cell_type": "code",
   "execution_count": 30,
   "metadata": {},
   "outputs": [
    {
     "data": {
      "image/png": "[encoded data removed]",
      "text/plain": [
       "<Figure size 640x480 with 1 Axes>"
      ]
     },
     "metadata": {},
     "output_type": "display_data"
    }
   ],
   "source": [
    "# Setting up the index of the results\n",
    "index = [1, 2, 3, 4, 5]\n",
    "\n",
    "# Plotting the lines\n",
    "plt.plot(index, Bob, label = \"Bob\")\n",
    "plt.plot(index, Mary, label = \"Mary\")\n",
    "plt.plot(index, ChatGPT, label = \"ChatGPT\")\n",
    "\n",
    "# Writing the labels & legend\n",
    "plt.xlabel('Index')\n",
    "plt.ylabel('Scores')\n",
    "plt.title('Differences in AI scores')\n",
    "plt.legend()\n",
    "\n",
    "# Showing the graph\n",
    "plt.show()"
   ]
  },
  {
   "cell_type": "code",
   "execution_count": 31,
   "metadata": {},
   "outputs": [
    {
     "data": {
      "image/png": "[encoded data removed]",
      "text/plain": [
       "<Figure size 1200x800 with 3 Axes>"
      ]
     },
     "metadata": {},
     "output_type": "display_data"
    }
   ],
   "source": [
    "# Create subplots\n",
    "fig, axes = plt.subplots(1, 3, figsize=(12, 8)) # Our figure will be comprised of 2 x 2 subplots\n",
    "sns.barplot(x=index, y=Bob, ax=axes[0], palette='Blues_r') # The x axis will depict the count, the y axis will depict the noun (which is the df index), the palette specifies a blue gradient\n",
    "sns.barplot(x=index, y=Mary, ax=axes[1], palette='Greens_r')\n",
    "sns.barplot(x=index, y=ChatGPT, ax=axes[2], palette='Reds_r')\n",
    "\n",
    "# Set plot titles\n",
    "axes[0].set_title('Bob')\n",
    "axes[1].set_title('Mary')\n",
    "axes[2].set_title('ChatGPT')\n",
    "\n",
    "# Set y-axis labels to be more readable\n",
    "for ax in axes.flat:\n",
    "    ax.set_ylabel('Results')\n",
    "    ax.set_xlabel('Result index')\n",
    "\n",
    "# Set overall plot title and adjust spacing\n",
    "plt.suptitle('Differences in AI scores', fontsize=16)\n",
    "plt.tight_layout(rect=[0, 0.03, 1, 0.95])\n",
    "plt.show()"
   ]
  },
  {
   "cell_type": "code",
   "execution_count": 32,
   "metadata": {},
   "outputs": [],
   "source": [
    "#Calculate the (negative,neutral,positive) distribution of a certain set of AI results\n",
    "def calc_distr(AI_results):\n",
    "    s = 5\n",
    "    distr = [0,0,0]\n",
    "    temp = [0,0,0]\n",
    "        \n",
    "    for el in AI_results:\n",
    "        if el >= 66:\n",
    "            i=2\n",
    "        elif el>=33:\n",
    "            i=1\n",
    "        else:\n",
    "            i=0\n",
    "        temp[i] +=1\n",
    "    \n",
    "    i=0\n",
    "    for el in temp:\n",
    "        el = el*100/s\n",
    "        distr[i]=el\n",
    "        i+=1\n",
    "        \n",
    "    return distr"
   ]
  },
  {
   "cell_type": "code",
   "execution_count": 33,
   "metadata": {},
   "outputs": [
    {
     "data": {
      "image/png": "[encoded data removed]",
      "text/plain": [
       "<Figure size 1200x400 with 3 Axes>"
      ]
     },
     "metadata": {},
     "output_type": "display_data"
    }
   ],
   "source": [
    "# Labels\n",
    "labels = ['Negative', 'Neutral', 'Positive']\n",
    "\n",
    "# Various distributions\n",
    "Bob_distribution = calc_distr(Bob)\n",
    "Mary_distribution = calc_distr(Mary)\n",
    "ChatGPT_distribution = calc_distr(ChatGPT)\n",
    "\n",
    "# Create a figure and divide it into subplots\n",
    "fig, axs = plt.subplots(1, 3, figsize=(12, 4))\n",
    "\n",
    "# Plot the first pie chart\n",
    "axs[0].pie(Bob_distribution, labels=labels, autopct='%1.1f%%', startangle=90)\n",
    "axs[0].set_title('Bob')\n",
    "\n",
    "# Plot the second pie chart\n",
    "axs[1].pie(Mary_distribution, labels=labels, autopct='%1.1f%%', startangle=90)\n",
    "axs[1].set_title('Mary')\n",
    "\n",
    "# Plot the third pie chart\n",
    "axs[2].pie(ChatGPT_distribution, labels=labels, autopct='%1.1f%%', startangle=90)\n",
    "axs[2].set_title('ChatGPT')\n",
    "\n",
    "# Adjust the spacing between subplots\n",
    "plt.tight_layout()\n",
    "\n",
    "plt.show()"
   ]
  },
  {
   "attachments": {},
   "cell_type": "markdown",
   "metadata": {},
   "source": [
    "We can see that the Bob model, which only knows 'Positive' and 'Negative' is the least performant, while the 'Mary' model is quite similar with ChatGPT, at least on small data sets. We will choose to work with Mary moving forward."
   ]
  },
  {
   "attachments": {},
   "cell_type": "markdown",
   "metadata": {},
   "source": [
    "# Actual data mining and applications"
   ]
  },
  {
   "attachments": {},
   "cell_type": "markdown",
   "metadata": {},
   "source": [
    "This is the actual application of the studied algorithms and Data Mining techniques. We chose to automatically Web Scrape books and subtitles, given a title as user input.\n",
    "\n",
    "The purpose of this project is to compare a book with its movie adaptation and determine visually how faithful an adaptation it is.\n",
    "\n",
    "In order to analyze the data, we split it (the book text / the subtitle text) in n equal parts and analyze the differences between corresponding parts in the book / subtitle.\n",
    "\n",
    "We will apply the following on the obtained data:\n",
    "- Data Cleaning & Preprocessing\n",
    "- Language Models (cardiffnlp/twitter-roberta-base-sentiment-latest)\n",
    "- Sentiment Analysis\n",
    "- TF-IDF\n",
    "- PoS Tagging"
   ]
  },
  {
   "attachments": {},
   "cell_type": "markdown",
   "metadata": {},
   "source": [
    "## Helper functions"
   ]
  },
  {
   "cell_type": "code",
   "execution_count": 34,
   "metadata": {},
   "outputs": [],
   "source": [
    "def get_soup(url):\n",
    "    response = requests.get(url, headers={'User-Agent': 'Mozilla/5.0 (Windows NT 10.0; Win64; x64) AppleWebKit/537.36 (KHTML, like Gecko) Chrome/114.0.0.0 Safari/537.36', 'Accept-Language': 'en-US,en;q=0.7'})\n",
    "    return BeautifulSoup(response.text, 'html.parser')\n",
    "\n",
    "\n",
    "def preprocess_text(text: str, remove_stopwords: bool) -> str:\n",
    "    \"\"\"This utility function sanitizes a string by:\n",
    "    - removing links\n",
    "    - removing special characters\n",
    "    - removing numbers\n",
    "    - removing stopwords\n",
    "    - transforming in lowercase\n",
    "    - removing excessive whitespaces\n",
    "    Args:\n",
    "        text (str): the input text you want to clean\n",
    "        remove_stopwords (bool): whether or not to remove stopwords\n",
    "    Returns:\n",
    "        str: the cleaned text\n",
    "    \"\"\"\n",
    "\n",
    "    # remove links\n",
    "    text = re.sub(r\"http\\S+\", \"\", text)\n",
    "    # remove special chars and numbers\n",
    "    text = re.sub(\"[^A-Za-z]+\", \" \", text)\n",
    "    # remove stopwords\n",
    "    if remove_stopwords:\n",
    "        # 1. tokenize\n",
    "        tokens = nltk.word_tokenize(text)\n",
    "        # 2. check if stopword\n",
    "        tokens = [w for w in tokens if not w.lower() in stopwords.words(\"english\")]\n",
    "        # 3. join back together\n",
    "        text = \" \".join(tokens)\n",
    "    # return text in lower case and stripped of whitespaces\n",
    "    text = text.lower().strip()\n",
    "    return text"
   ]
  },
  {
   "attachments": {},
   "cell_type": "markdown",
   "metadata": {},
   "source": [
    "## User configurations. Split data in n parts. Also set dataset names to search for"
   ]
  },
  {
   "cell_type": "code",
   "execution_count": 35,
   "metadata": {},
   "outputs": [],
   "source": [
    "# number of parts we want to split our datasets in\n",
    "n = 10\n",
    "\n",
    "# titles of contents we would like to analyze\n",
    "names = ['Titanic', 'Pride and Prejudice', 'Wuthering Heights']"
   ]
  },
  {
   "attachments": {},
   "cell_type": "markdown",
   "metadata": {},
   "source": [
    "## Web scraping using Beautiful Soup HTML scraping "
   ]
  },
  {
   "attachments": {},
   "cell_type": "markdown",
   "metadata": {},
   "source": [
    "Download the book and movie subtitles that most closely match the user input. Use Gutenberg and IMDb's seaches."
   ]
  },
  {
   "cell_type": "code",
   "execution_count": 36,
   "metadata": {},
   "outputs": [
    {
     "name": "stdout",
     "output_type": "stream",
     "text": [
      "                                                parts    title        author\n",
      "0   titanic filson young christopher columbus new ...  Titanic  Filson Young\n",
      "1   restive crowned one clock looked time upon thr...  Titanic  Filson Young\n",
      "2   counter eighty feet high weighs hundred tons m...  Titanic  Filson Young\n",
      "3   famine differences besides condition geographi...  Titanic  Filson Young\n",
      "4   message appeal flashing far wide dark night ca...  Titanic  Filson Young\n",
      "5   vivid partial knowledge man closely occupied d...  Titanic  Filson Young\n",
      "6   juxtaposition two unclaimed solitary little ch...  Titanic  Filson Young\n",
      "7   californian come carpathia taking survivors bo...  Titanic  Filson Young\n",
      "8   tells story without turning right hand left fr...  Titanic  Filson Young\n",
      "9   h sime mclaren lady women charter rights liber...  Titanic  Filson Young\n",
      "10       essays socialism london strangeways printers  Titanic  Filson Young\n",
      "                                                parts                title  \\\n",
      "0   illustration george allen publisher charing cr...  Pride and Prejudice   \n",
      "1   complacency thus accosted miss bingley guess s...  Pride and Prejudice   \n",
      "2   bourgh far superior handsomest sex features ma...  Pride and Prejudice   \n",
      "3   girls together soon breakfast addressed mother...  Pride and Prejudice   \n",
      "4   dear aunt serious indeed yes hope engage serio...  Pride and Prejudice   \n",
      "5   hurst miss bingley think heard say know know l...  Pride and Prejudice   \n",
      "6   openness gentleness manner certainly great mis...  Pride and Prejudice   \n",
      "7   bingley lady lived london georgiana reception ...  Pride and Prejudice   \n",
      "8   bowl punch make merry wedding mrs hill began i...  Pride and Prejudice   \n",
      "9   approbation terms warm enough satisfy feelings...  Pride and Prejudice   \n",
      "10                               chancery lane london  Pride and Prejudice   \n",
      "\n",
      "         author  \n",
      "0   Jane Austen  \n",
      "1   Jane Austen  \n",
      "2   Jane Austen  \n",
      "3   Jane Austen  \n",
      "4   Jane Austen  \n",
      "5   Jane Austen  \n",
      "6   Jane Austen  \n",
      "7   Jane Austen  \n",
      "8   Jane Austen  \n",
      "9   Jane Austen  \n",
      "10  Jane Austen  \n",
      "                                                parts              title  \\\n",
      "0   wuthering heights emily bront chapter returned...  Wuthering Heights   \n",
      "1   us mean lintons wuthering heights beg pardon a...  Wuthering Heights   \n",
      "2   depreciation playmate scarcely consequence man...  Wuthering Heights   \n",
      "3   irresistible attraction towards tolerated gues...  Wuthering Heights   \n",
      "4   night watching patiently enduring annoyances i...  Wuthering Heights   \n",
      "5   sleep five minutes felt one little pulse heart...  Wuthering Heights   \n",
      "6   caresses took peep see linton asleep corner wr...  Wuthering Heights   \n",
      "7   would best medicine mind mrs dean cruel cautio...  Wuthering Heights   \n",
      "8   addition seemed capable shocking idiocy reache...  Wuthering Heights   \n",
      "9   romantic fairy tale would mrs linton heathclif...  Wuthering Heights   \n",
      "10                               sleepers quiet earth  Wuthering Heights   \n",
      "\n",
      "          author  \n",
      "0   Emily Brontë  \n",
      "1   Emily Brontë  \n",
      "2   Emily Brontë  \n",
      "3   Emily Brontë  \n",
      "4   Emily Brontë  \n",
      "5   Emily Brontë  \n",
      "6   Emily Brontë  \n",
      "7   Emily Brontë  \n",
      "8   Emily Brontë  \n",
      "9   Emily Brontë  \n",
      "10  Emily Brontë  \n"
     ]
    }
   ],
   "source": [
    "def download_book(book_title):\n",
    "    candidates = []\n",
    "\n",
    "    soup = get_soup(f'https://www.gutenberg.org/ebooks/search/?query={book_title}')\n",
    "    book_links = soup.select('.booklink')\n",
    "\n",
    "    # build a list of possible matches to the user's title input\n",
    "    for bl in book_links:\n",
    "        title = bl.select_one('.title').text\n",
    "        candidates.append(title)\n",
    "\n",
    "    # get closest match to user's title input\n",
    "    closest = difflib.get_close_matches(book_title, candidates, n=1, cutoff=0.5)\n",
    "    if len(closest) == 0:\n",
    "        return None\n",
    "\n",
    "    closest = closest[0]\n",
    "\n",
    "    for bl in book_links:\n",
    "        title = bl.select_one('.title').text\n",
    "        \n",
    "        if title == closest:\n",
    "            link = bl.select_one('.link')['href']\n",
    "            # get book's code\n",
    "            code = link.split('/')[-1]\n",
    "            # get and clean text of header and footer\n",
    "            text = gutenbergpy.textget.get_text_by_id(code)\n",
    "            text = gutenbergpy.textget.strip_headers(text)\n",
    "            # text is a buffer. decode it\n",
    "            encoding = chardet.detect(text)['encoding']\n",
    "            \n",
    "            return {'title': title, 'author': bl.select_one('.subtitle').text, 'text': text.decode(encoding)}\n",
    "\n",
    "\n",
    "def build_book_df(book):\n",
    "    book['text'] = preprocess_text(book['text'], True)\n",
    "    # split book in n (defined above) parts\n",
    "    book['parts'] = textwrap.wrap(book['text'], len(book['text']) / n)\n",
    "\n",
    "    df = pd.DataFrame({'parts': book['parts']})\n",
    "    df['title'] = book['title']\n",
    "    df['author'] = book['author']\n",
    "    \n",
    "    return df\n",
    "\n",
    "\n",
    "books = [download_book(name) for name in names]\n",
    "book_dfs = [build_book_df(book) for book in books if book is not None]\n",
    "\n",
    "for book_df in book_dfs:\n",
    "    print(book_df)"
   ]
  },
  {
   "cell_type": "code",
   "execution_count": 37,
   "metadata": {},
   "outputs": [
    {
     "name": "stdout",
     "output_type": "stream",
     "text": [
      "                   start                    end  \\\n",
      "0 0 days 00:01:49.078000 0 days 00:16:01.650000   \n",
      "1 0 days 00:16:01.731000 0 days 00:32:39.649000   \n",
      "2 0 days 00:32:40.860000 0 days 00:46:49.827000   \n",
      "3 0 days 00:46:49.913000 0 days 00:59:17.281000   \n",
      "4 0 days 00:59:17.370000 0 days 01:14:12.500000   \n",
      "5 0 days 01:14:12.582000 0 days 01:36:56.093000   \n",
      "6 0 days 01:37:24.098000 0 days 01:51:16.296000   \n",
      "7 0 days 01:51:22.987000 0 days 02:07:22.189000   \n",
      "8 0 days 02:07:22.516000 0 days 02:30:58.641000   \n",
      "9 0 days 02:31:09.248000 0 days 02:59:40.415000   \n",
      "\n",
      "                                               parts    title  year  \n",
      "0  thirteen meters see okay take bow rail okay mi...  Titanic  1997  \n",
      "1  wearing diamond day titanic sank makes new bes...  Titanic  1997  \n",
      "2  like lamb right sweet pea sausage gon na cut m...  Titanic  1997  \n",
      "3  love rude asking simple question love guy suit...  Titanic  1997  \n",
      "4  knows every rivet thomas ship wonder mr andrew...  Titanic  1997  \n",
      "5  need talk jack jack engaged marrying cal love ...  Titanic  1997  \n",
      "6  come let go get door closing doors get get doo...  Titanic  1997  \n",
      "7  come sister heard man boat room gentleman gent...  Titanic  1997  \n",
      "8  businessman know business proposition come ros...  Titanic  1997  \n",
      "9  come saw new heaven new earth first heaven fir...  Titanic  1997  \n",
      "                   start                    end  \\\n",
      "0 0 days 00:02:14.600000 0 days 00:14:51.516000   \n",
      "1 0 days 00:14:51.720000 0 days 00:24:37.835000   \n",
      "2        0 days 00:24:38 0 days 00:33:08.037000   \n",
      "3 0 days 00:33:13.480000 0 days 00:45:58.915000   \n",
      "4 0 days 00:45:59.080000 0 days 00:56:05.597000   \n",
      "5 0 days 00:56:06.360000 0 days 01:06:43.036000   \n",
      "6 0 days 01:06:44.400000 0 days 01:18:03.159000   \n",
      "7 0 days 01:19:04.840000 0 days 01:31:55.439000   \n",
      "8 0 days 01:31:55.600000 0 days 01:42:48.435000   \n",
      "9 0 days 01:42:48.600000 0 days 01:55:12.194000   \n",
      "\n",
      "                                               parts              title  year  \n",
      "0  lydia kitty dear mr bennet heard netherfield p...  Pride & Prejudice  2005  \n",
      "1  praise lord saved make haste jane make haste o...  Pride & Prejudice  2005  \n",
      "2  ask mrs hill order us sirloin betsy one mind m...  Pride & Prejudice  2005  \n",
      "3  jane martin may say immense pleasure see mrs b...  Pride & Prejudice  2005  \n",
      "4  set example matrimony parish secondly convince...  Pride & Prejudice  2005  \n",
      "5  one extraordinary sights europe glazing alone ...  Pride & Prejudice  2005  \n",
      "6  reply yes sir laughing rejecting sure feelings...  Pride & Prejudice  2005  \n",
      "7  keep master much home much would wish dearly l...  Pride & Prejudice  2005  \n",
      "8  enlisted regiment north england glad hear near...  Pride & Prejudice  2005  \n",
      "9  address effectually feelings others whose mind...  Pride & Prejudice  2005  \n",
      "                   start                    end  \\\n",
      "0 0 days 00:00:01.001000 0 days 00:15:43.483000   \n",
      "1 0 days 00:15:48.614000 0 days 00:26:37.094000   \n",
      "2 0 days 00:26:39.431000 0 days 00:35:40.137000   \n",
      "3 0 days 00:35:47.145000 0 days 00:46:59.690000   \n",
      "4 0 days 00:46:59.817000 0 days 00:55:57.311000   \n",
      "5 0 days 00:56:36.518000 0 days 01:04:13.181000   \n",
      "6 0 days 01:04:14.308000 0 days 01:13:49.382000   \n",
      "7 0 days 01:13:58.934000 0 days 01:26:01.321000   \n",
      "8 0 days 01:26:02.740000 0 days 01:41:44.472000   \n",
      "9 0 days 01:41:45.933000 0 days 02:08:51.472000   \n",
      "\n",
      "                                               parts              title  year  \n",
      "0  soft breathing grunts agh coughs banging font ...  Wuthering Heights  2011  \n",
      "1  congregation owe god thine cathy hi says mourn...  Wuthering Heights  2011  \n",
      "2  ask god forgive coughing sing us cathy scarlet...  Wuthering Heights  2011  \n",
      "3  heavy rain mooing cathy heathcliff heathcliff ...  Wuthering Heights  2011  \n",
      "4  cathy got big collection home got lots lapwing...  Wuthering Heights  2011  \n",
      "5  men week easter day fair sun shining brightly ...  Wuthering Heights  2011  \n",
      "6  meeting pleasure parting grief inconstant love...  Wuthering Heights  2011  \n",
      "7  please sit chirping ask bring tea nelly believ...  Wuthering Heights  2011  \n",
      "8  stories well gone changed wondering nothing wa...  Wuthering Heights  2011  \n",
      "9  come hello hareton shall friends frame set dog...  Wuthering Heights  2011  \n"
     ]
    }
   ],
   "source": [
    "def download_subtitles(book_title):\n",
    "    soup = get_soup(f'https://www.imdb.com/find/?q={book_title}')\n",
    "\n",
    "    # get first result from an IMDb search\n",
    "    li = soup.select_one('.find-title-result')\n",
    "    if (li is None):\n",
    "        return None\n",
    "\n",
    "    span = li.select_one('.ipc-metadata-list-summary-item__li')\n",
    "    # get movie's year\n",
    "    year = int(span.text)\n",
    "    a = li.select_one('.ipc-metadata-list-summary-item__t')\n",
    "    link = a['href']\n",
    "    # get movie's title\n",
    "    title = a.text\n",
    "    # get and clean IMDb code\n",
    "    code = link.split('/')[2]\n",
    "    code = code.replace('tt', '')\n",
    "    code = int(code)\n",
    "\n",
    "    # use IMDb code to get subtitle code\n",
    "    soup = get_soup(f'https://www.opensubtitles.org/en/search/sublanguageid-eng/imdbid-{code}/sort-6/asc-0')\n",
    "    a = soup.select_one('.bnone')\n",
    "    link = a['href']\n",
    "    code = link.split('/')[3]\n",
    "\n",
    "    # download subtitle\n",
    "    url = f'https://www.opensubtitles.org/en/subtitleserve/sub/{code}'\n",
    "    response = requests.get(url).content\n",
    "    # downloaded subtitle is a zip file\n",
    "    zip = ZipFile(io.BytesIO(response))\n",
    "    for f in zip.namelist():\n",
    "        # take first srt file\n",
    "        if (f.endswith('.srt')):\n",
    "            # unzip and decode it\n",
    "            buf = zip.read(f)\n",
    "            encoding = chardet.detect(buf)['encoding']\n",
    "            return {'title': title, 'year': year, 'text': buf.decode(encoding)}\n",
    "\n",
    "\n",
    "def build_subs_df(subs):\n",
    "    # srt.parse is a generator so we iterate it\n",
    "    parsed = [x for x in srt.parse(subs['text'])]\n",
    "\n",
    "    # total duration of subtitles\n",
    "    total_duration  = sum((x.end - x.start).total_seconds() for x in parsed)\n",
    "    # amount of time per part\n",
    "    target_duration = total_duration / n\n",
    "\n",
    "    split_parts = []\n",
    "    current_part = []\n",
    "    accumulated_duration = 0\n",
    "\n",
    "    # split subtitles in n (defined above) parts\n",
    "    for x in parsed:\n",
    "        duration = (x.end - x.start).total_seconds()\n",
    "        accumulated_duration += duration\n",
    "        current_part.append(x)\n",
    "\n",
    "        if accumulated_duration >= target_duration:\n",
    "            parts = ' '.join([z.content for z in current_part])\n",
    "            parts = preprocess_text(parts, True)\n",
    "            y = {'start': current_part[0].start, 'end': current_part[-1].end, 'parts': parts}\n",
    "            split_parts.append(y)\n",
    "            current_part = []\n",
    "            accumulated_duration = 0\n",
    "\n",
    "    if current_part:\n",
    "        parts = ' '.join([z.content for z in current_part])\n",
    "        parts = preprocess_text(parts, True)\n",
    "        y = {'start': current_part[0].start, 'end': current_part[-1].end, 'parts': parts}\n",
    "        split_parts.append(y)\n",
    "\n",
    "    df = pd.DataFrame(split_parts)\n",
    "    df['title'] = subs['title']\n",
    "    df['year'] = subs['year']\n",
    "    \n",
    "    return df\n",
    "\n",
    "\n",
    "subses = [download_subtitles(name) for name in names]\n",
    "subs_dfs = [build_subs_df(subs) for subs in subses if subs is not None]\n",
    "\n",
    "for subs_df in subs_dfs:\n",
    "    print(subs_df)"
   ]
  },
  {
   "attachments": {},
   "cell_type": "markdown",
   "metadata": {},
   "source": [
    "## Sentiment Analysis"
   ]
  },
  {
   "attachments": {},
   "cell_type": "markdown",
   "metadata": {},
   "source": [
    "Because the split data size is larger than the kernel size, we will 'stride' over it."
   ]
  },
  {
   "cell_type": "code",
   "execution_count": 38,
   "metadata": {},
   "outputs": [],
   "source": [
    "def AI_sentiment_analysis(text, should_preprocess = False):\n",
    "  # clean text up if needed\n",
    "  if should_preprocess:\n",
    "    text = preprocess_text(text)\n",
    "  \n",
    "  # tokenize the text\n",
    "  tokens = tokenizer.tokenize(text)\n",
    "\n",
    "  # the model's max tokens length\n",
    "  max_length = 512\n",
    "  # stride length\n",
    "  stride = 256\n",
    "  # split into overlapping segments\n",
    "  segments = [tokens[i:i+max_length] for i in range(0, len(tokens), stride)]\n",
    "\n",
    "  # perform sentiment analysis for each segment and accumulate votes\n",
    "  votes = []\n",
    "\n",
    "  for segment in segments:\n",
    "    segment = ' '.join(segment)\n",
    "    # also add meta data special tokens\n",
    "    segment_input = tokenizer.encode(segment, add_special_tokens=True, truncation=True, max_length=max_length)\n",
    "    input_tensor = torch.tensor([segment_input])\n",
    "    outputs = model(input_tensor)\n",
    "    # get logits\n",
    "    scores = outputs[0][0].detach().numpy()\n",
    "    # turn them in sentiment probability vector\n",
    "    scores = softmax(scores)\n",
    "    votes.append(scores)\n",
    "\n",
    "  # average of votes\n",
    "  scores = [sum(elements) / len(elements) for elements in zip(*votes)]\n",
    "  \n",
    "  final_score = (scores[2] + scores[1]*0.5 - scores[0]*1.2)*100\n",
    "  final_score = round(abs((final_score+100)/2))\n",
    "\n",
    "  return final_score"
   ]
  },
  {
   "cell_type": "code",
   "execution_count": 39,
   "metadata": {},
   "outputs": [],
   "source": [
    "for df in book_dfs:\n",
    "  df['parts_sentiment'] = df.apply(lambda row : AI_sentiment_analysis(row['parts']), axis=1)"
   ]
  },
  {
   "cell_type": "code",
   "execution_count": 40,
   "metadata": {},
   "outputs": [],
   "source": [
    "for df in subs_dfs:\n",
    "  df['parts_sentiment'] = df.apply(lambda row : AI_sentiment_analysis(row['parts']), axis=1)"
   ]
  },
  {
   "attachments": {},
   "cell_type": "markdown",
   "metadata": {},
   "source": [
    "## TF-IDF"
   ]
  },
  {
   "attachments": {},
   "cell_type": "markdown",
   "metadata": {},
   "source": [
    "Apply TF-IDF on split in order to extract the most relevant n words and make an idea about what the scene it represents is about."
   ]
  },
  {
   "cell_type": "code",
   "execution_count": 41,
   "metadata": {},
   "outputs": [],
   "source": [
    "def get_most_relevant_n_words(column, n):\n",
    "    # initialize the vectorizer\n",
    "    vectorizer = TfidfVectorizer(sublinear_tf=True, min_df=5, max_df=0.95)\n",
    "    # fit_transform applies TF-IDF to clean texts - we save the array of vectors in X\n",
    "    X = vectorizer.fit_transform(column).toarray()\n",
    "    vocab = vectorizer.vocabulary_\n",
    "    reverse_vocab = {v:k for k,v in vocab.items()}\n",
    "    feature_names = vectorizer.get_feature_names_out()\n",
    "    df_tfidf = pd.DataFrame(X, columns=feature_names)\n",
    "    idx = X.argsort(axis=1)\n",
    "    most_relevant_n = idx[:,-n:]\n",
    "\n",
    "    result = [[reverse_vocab.get(item) for item in row]\n",
    "                for i, row in enumerate(most_relevant_n)]\n",
    "    \n",
    "    [x.reverse() for x in result]\n",
    "\n",
    "    result = [', '.join(x) for x in result]\n",
    "\n",
    "    return result"
   ]
  },
  {
   "cell_type": "code",
   "execution_count": 42,
   "metadata": {},
   "outputs": [
    {
     "name": "stdout",
     "output_type": "stream",
     "text": [
      "                                                parts    title        author  \\\n",
      "0   titanic filson young christopher columbus new ...  Titanic  Filson Young   \n",
      "1   restive crowned one clock looked time upon thr...  Titanic  Filson Young   \n",
      "2   counter eighty feet high weighs hundred tons m...  Titanic  Filson Young   \n",
      "3   famine differences besides condition geographi...  Titanic  Filson Young   \n",
      "4   message appeal flashing far wide dark night ca...  Titanic  Filson Young   \n",
      "5   vivid partial knowledge man closely occupied d...  Titanic  Filson Young   \n",
      "6   juxtaposition two unclaimed solitary little ch...  Titanic  Filson Young   \n",
      "7   californian come carpathia taking survivors bo...  Titanic  Filson Young   \n",
      "8   tells story without turning right hand left fr...  Titanic  Filson Young   \n",
      "9   h sime mclaren lady women charter rights liber...  Titanic  Filson Young   \n",
      "10       essays socialism london strangeways printers  Titanic  Filson Young   \n",
      "\n",
      "    parts_sentiment                                     relevant_words  \n",
      "0                69  iron, ship, like, side, smoke, steel, giant, u...  \n",
      "1                61  ship, perhaps, road, class, room, one, rooms, ...  \n",
      "2                57  ice, lives, ships, part, doors, ship, one, may...  \n",
      "3                53  ship, road, said, room, people, anything, ice,...  \n",
      "4                44  boat, side, ship, crew, deck, women, woman, wa...  \n",
      "5                48  mr, went, told, bride, coming, minutes, ship, ...  \n",
      "6                40  boat, ship, saw, found, water, death, women, d...  \n",
      "7                47  men, ship, waiting, women, death, morning, tit...  \n",
      "8                57  book, colour, post, large, mr, young, boys, se...  \n",
      "9                65  book, colour, post, love, large, english, see,...  \n",
      "10               48  london, young, hand, going, good, got, gradual...  \n",
      "                                                parts                title  \\\n",
      "0   illustration george allen publisher charing cr...  Pride and Prejudice   \n",
      "1   complacency thus accosted miss bingley guess s...  Pride and Prejudice   \n",
      "2   bourgh far superior handsomest sex features ma...  Pride and Prejudice   \n",
      "3   girls together soon breakfast addressed mother...  Pride and Prejudice   \n",
      "4   dear aunt serious indeed yes hope engage serio...  Pride and Prejudice   \n",
      "5   hurst miss bingley think heard say know know l...  Pride and Prejudice   \n",
      "6   openness gentleness manner certainly great mis...  Pride and Prejudice   \n",
      "7   bingley lady lived london georgiana reception ...  Pride and Prejudice   \n",
      "8   bowl punch make merry wedding mrs hill began i...  Pride and Prejudice   \n",
      "9   approbation terms warm enough satisfy feelings...  Pride and Prejudice   \n",
      "10                               chancery lane london  Pride and Prejudice   \n",
      "\n",
      "         author  parts_sentiment  \\\n",
      "0   Jane Austen               60   \n",
      "1   Jane Austen               58   \n",
      "2   Jane Austen               51   \n",
      "3   Jane Austen               61   \n",
      "4   Jane Austen               60   \n",
      "5   Jane Austen               45   \n",
      "6   Jane Austen               56   \n",
      "7   Jane Austen               45   \n",
      "8   Jane Austen               53   \n",
      "9   Jane Austen               54   \n",
      "10  Jane Austen               67   \n",
      "\n",
      "                                       relevant_words  \n",
      "0   mr, dance, miss, one, bennet, bingley, darcy, ...  \n",
      "1   bingley, mr, elizabeth, said, miss, bennet, da...  \n",
      "2   mr, collins, wickham, darcy, elizabeth, could,...  \n",
      "3   collins, mr, elizabeth, could, bennet, would, ...  \n",
      "4   fitzwilliam, collins, rosings, elizabeth, mr, ...  \n",
      "5   fitzwilliam, could, mr, rosings, darcy, wickha...  \n",
      "6   elizabeth, gardiner, housekeeper, could, mr, m...  \n",
      "7   gardiner, elizabeth, could, forster, would, mr...  \n",
      "8   would, elizabeth, mr, could, wickham, said, be...  \n",
      "9   elizabeth, ladyship, mr, would, could, darcy, ...  \n",
      "10  lane, distressed, fancied, fancy, far, farther...  \n",
      "                                                parts              title  \\\n",
      "0   wuthering heights emily bront chapter returned...  Wuthering Heights   \n",
      "1   us mean lintons wuthering heights beg pardon a...  Wuthering Heights   \n",
      "2   depreciation playmate scarcely consequence man...  Wuthering Heights   \n",
      "3   irresistible attraction towards tolerated gues...  Wuthering Heights   \n",
      "4   night watching patiently enduring annoyances i...  Wuthering Heights   \n",
      "5   sleep five minutes felt one little pulse heart...  Wuthering Heights   \n",
      "6   caresses took peep see linton asleep corner wr...  Wuthering Heights   \n",
      "7   would best medicine mind mrs dean cruel cautio...  Wuthering Heights   \n",
      "8   addition seemed capable shocking idiocy reache...  Wuthering Heights   \n",
      "9   romantic fairy tale would mrs linton heathclif...  Wuthering Heights   \n",
      "10                               sleepers quiet earth  Wuthering Heights   \n",
      "\n",
      "          author  parts_sentiment  \\\n",
      "0   Emily Brontë               55   \n",
      "1   Emily Brontë               53   \n",
      "2   Emily Brontë               46   \n",
      "3   Emily Brontë               42   \n",
      "4   Emily Brontë               46   \n",
      "5   Emily Brontë               45   \n",
      "6   Emily Brontë               45   \n",
      "7   Emily Brontë               47   \n",
      "8   Emily Brontë               46   \n",
      "9   Emily Brontë               46   \n",
      "10  Emily Brontë               51   \n",
      "\n",
      "                                       relevant_words  \n",
      "0   heathcliff, one, dogs, snow, ye, would, could,...  \n",
      "1   hindley, children, would, heathcliff, earnshaw...  \n",
      "2   hindley, heathcliff, catherine, edgar, would, ...  \n",
      "3   isabella, linton, heathcliff, said, would, edg...  \n",
      "4   un, letter, ye, heathcliff, would, catherine, ...  \n",
      "5   papa, would, hindley, heathcliff, one, said, m...  \n",
      "6   papa, cousin, linton, would, said, heathcliff,...  \n",
      "7   papa, linton, cousin, catherine, would, said, ...  \n",
      "8   papa, catherine, heathcliff, said, would, lint...  \n",
      "9   cousin, hareton, would, heathcliff, mr, th, sa...  \n",
      "10  quiet, youth, food, fool, foolish, foot, force...  \n",
      "                   start                    end  \\\n",
      "0 0 days 00:01:49.078000 0 days 00:16:01.650000   \n",
      "1 0 days 00:16:01.731000 0 days 00:32:39.649000   \n",
      "2 0 days 00:32:40.860000 0 days 00:46:49.827000   \n",
      "3 0 days 00:46:49.913000 0 days 00:59:17.281000   \n",
      "4 0 days 00:59:17.370000 0 days 01:14:12.500000   \n",
      "5 0 days 01:14:12.582000 0 days 01:36:56.093000   \n",
      "6 0 days 01:37:24.098000 0 days 01:51:16.296000   \n",
      "7 0 days 01:51:22.987000 0 days 02:07:22.189000   \n",
      "8 0 days 02:07:22.516000 0 days 02:30:58.641000   \n",
      "9 0 days 02:31:09.248000 0 days 02:59:40.415000   \n",
      "\n",
      "                                               parts    title  year  \\\n",
      "0  thirteen meters see okay take bow rail okay mi...  Titanic  1997   \n",
      "1  wearing diamond day titanic sank makes new bes...  Titanic  1997   \n",
      "2  like lamb right sweet pea sausage gon na cut m...  Titanic  1997   \n",
      "3  love rude asking simple question love guy suit...  Titanic  1997   \n",
      "4  knows every rivet thomas ship wonder mr andrew...  Titanic  1997   \n",
      "5  need talk jack jack engaged marrying cal love ...  Titanic  1997   \n",
      "6  come let go get door closing doors get get doo...  Titanic  1997   \n",
      "7  come sister heard man boat room gentleman gent...  Titanic  1997   \n",
      "8  businessman know business proposition come ros...  Titanic  1997   \n",
      "9  come saw new heaven new earth first heaven fir...  Titanic  1997   \n",
      "\n",
      "   parts_sentiment                                     relevant_words  \n",
      "0               54  okay, diamond, turn, left, deck, knows, oh, ho...  \n",
      "1               76  ahead, sir, never, full, nothing, anything, al...  \n",
      "2               52  well, dawson, cal, cold, girl, gone, jack, cou...  \n",
      "3               56  dawson, jack, well, love, work, must, man, goo...  \n",
      "4               56  gon, na, jack, okay, fine, stop, never, unders...  \n",
      "5               55  jack, turn, ever, keep, trust, big, well, hold...  \n",
      "6               48  sir, please, boats, close, hockley, side, yes,...  \n",
      "7               49  stop, boats, andrews, women, boat, keep, help,...  \n",
      "8               59  please, move, falls, step, jack, sir, keep, bo...  \n",
      "9               53  never, jack, boats, gon, keep, understand, peo...  \n",
      "                   start                    end  \\\n",
      "0 0 days 00:02:14.600000 0 days 00:14:51.516000   \n",
      "1 0 days 00:14:51.720000 0 days 00:24:37.835000   \n",
      "2        0 days 00:24:38 0 days 00:33:08.037000   \n",
      "3 0 days 00:33:13.480000 0 days 00:45:58.915000   \n",
      "4 0 days 00:45:59.080000 0 days 00:56:05.597000   \n",
      "5 0 days 00:56:06.360000 0 days 01:06:43.036000   \n",
      "6 0 days 01:06:44.400000 0 days 01:18:03.159000   \n",
      "7 0 days 01:19:04.840000 0 days 01:31:55.439000   \n",
      "8 0 days 01:31:55.600000 0 days 01:42:48.435000   \n",
      "9 0 days 01:42:48.600000 0 days 01:55:12.194000   \n",
      "\n",
      "                                               parts              title  year  \\\n",
      "0  lydia kitty dear mr bennet heard netherfield p...  Pride & Prejudice  2005   \n",
      "1  praise lord saved make haste jane make haste o...  Pride & Prejudice  2005   \n",
      "2  ask mrs hill order us sirloin betsy one mind m...  Pride & Prejudice  2005   \n",
      "3  jane martin may say immense pleasure see mrs b...  Pride & Prejudice  2005   \n",
      "4  set example matrimony parish secondly convince...  Pride & Prejudice  2005   \n",
      "5  one extraordinary sights europe glazing alone ...  Pride & Prejudice  2005   \n",
      "6  reply yes sir laughing rejecting sure feelings...  Pride & Prejudice  2005   \n",
      "7  keep master much home much would wish dearly l...  Pride & Prejudice  2005   \n",
      "8  enlisted regiment north england glad hear near...  Pride & Prejudice  2005   \n",
      "9  address effectually feelings others whose mind...  Pride & Prejudice  2005   \n",
      "\n",
      "   parts_sentiment                                     relevant_words  \n",
      "0               63  bingley, bennet, miss, believe, poor, netherfi...  \n",
      "1               75  pleasure, bingley, miss, better, find, less, b...  \n",
      "2               56  wickham, collins, father, poor, catherine, mis...  \n",
      "3               83  dear, mary, wickham, collins, bingley, elizabe...  \n",
      "4               67  collins, catherine, lady, marry, happy, make, ...  \n",
      "5               48  sisters, miss, collins, elizabeth, come, one, ...  \n",
      "6               44  sister, wickham, let, better, father, much, us...  \n",
      "7               51  lydia, married, father, wickham, miss, much, w...  \n",
      "8               59  bingley, mary, married, hear, wickham, away, k...  \n",
      "9               54  thought, make, papa, love, ever, last, tell, k...  \n",
      "                   start                    end  \\\n",
      "0 0 days 00:00:01.001000 0 days 00:15:43.483000   \n",
      "1 0 days 00:15:48.614000 0 days 00:26:37.094000   \n",
      "2 0 days 00:26:39.431000 0 days 00:35:40.137000   \n",
      "3 0 days 00:35:47.145000 0 days 00:46:59.690000   \n",
      "4 0 days 00:46:59.817000 0 days 00:55:57.311000   \n",
      "5 0 days 00:56:36.518000 0 days 01:04:13.181000   \n",
      "6 0 days 01:04:14.308000 0 days 01:13:49.382000   \n",
      "7 0 days 01:13:58.934000 0 days 01:26:01.321000   \n",
      "8 0 days 01:26:02.740000 0 days 01:41:44.472000   \n",
      "9 0 days 01:41:45.933000 0 days 02:08:51.472000   \n",
      "\n",
      "                                               parts              title  year  \\\n",
      "0  soft breathing grunts agh coughs banging font ...  Wuthering Heights  2011   \n",
      "1  congregation owe god thine cathy hi says mourn...  Wuthering Heights  2011   \n",
      "2  ask god forgive coughing sing us cathy scarlet...  Wuthering Heights  2011   \n",
      "3  heavy rain mooing cathy heathcliff heathcliff ...  Wuthering Heights  2011   \n",
      "4  cathy got big collection home got lots lapwing...  Wuthering Heights  2011   \n",
      "5  men week easter day fair sun shining brightly ...  Wuthering Heights  2011   \n",
      "6  meeting pleasure parting grief inconstant love...  Wuthering Heights  2011   \n",
      "7  please sit chirping ask bring tea nelly believ...  Wuthering Heights  2011   \n",
      "8  stories well gone changed wondering nothing wa...  Wuthering Heights  2011   \n",
      "9  come hello hareton shall friends frame set dog...  Wuthering Heights  2011   \n",
      "\n",
      "   parts_sentiment                                     relevant_words  \n",
      "0               45  got, hold, man, heathcliff, dog, approaching, ...  \n",
      "1               28  hindley, dog, horse, tell, look, get, joseph, ...  \n",
      "2               46  hindley, man, heathcliff, joseph, hello, let, ...  \n",
      "3               51  dog, get, hindley, see, barking, joseph, heath...  \n",
      "4               56  look, got, nelly, like, edgar, hindley, heathc...  \n",
      "5               85  nelly, please, never, well, know, tell, still,...  \n",
      "6               45  edgar, nelly, coughing, tell, heathcliff, righ...  \n",
      "7               59  heathcliff, get, man, edgar, need, hello, plea...  \n",
      "8               38  edgar, need, yes, please, barking, going, appr...  \n",
      "9               47  heathcliff, leave, get, look, never, dog, like...  \n"
     ]
    }
   ],
   "source": [
    "for df in book_dfs:\n",
    "  df['relevant_words'] = get_most_relevant_n_words(df['parts'], 10)\n",
    "  print(df)\n",
    "\n",
    "for df in subs_dfs:\n",
    "  df['relevant_words'] = get_most_relevant_n_words(df['parts'], 10)\n",
    "  print(df)"
   ]
  },
  {
   "attachments": {},
   "cell_type": "markdown",
   "metadata": {},
   "source": [
    "## PoS Tagging"
   ]
  },
  {
   "attachments": {},
   "cell_type": "markdown",
   "metadata": {},
   "source": [
    "Apply PoS Tagging in order to find the key people and key actions in the scenes that the split represents. "
   ]
  },
  {
   "cell_type": "code",
   "execution_count": 43,
   "metadata": {},
   "outputs": [
    {
     "name": "stdout",
     "output_type": "stream",
     "text": [
      "                                                parts    title        author  \\\n",
      "0   titanic filson young christopher columbus new ...  Titanic  Filson Young   \n",
      "1   restive crowned one clock looked time upon thr...  Titanic  Filson Young   \n",
      "2   counter eighty feet high weighs hundred tons m...  Titanic  Filson Young   \n",
      "3   famine differences besides condition geographi...  Titanic  Filson Young   \n",
      "4   message appeal flashing far wide dark night ca...  Titanic  Filson Young   \n",
      "5   vivid partial knowledge man closely occupied d...  Titanic  Filson Young   \n",
      "6   juxtaposition two unclaimed solitary little ch...  Titanic  Filson Young   \n",
      "7   californian come carpathia taking survivors bo...  Titanic  Filson Young   \n",
      "8   tells story without turning right hand left fr...  Titanic  Filson Young   \n",
      "9   h sime mclaren lady women charter rights liber...  Titanic  Filson Young   \n",
      "10       essays socialism london strangeways printers  Titanic  Filson Young   \n",
      "\n",
      "    parts_sentiment                                     relevant_words  \\\n",
      "0                69  iron, ship, like, side, smoke, steel, giant, u...   \n",
      "1                61  ship, perhaps, road, class, room, one, rooms, ...   \n",
      "2                57  ice, lives, ships, part, doors, ship, one, may...   \n",
      "3                53  ship, road, said, room, people, anything, ice,...   \n",
      "4                44  boat, side, ship, crew, deck, women, woman, wa...   \n",
      "5                48  mr, went, told, bride, coming, minutes, ship, ...   \n",
      "6                40  boat, ship, saw, found, water, death, women, d...   \n",
      "7                47  men, ship, waiting, women, death, morning, tit...   \n",
      "8                57  book, colour, post, large, mr, young, boys, se...   \n",
      "9                65  book, colour, post, love, large, english, see,...   \n",
      "10               48  london, young, hand, going, good, got, gradual...   \n",
      "\n",
      "                            relevant_people_and_verbs  \n",
      "0   People: filson, christopher, deg | Verbs: come...  \n",
      "1   People: louis, quatorze | Verbs: look, find, t...  \n",
      "2   People: jerry | Verbs: come, say, make, live, ...  \n",
      "3   People: john, jacob, christopher | Verbs: come...  \n",
      "4   People: smith, hitherto, favourite | Verbs: go...  \n",
      "5   People: dynamos, murdoch, carpathia | Verbs: g...  \n",
      "6   People: prinz, friedrich | Verbs: come, see, t...  \n",
      "7   People: franklin, carpathia, christopher | Ver...  \n",
      "8   People: john, william, arthur | Verbs: illustr...  \n",
      "9   People: cloth, william, john | Verbs: gild, il...  \n",
      "10                            People:  | Verbs: essay  \n",
      "                                                parts                title  \\\n",
      "0   illustration george allen publisher charing cr...  Pride and Prejudice   \n",
      "1   complacency thus accosted miss bingley guess s...  Pride and Prejudice   \n",
      "2   bourgh far superior handsomest sex features ma...  Pride and Prejudice   \n",
      "3   girls together soon breakfast addressed mother...  Pride and Prejudice   \n",
      "4   dear aunt serious indeed yes hope engage serio...  Pride and Prejudice   \n",
      "5   hurst miss bingley think heard say know know l...  Pride and Prejudice   \n",
      "6   openness gentleness manner certainly great mis...  Pride and Prejudice   \n",
      "7   bingley lady lived london georgiana reception ...  Pride and Prejudice   \n",
      "8   bowl punch make merry wedding mrs hill began i...  Pride and Prejudice   \n",
      "9   approbation terms warm enough satisfy feelings...  Pride and Prejudice   \n",
      "10                               chancery lane london  Pride and Prejudice   \n",
      "\n",
      "         author  parts_sentiment  \\\n",
      "0   Jane Austen               60   \n",
      "1   Jane Austen               58   \n",
      "2   Jane Austen               51   \n",
      "3   Jane Austen               61   \n",
      "4   Jane Austen               60   \n",
      "5   Jane Austen               45   \n",
      "6   Jane Austen               56   \n",
      "7   Jane Austen               45   \n",
      "8   Jane Austen               53   \n",
      "9   Jane Austen               54   \n",
      "10  Jane Austen               67   \n",
      "\n",
      "                                       relevant_words  \\\n",
      "0   mr, dance, miss, one, bennet, bingley, darcy, ...   \n",
      "1   bingley, mr, elizabeth, said, miss, bennet, da...   \n",
      "2   mr, collins, wickham, darcy, elizabeth, could,...   \n",
      "3   collins, mr, elizabeth, could, bennet, would, ...   \n",
      "4   fitzwilliam, collins, rosings, elizabeth, mr, ...   \n",
      "5   fitzwilliam, could, mr, rosings, darcy, wickha...   \n",
      "6   elizabeth, gardiner, housekeeper, could, mr, m...   \n",
      "7   gardiner, elizabeth, could, forster, would, mr...   \n",
      "8   would, elizabeth, mr, could, wickham, said, be...   \n",
      "9   elizabeth, ladyship, mr, would, could, darcy, ...   \n",
      "10  lane, distressed, fancied, fancy, far, farther...   \n",
      "\n",
      "                            relevant_people_and_verbs  \n",
      "0   People: elizabeth, bingley, george | Verbs: sa...  \n",
      "1   People: elizabeth, bingley, darcy | Verbs: say...  \n",
      "2   People: elizabeth, wickham, bingley | Verbs: s...  \n",
      "3   People: elizabeth, bingley, william | Verbs: s...  \n",
      "4   People: elizabeth, william, de | Verbs: say, s...  \n",
      "5   People: elizabeth, wickham, bingley | Verbs: s...  \n",
      "6   People: elizabeth, darcy, kitty | Verbs: see, ...  \n",
      "7   People: elizabeth, bingley, darcy | Verbs: kno...  \n",
      "8   People: elizabeth, wickham, bingley | Verbs: s...  \n",
      "9   People: elizabeth, kitty, jane | Verbs: say, m...  \n",
      "10                   People: chancery, lane | Verbs:   \n",
      "                                                parts              title  \\\n",
      "0   wuthering heights emily bront chapter returned...  Wuthering Heights   \n",
      "1   us mean lintons wuthering heights beg pardon a...  Wuthering Heights   \n",
      "2   depreciation playmate scarcely consequence man...  Wuthering Heights   \n",
      "3   irresistible attraction towards tolerated gues...  Wuthering Heights   \n",
      "4   night watching patiently enduring annoyances i...  Wuthering Heights   \n",
      "5   sleep five minutes felt one little pulse heart...  Wuthering Heights   \n",
      "6   caresses took peep see linton asleep corner wr...  Wuthering Heights   \n",
      "7   would best medicine mind mrs dean cruel cautio...  Wuthering Heights   \n",
      "8   addition seemed capable shocking idiocy reache...  Wuthering Heights   \n",
      "9   romantic fairy tale would mrs linton heathclif...  Wuthering Heights   \n",
      "10                               sleepers quiet earth  Wuthering Heights   \n",
      "\n",
      "          author  parts_sentiment  \\\n",
      "0   Emily Brontë               55   \n",
      "1   Emily Brontë               53   \n",
      "2   Emily Brontë               46   \n",
      "3   Emily Brontë               42   \n",
      "4   Emily Brontë               46   \n",
      "5   Emily Brontë               45   \n",
      "6   Emily Brontë               45   \n",
      "7   Emily Brontë               47   \n",
      "8   Emily Brontë               46   \n",
      "9   Emily Brontë               46   \n",
      "10  Emily Brontë               51   \n",
      "\n",
      "                                       relevant_words  \\\n",
      "0   heathcliff, one, dogs, snow, ye, would, could,...   \n",
      "1   hindley, children, would, heathcliff, earnshaw...   \n",
      "2   hindley, heathcliff, catherine, edgar, would, ...   \n",
      "3   isabella, linton, heathcliff, said, would, edg...   \n",
      "4   un, letter, ye, heathcliff, would, catherine, ...   \n",
      "5   papa, would, hindley, heathcliff, one, said, m...   \n",
      "6   papa, cousin, linton, would, said, heathcliff,...   \n",
      "7   papa, linton, cousin, catherine, would, said, ...   \n",
      "8   papa, catherine, heathcliff, said, would, lint...   \n",
      "9   cousin, hareton, would, heathcliff, mr, th, sa...   \n",
      "10  quiet, youth, food, fool, foolish, foot, force...   \n",
      "\n",
      "                            relevant_people_and_verbs  \n",
      "0   People: joseph, heathcliff, mrs | Verbs: say, ...  \n",
      "1   People: linton, joseph, earnshaw | Verbs: say,...  \n",
      "2   People: linton, joseph, edgar | Verbs: say, go...  \n",
      "3   People: linton, mrs, isabella | Verbs: say, go...  \n",
      "4   People: linton, joseph, heathcliff | Verbs: sa...  \n",
      "5   People: linton, joseph, mrs | Verbs: say, come...  \n",
      "6   People: linton, joseph, cathy | Verbs: say, se...  \n",
      "7   People: linton, catherine, joseph | Verbs: say...  \n",
      "8   People: linton, joseph, mrs | Verbs: say, go, ...  \n",
      "9   People: joseph, hareton, dean | Verbs: say, go...  \n",
      "10                                 People:  | Verbs:   \n",
      "                   start                    end  \\\n",
      "0 0 days 00:01:49.078000 0 days 00:16:01.650000   \n",
      "1 0 days 00:16:01.731000 0 days 00:32:39.649000   \n",
      "2 0 days 00:32:40.860000 0 days 00:46:49.827000   \n",
      "3 0 days 00:46:49.913000 0 days 00:59:17.281000   \n",
      "4 0 days 00:59:17.370000 0 days 01:14:12.500000   \n",
      "5 0 days 01:14:12.582000 0 days 01:36:56.093000   \n",
      "6 0 days 01:37:24.098000 0 days 01:51:16.296000   \n",
      "7 0 days 01:51:22.987000 0 days 02:07:22.189000   \n",
      "8 0 days 02:07:22.516000 0 days 02:30:58.641000   \n",
      "9 0 days 02:31:09.248000 0 days 02:59:40.415000   \n",
      "\n",
      "                                               parts    title  year  \\\n",
      "0  thirteen meters see okay take bow rail okay mi...  Titanic  1997   \n",
      "1  wearing diamond day titanic sank makes new bes...  Titanic  1997   \n",
      "2  like lamb right sweet pea sausage gon na cut m...  Titanic  1997   \n",
      "3  love rude asking simple question love guy suit...  Titanic  1997   \n",
      "4  knows every rivet thomas ship wonder mr andrew...  Titanic  1997   \n",
      "5  need talk jack jack engaged marrying cal love ...  Titanic  1997   \n",
      "6  come let go get door closing doors get get doo...  Titanic  1997   \n",
      "7  come sister heard man boat room gentleman gent...  Titanic  1997   \n",
      "8  businessman know business proposition come ros...  Titanic  1997   \n",
      "9  come saw new heaven new earth first heaven fir...  Titanic  1997   \n",
      "\n",
      "   parts_sentiment                                     relevant_words  \\\n",
      "0               54  okay, diamond, turn, left, deck, knows, oh, ho...   \n",
      "1               76  ahead, sir, never, full, nothing, anything, al...   \n",
      "2               52  well, dawson, cal, cold, girl, gone, jack, cou...   \n",
      "3               56  dawson, jack, well, love, work, must, man, goo...   \n",
      "4               56  gon, na, jack, okay, fine, stop, never, unders...   \n",
      "5               55  jack, turn, ever, keep, trust, big, well, hold...   \n",
      "6               48  sir, please, boats, close, hockley, side, yes,...   \n",
      "7               49  stop, boats, andrews, women, boat, keep, help,...   \n",
      "8               59  please, move, falls, step, jack, sir, keep, bo...   \n",
      "9               53  never, jack, boats, gon, keep, understand, peo...   \n",
      "\n",
      "                           relevant_people_and_verbs  \n",
      "0  People: calvert, bobby, cigar | Verbs: go, see...  \n",
      "1  People: jack, pazzo, bet | Verbs: go, see, com...  \n",
      "2  People: jack, louis, xvl | Verbs: go, know, co...  \n",
      "3  People: jack, dawson, exquisite | Verbs: see, ...  \n",
      "4  People: jack, stop, hear | Verbs: go, rise, co...  \n",
      "5  People: jack, jesus, come | Verbs: go, see, ge...  \n",
      "6  People: hockley, murdoch, iceberg | Verbs: go,...  \n",
      "7  People: jack, god, steward | Verbs: go, rise, ...  \n",
      "8  People: jack, murdoch, stuck | Verbs: come, go...  \n",
      "9  People: jack, know, boat | Verbs: go, come, le...  \n",
      "                   start                    end  \\\n",
      "0 0 days 00:02:14.600000 0 days 00:14:51.516000   \n",
      "1 0 days 00:14:51.720000 0 days 00:24:37.835000   \n",
      "2        0 days 00:24:38 0 days 00:33:08.037000   \n",
      "3 0 days 00:33:13.480000 0 days 00:45:58.915000   \n",
      "4 0 days 00:45:59.080000 0 days 00:56:05.597000   \n",
      "5 0 days 00:56:06.360000 0 days 01:06:43.036000   \n",
      "6 0 days 01:06:44.400000 0 days 01:18:03.159000   \n",
      "7 0 days 01:19:04.840000 0 days 01:31:55.439000   \n",
      "8 0 days 01:31:55.600000 0 days 01:42:48.435000   \n",
      "9 0 days 01:42:48.600000 0 days 01:55:12.194000   \n",
      "\n",
      "                                               parts              title  year  \\\n",
      "0  lydia kitty dear mr bennet heard netherfield p...  Pride & Prejudice  2005   \n",
      "1  praise lord saved make haste jane make haste o...  Pride & Prejudice  2005   \n",
      "2  ask mrs hill order us sirloin betsy one mind m...  Pride & Prejudice  2005   \n",
      "3  jane martin may say immense pleasure see mrs b...  Pride & Prejudice  2005   \n",
      "4  set example matrimony parish secondly convince...  Pride & Prejudice  2005   \n",
      "5  one extraordinary sights europe glazing alone ...  Pride & Prejudice  2005   \n",
      "6  reply yes sir laughing rejecting sure feelings...  Pride & Prejudice  2005   \n",
      "7  keep master much home much would wish dearly l...  Pride & Prejudice  2005   \n",
      "8  enlisted regiment north england glad hear near...  Pride & Prejudice  2005   \n",
      "9  address effectually feelings others whose mind...  Pride & Prejudice  2005   \n",
      "\n",
      "   parts_sentiment                                     relevant_words  \\\n",
      "0               63  bingley, bennet, miss, believe, poor, netherfi...   \n",
      "1               75  pleasure, bingley, miss, better, find, less, b...   \n",
      "2               56  wickham, collins, father, poor, catherine, mis...   \n",
      "3               83  dear, mary, wickham, collins, bingley, elizabe...   \n",
      "4               67  collins, catherine, lady, marry, happy, make, ...   \n",
      "5               48  sisters, miss, collins, elizabeth, come, one, ...   \n",
      "6               44  sister, wickham, let, better, father, much, us...   \n",
      "7               51  lydia, married, father, wickham, miss, much, w...   \n",
      "8               59  bingley, mary, married, hear, wickham, away, k...   \n",
      "9               54  thought, make, papa, love, ever, last, tell, k...   \n",
      "\n",
      "                           relevant_people_and_verbs  \n",
      "0  People: kitty, bennet, elizabeth | Verbs: danc...  \n",
      "1  People: elizabeth, william, lucas | Verbs: kno...  \n",
      "2  People: wickham, betsy, catherine | Verbs: mak...  \n",
      "3  People: jane, elizabeth, bingley | Verbs: make...  \n",
      "4  People: wickham, pleasant | Verbs: make, see, ...  \n",
      "5  People: elizabeth, de, bourgh | Verbs: come, p...  \n",
      "6  People: wickham, bingley | Verbs: tell, take, ...  \n",
      "7  People: elizabeth, georgiana, wickham | Verbs:...  \n",
      "8  People: darcy, wickham, elizabeth | Verbs: com...  \n",
      "9  People: elizabeth, bennet, mary | Verbs: make,...  \n",
      "                   start                    end  \\\n",
      "0 0 days 00:00:01.001000 0 days 00:15:43.483000   \n",
      "1 0 days 00:15:48.614000 0 days 00:26:37.094000   \n",
      "2 0 days 00:26:39.431000 0 days 00:35:40.137000   \n",
      "3 0 days 00:35:47.145000 0 days 00:46:59.690000   \n",
      "4 0 days 00:46:59.817000 0 days 00:55:57.311000   \n",
      "5 0 days 00:56:36.518000 0 days 01:04:13.181000   \n",
      "6 0 days 01:04:14.308000 0 days 01:13:49.382000   \n",
      "7 0 days 01:13:58.934000 0 days 01:26:01.321000   \n",
      "8 0 days 01:26:02.740000 0 days 01:41:44.472000   \n",
      "9 0 days 01:41:45.933000 0 days 02:08:51.472000   \n",
      "\n",
      "                                               parts              title  year  \\\n",
      "0  soft breathing grunts agh coughs banging font ...  Wuthering Heights  2011   \n",
      "1  congregation owe god thine cathy hi says mourn...  Wuthering Heights  2011   \n",
      "2  ask god forgive coughing sing us cathy scarlet...  Wuthering Heights  2011   \n",
      "3  heavy rain mooing cathy heathcliff heathcliff ...  Wuthering Heights  2011   \n",
      "4  cathy got big collection home got lots lapwing...  Wuthering Heights  2011   \n",
      "5  men week easter day fair sun shining brightly ...  Wuthering Heights  2011   \n",
      "6  meeting pleasure parting grief inconstant love...  Wuthering Heights  2011   \n",
      "7  please sit chirping ask bring tea nelly believ...  Wuthering Heights  2011   \n",
      "8  stories well gone changed wondering nothing wa...  Wuthering Heights  2011   \n",
      "9  come hello hareton shall friends frame set dog...  Wuthering Heights  2011   \n",
      "\n",
      "   parts_sentiment                                     relevant_words  \\\n",
      "0               45  got, hold, man, heathcliff, dog, approaching, ...   \n",
      "1               28  hindley, dog, horse, tell, look, get, joseph, ...   \n",
      "2               46  hindley, man, heathcliff, joseph, hello, let, ...   \n",
      "3               51  dog, get, hindley, see, barking, joseph, heath...   \n",
      "4               56  look, got, nelly, like, edgar, hindley, heathc...   \n",
      "5               85  nelly, please, never, well, know, tell, still,...   \n",
      "6               45  edgar, nelly, coughing, tell, heathcliff, righ...   \n",
      "7               59  heathcliff, get, man, edgar, need, hello, plea...   \n",
      "8               38  edgar, need, yes, please, barking, going, appr...   \n",
      "9               47  heathcliff, leave, get, look, never, dog, like...   \n",
      "\n",
      "                           relevant_people_and_verbs  \n",
      "0  People: joseph | Verbs: get, come, go, whine, ...  \n",
      "1  People: joseph, hindley, lad | Verbs: come, go...  \n",
      "2  People: joseph, barbara, allen | Verbs: go, ge...  \n",
      "3  People: joseph, cathy, robert | Verbs: get, go...  \n",
      "4  People: joseph, cathy, edgar | Verbs: get, loo...  \n",
      "5  People: dr, kenneth, quick | Verbs: come, scre...  \n",
      "6  People: heathcliff, marry, cathy | Verbs: brin...  \n",
      "7  People: linton, joseph, isabella | Verbs: go, ...  \n",
      "8  People: isabella, edgar, robert | Verbs: go, c...  \n",
      "9  People: joseph, news, cathy | Verbs: scream, l...  \n"
     ]
    }
   ],
   "source": [
    "def get_top_n_people(text, n):\n",
    "    doc = nlp(text)\n",
    "    people = [token.text for token in doc if token.ent_type_ == 'PERSON']\n",
    "\n",
    "    counter = Counter(people)\n",
    "    most_common = counter.most_common(n)\n",
    "    return [element for element, _ in most_common]\n",
    "\n",
    "\n",
    "def get_top_n_verbs(text, n):\n",
    "    doc = nlp(text)\n",
    "    verbs = [token.lemma_ for token in doc if token.pos_ == 'VERB']\n",
    "\n",
    "    counter = Counter(verbs)\n",
    "    most_common = counter.most_common(n)\n",
    "    return [element for element, _ in most_common]\n",
    "\n",
    "\n",
    "for df in book_dfs:\n",
    "    people = [get_top_n_people(text, 3) for text in df['parts']]\n",
    "    people = [', '.join(p) for p in people]\n",
    "\n",
    "    verbs = [get_top_n_verbs(text, 5) for text in df['parts']]\n",
    "    verbs = [', '.join(v) for v in verbs]\n",
    "    \n",
    "    df['relevant_people_and_verbs'] = [f\"People: {p} | Verbs: {v}\" for p, v in zip(people, verbs)]\n",
    "    print(df)\n",
    "\n",
    "for df in subs_dfs:\n",
    "    people = [get_top_n_people(text, 3) for text in df['parts']]\n",
    "    people = [', '.join(p) for p in people]\n",
    "\n",
    "    verbs = [get_top_n_verbs(text, 5) for text in df['parts']]\n",
    "    verbs = [', '.join(v) for v in verbs]\n",
    "    \n",
    "    df['relevant_people_and_verbs'] = [f\"People: {p} | Verbs: {v}\" for p, v in zip(people, verbs)]\n",
    "    print(df)"
   ]
  },
  {
   "attachments": {},
   "cell_type": "markdown",
   "metadata": {},
   "source": [
    "## Visualizations"
   ]
  },
  {
   "attachments": {},
   "cell_type": "markdown",
   "metadata": {},
   "source": [
    "Finally, visualize a Sentiment Analysis / Split graph. In this one we also have the most relevant words in the split."
   ]
  },
  {
   "cell_type": "code",
   "execution_count": 49,
   "metadata": {},
   "outputs": [
    {
     "data": {
      "application/vnd.plotly.v1+json": {
       "config": {
        "plotlyServerURL": "https://plot.ly"
       },
       "data": [
        {
         "mode": "markers+lines+text",
         "text": [
          "iron, ship, like, side, smoke, steel, giant, upon, passed, first",
          "ship, perhaps, road, class, room, one, rooms, sea, hundred, deck",
          "ice, lives, ships, part, doors, ship, one, may, side, possible",
          "ship, road, said, room, people, anything, ice, happened, mr, one",
          "boat, side, ship, crew, deck, women, woman, water, first, one",
          "mr, went, told, bride, coming, minutes, ship, water, boat, time",
          "boat, ship, saw, found, water, death, women, dark, came, could",
          "men, ship, waiting, women, death, morning, titanic, york, time, one",
          "book, colour, post, large, mr, young, boys, second, street, see",
          "book, colour, post, love, large, english, see, boys, sir, others",
          "london, young, hand, going, good, got, gradually, great, greatest, green"
         ],
         "type": "scatter",
         "x": [
          0,
          1,
          2,
          3,
          4,
          5,
          6,
          7,
          8,
          9,
          10
         ],
         "xaxis": "x",
         "y": [
          69,
          61,
          57,
          53,
          44,
          48,
          40,
          47,
          57,
          65,
          48
         ],
         "yaxis": "y"
        },
        {
         "mode": "markers+lines+text",
         "text": [
          "okay, diamond, turn, left, deck, knows, oh, hockley, woman, titanic",
          "ahead, sir, never, full, nothing, anything, along, titanic, mr, money",
          "well, dawson, cal, cold, girl, gone, jack, could, one, whole",
          "dawson, jack, well, love, work, must, man, good, really, quite",
          "gon, na, jack, okay, fine, stop, never, understand, dawson, life",
          "jack, turn, ever, keep, trust, big, well, hold, cal, gon",
          "sir, please, boats, close, hockley, side, yes, put, mr, women",
          "stop, boats, andrews, women, boat, keep, help, please, hello, jack",
          "please, move, falls, step, jack, sir, keep, boat, stop, damn",
          "never, jack, boats, gon, keep, understand, people, na, boat, sir"
         ],
         "type": "scatter",
         "x": [
          0,
          1,
          2,
          3,
          4,
          5,
          6,
          7,
          8,
          9
         ],
         "xaxis": "x2",
         "y": [
          54,
          76,
          52,
          56,
          56,
          55,
          48,
          49,
          59,
          53
         ],
         "yaxis": "y2"
        }
       ],
       "layout": {
        "annotations": [
         {
          "font": {
           "size": 16
          },
          "showarrow": false,
          "text": "Book: Titanic by Filson Young",
          "x": 0.5,
          "xanchor": "center",
          "xref": "paper",
          "y": 1,
          "yanchor": "bottom",
          "yref": "paper"
         },
         {
          "font": {
           "size": 16
          },
          "showarrow": false,
          "text": "Movie: Titanic, 1997",
          "x": 0.5,
          "xanchor": "center",
          "xref": "paper",
          "y": 0.375,
          "yanchor": "bottom",
          "yref": "paper"
         }
        ],
        "height": 1600,
        "hovermode": "x",
        "template": {
         "data": {
          "bar": [
           {
            "error_x": {
             "color": "#2a3f5f"
            },
            "error_y": {
             "color": "#2a3f5f"
            },
            "marker": {
             "line": {
              "color": "#E5ECF6",
              "width": 0.5
             },
             "pattern": {
              "fillmode": "overlay",
              "size": 10,
              "solidity": 0.2
             }
            },
            "type": "bar"
           }
          ],
          "barpolar": [
           {
            "marker": {
             "line": {
              "color": "#E5ECF6",
              "width": 0.5
             },
             "pattern": {
              "fillmode": "overlay",
              "size": 10,
              "solidity": 0.2
             }
            },
            "type": "barpolar"
           }
          ],
          "carpet": [
           {
            "aaxis": {
             "endlinecolor": "#2a3f5f",
             "gridcolor": "white",
             "linecolor": "white",
             "minorgridcolor": "white",
             "startlinecolor": "#2a3f5f"
            },
            "baxis": {
             "endlinecolor": "#2a3f5f",
             "gridcolor": "white",
             "linecolor": "white",
             "minorgridcolor": "white",
             "startlinecolor": "#2a3f5f"
            },
            "type": "carpet"
           }
          ],
          "choropleth": [
           {
            "colorbar": {
             "outlinewidth": 0,
             "ticks": ""
            },
            "type": "choropleth"
           }
          ],
          "contour": [
           {
            "colorbar": {
             "outlinewidth": 0,
             "ticks": ""
            },
            "colorscale": [
             [
              0,
              "#0d0887"
             ],
             [
              0.1111111111111111,
              "#46039f"
             ],
             [
              0.2222222222222222,
              "#7201a8"
             ],
             [
              0.3333333333333333,
              "#9c179e"
             ],
             [
              0.4444444444444444,
              "#bd3786"
             ],
             [
              0.5555555555555556,
              "#d8576b"
             ],
             [
              0.6666666666666666,
              "#ed7953"
             ],
             [
              0.7777777777777778,
              "#fb9f3a"
             ],
             [
              0.8888888888888888,
              "#fdca26"
             ],
             [
              1,
              "#f0f921"
             ]
            ],
            "type": "contour"
           }
          ],
          "contourcarpet": [
           {
            "colorbar": {
             "outlinewidth": 0,
             "ticks": ""
            },
            "type": "contourcarpet"
           }
          ],
          "heatmap": [
           {
            "colorbar": {
             "outlinewidth": 0,
             "ticks": ""
            },
            "colorscale": [
             [
              0,
              "#0d0887"
             ],
             [
              0.1111111111111111,
              "#46039f"
             ],
             [
              0.2222222222222222,
              "#7201a8"
             ],
             [
              0.3333333333333333,
              "#9c179e"
             ],
             [
              0.4444444444444444,
              "#bd3786"
             ],
             [
              0.5555555555555556,
              "#d8576b"
             ],
             [
              0.6666666666666666,
              "#ed7953"
             ],
             [
              0.7777777777777778,
              "#fb9f3a"
             ],
             [
              0.8888888888888888,
              "#fdca26"
             ],
             [
              1,
              "#f0f921"
             ]
            ],
            "type": "heatmap"
           }
          ],
          "heatmapgl": [
           {
            "colorbar": {
             "outlinewidth": 0,
             "ticks": ""
            },
            "colorscale": [
             [
              0,
              "#0d0887"
             ],
             [
              0.1111111111111111,
              "#46039f"
             ],
             [
              0.2222222222222222,
              "#7201a8"
             ],
             [
              0.3333333333333333,
              "#9c179e"
             ],
             [
              0.4444444444444444,
              "#bd3786"
             ],
             [
              0.5555555555555556,
              "#d8576b"
             ],
             [
              0.6666666666666666,
              "#ed7953"
             ],
             [
              0.7777777777777778,
              "#fb9f3a"
             ],
             [
              0.8888888888888888,
              "#fdca26"
             ],
             [
              1,
              "#f0f921"
             ]
            ],
            "type": "heatmapgl"
           }
          ],
          "histogram": [
           {
            "marker": {
             "pattern": {
              "fillmode": "overlay",
              "size": 10,
              "solidity": 0.2
             }
            },
            "type": "histogram"
           }
          ],
          "histogram2d": [
           {
            "colorbar": {
             "outlinewidth": 0,
             "ticks": ""
            },
            "colorscale": [
             [
              0,
              "#0d0887"
             ],
             [
              0.1111111111111111,
              "#46039f"
             ],
             [
              0.2222222222222222,
              "#7201a8"
             ],
             [
              0.3333333333333333,
              "#9c179e"
             ],
             [
              0.4444444444444444,
              "#bd3786"
             ],
             [
              0.5555555555555556,
              "#d8576b"
             ],
             [
              0.6666666666666666,
              "#ed7953"
             ],
             [
              0.7777777777777778,
              "#fb9f3a"
             ],
             [
              0.8888888888888888,
              "#fdca26"
             ],
             [
              1,
              "#f0f921"
             ]
            ],
            "type": "histogram2d"
           }
          ],
          "histogram2dcontour": [
           {
            "colorbar": {
             "outlinewidth": 0,
             "ticks": ""
            },
            "colorscale": [
             [
              0,
              "#0d0887"
             ],
             [
              0.1111111111111111,
              "#46039f"
             ],
             [
              0.2222222222222222,
              "#7201a8"
             ],
             [
              0.3333333333333333,
              "#9c179e"
             ],
             [
              0.4444444444444444,
              "#bd3786"
             ],
             [
              0.5555555555555556,
              "#d8576b"
             ],
             [
              0.6666666666666666,
              "#ed7953"
             ],
             [
              0.7777777777777778,
              "#fb9f3a"
             ],
             [
              0.8888888888888888,
              "#fdca26"
             ],
             [
              1,
              "#f0f921"
             ]
            ],
            "type": "histogram2dcontour"
           }
          ],
          "mesh3d": [
           {
            "colorbar": {
             "outlinewidth": 0,
             "ticks": ""
            },
            "type": "mesh3d"
           }
          ],
          "parcoords": [
           {
            "line": {
             "colorbar": {
              "outlinewidth": 0,
              "ticks": ""
             }
            },
            "type": "parcoords"
           }
          ],
          "pie": [
           {
            "automargin": true,
            "type": "pie"
           }
          ],
          "scatter": [
           {
            "fillpattern": {
             "fillmode": "overlay",
             "size": 10,
             "solidity": 0.2
            },
            "type": "scatter"
           }
          ],
          "scatter3d": [
           {
            "line": {
             "colorbar": {
              "outlinewidth": 0,
              "ticks": ""
             }
            },
            "marker": {
             "colorbar": {
              "outlinewidth": 0,
              "ticks": ""
             }
            },
            "type": "scatter3d"
           }
          ],
          "scattercarpet": [
           {
            "marker": {
             "colorbar": {
              "outlinewidth": 0,
              "ticks": ""
             }
            },
            "type": "scattercarpet"
           }
          ],
          "scattergeo": [
           {
            "marker": {
             "colorbar": {
              "outlinewidth": 0,
              "ticks": ""
             }
            },
            "type": "scattergeo"
           }
          ],
          "scattergl": [
           {
            "marker": {
             "colorbar": {
              "outlinewidth": 0,
              "ticks": ""
             }
            },
            "type": "scattergl"
           }
          ],
          "scattermapbox": [
           {
            "marker": {
             "colorbar": {
              "outlinewidth": 0,
              "ticks": ""
             }
            },
            "type": "scattermapbox"
           }
          ],
          "scatterpolar": [
           {
            "marker": {
             "colorbar": {
              "outlinewidth": 0,
              "ticks": ""
             }
            },
            "type": "scatterpolar"
           }
          ],
          "scatterpolargl": [
           {
            "marker": {
             "colorbar": {
              "outlinewidth": 0,
              "ticks": ""
             }
            },
            "type": "scatterpolargl"
           }
          ],
          "scatterternary": [
           {
            "marker": {
             "colorbar": {
              "outlinewidth": 0,
              "ticks": ""
             }
            },
            "type": "scatterternary"
           }
          ],
          "surface": [
           {
            "colorbar": {
             "outlinewidth": 0,
             "ticks": ""
            },
            "colorscale": [
             [
              0,
              "#0d0887"
             ],
             [
              0.1111111111111111,
              "#46039f"
             ],
             [
              0.2222222222222222,
              "#7201a8"
             ],
             [
              0.3333333333333333,
              "#9c179e"
             ],
             [
              0.4444444444444444,
              "#bd3786"
             ],
             [
              0.5555555555555556,
              "#d8576b"
             ],
             [
              0.6666666666666666,
              "#ed7953"
             ],
             [
              0.7777777777777778,
              "#fb9f3a"
             ],
             [
              0.8888888888888888,
              "#fdca26"
             ],
             [
              1,
              "#f0f921"
             ]
            ],
            "type": "surface"
           }
          ],
          "table": [
           {
            "cells": {
             "fill": {
              "color": "#EBF0F8"
             },
             "line": {
              "color": "white"
             }
            },
            "header": {
             "fill": {
              "color": "#C8D4E3"
             },
             "line": {
              "color": "white"
             }
            },
            "type": "table"
           }
          ]
         },
         "layout": {
          "annotationdefaults": {
           "arrowcolor": "#2a3f5f",
           "arrowhead": 0,
           "arrowwidth": 1
          },
          "autotypenumbers": "strict",
          "coloraxis": {
           "colorbar": {
            "outlinewidth": 0,
            "ticks": ""
           }
          },
          "colorscale": {
           "diverging": [
            [
             0,
             "#8e0152"
            ],
            [
             0.1,
             "#c51b7d"
            ],
            [
             0.2,
             "#de77ae"
            ],
            [
             0.3,
             "#f1b6da"
            ],
            [
             0.4,
             "#fde0ef"
            ],
            [
             0.5,
             "#f7f7f7"
            ],
            [
             0.6,
             "#e6f5d0"
            ],
            [
             0.7,
             "#b8e186"
            ],
            [
             0.8,
             "#7fbc41"
            ],
            [
             0.9,
             "#4d9221"
            ],
            [
             1,
             "#276419"
            ]
           ],
           "sequential": [
            [
             0,
             "#0d0887"
            ],
            [
             0.1111111111111111,
             "#46039f"
            ],
            [
             0.2222222222222222,
             "#7201a8"
            ],
            [
             0.3333333333333333,
             "#9c179e"
            ],
            [
             0.4444444444444444,
             "#bd3786"
            ],
            [
             0.5555555555555556,
             "#d8576b"
            ],
            [
             0.6666666666666666,
             "#ed7953"
            ],
            [
             0.7777777777777778,
             "#fb9f3a"
            ],
            [
             0.8888888888888888,
             "#fdca26"
            ],
            [
             1,
             "#f0f921"
            ]
           ],
           "sequentialminus": [
            [
             0,
             "#0d0887"
            ],
            [
             0.1111111111111111,
             "#46039f"
            ],
            [
             0.2222222222222222,
             "#7201a8"
            ],
            [
             0.3333333333333333,
             "#9c179e"
            ],
            [
             0.4444444444444444,
             "#bd3786"
            ],
            [
             0.5555555555555556,
             "#d8576b"
            ],
            [
             0.6666666666666666,
             "#ed7953"
            ],
            [
             0.7777777777777778,
             "#fb9f3a"
            ],
            [
             0.8888888888888888,
             "#fdca26"
            ],
            [
             1,
             "#f0f921"
            ]
           ]
          },
          "colorway": [
           "#636efa",
           "#EF553B",
           "#00cc96",
           "#ab63fa",
           "#FFA15A",
           "#19d3f3",
           "#FF6692",
           "#B6E880",
           "#FF97FF",
           "#FECB52"
          ],
          "font": {
           "color": "#2a3f5f"
          },
          "geo": {
           "bgcolor": "white",
           "lakecolor": "white",
           "landcolor": "#E5ECF6",
           "showlakes": true,
           "showland": true,
           "subunitcolor": "white"
          },
          "hoverlabel": {
           "align": "left"
          },
          "hovermode": "closest",
          "mapbox": {
           "style": "light"
          },
          "paper_bgcolor": "white",
          "plot_bgcolor": "#E5ECF6",
          "polar": {
           "angularaxis": {
            "gridcolor": "white",
            "linecolor": "white",
            "ticks": ""
           },
           "bgcolor": "#E5ECF6",
           "radialaxis": {
            "gridcolor": "white",
            "linecolor": "white",
            "ticks": ""
           }
          },
          "scene": {
           "xaxis": {
            "backgroundcolor": "#E5ECF6",
            "gridcolor": "white",
            "gridwidth": 2,
            "linecolor": "white",
            "showbackground": true,
            "ticks": "",
            "zerolinecolor": "white"
           },
           "yaxis": {
            "backgroundcolor": "#E5ECF6",
            "gridcolor": "white",
            "gridwidth": 2,
            "linecolor": "white",
            "showbackground": true,
            "ticks": "",
            "zerolinecolor": "white"
           },
           "zaxis": {
            "backgroundcolor": "#E5ECF6",
            "gridcolor": "white",
            "gridwidth": 2,
            "linecolor": "white",
            "showbackground": true,
            "ticks": "",
            "zerolinecolor": "white"
           }
          },
          "shapedefaults": {
           "line": {
            "color": "#2a3f5f"
           }
          },
          "ternary": {
           "aaxis": {
            "gridcolor": "white",
            "linecolor": "white",
            "ticks": ""
           },
           "baxis": {
            "gridcolor": "white",
            "linecolor": "white",
            "ticks": ""
           },
           "bgcolor": "#E5ECF6",
           "caxis": {
            "gridcolor": "white",
            "linecolor": "white",
            "ticks": ""
           }
          },
          "title": {
           "x": 0.05
          },
          "xaxis": {
           "automargin": true,
           "gridcolor": "white",
           "linecolor": "white",
           "ticks": "",
           "title": {
            "standoff": 15
           },
           "zerolinecolor": "white",
           "zerolinewidth": 2
          },
          "yaxis": {
           "automargin": true,
           "gridcolor": "white",
           "linecolor": "white",
           "ticks": "",
           "title": {
            "standoff": 15
           },
           "zerolinecolor": "white",
           "zerolinewidth": 2
          }
         }
        },
        "title": {
         "text": "Average Sentiment per Part"
        },
        "width": 1000,
        "xaxis": {
         "anchor": "y",
         "domain": [
          0,
          1
         ],
         "title": {
          "text": "Part"
         }
        },
        "xaxis2": {
         "anchor": "y2",
         "domain": [
          0,
          1
         ],
         "title": {
          "text": "Part"
         }
        },
        "yaxis": {
         "anchor": "x",
         "domain": [
          0.625,
          1
         ],
         "title": {
          "text": "Average Sentiment"
         }
        },
        "yaxis2": {
         "anchor": "x2",
         "domain": [
          0,
          0.375
         ],
         "title": {
          "text": "Average Sentiment"
         }
        }
       }
      }
     },
     "metadata": {},
     "output_type": "display_data"
    },
    {
     "data": {
      "application/vnd.plotly.v1+json": {
       "config": {
        "plotlyServerURL": "https://plot.ly"
       },
       "data": [
        {
         "mode": "markers+lines+text",
         "text": [
          "mr, dance, miss, one, bennet, bingley, darcy, would, mrs, much",
          "bingley, mr, elizabeth, said, miss, bennet, darcy, much, would, accomplished",
          "mr, collins, wickham, darcy, elizabeth, could, said, bingley, dance, dancing",
          "collins, mr, elizabeth, could, bennet, would, jane, mrs, charlotte, may",
          "fitzwilliam, collins, rosings, elizabeth, mr, catherine, ladyship, lady, could, charlotte",
          "fitzwilliam, could, mr, rosings, darcy, wickham, would, elizabeth, blame, must",
          "elizabeth, gardiner, housekeeper, could, mr, master, darcy, niece, mrs, much",
          "gardiner, elizabeth, could, forster, would, mr, colonel, wickham, lydia, must",
          "would, elizabeth, mr, could, wickham, said, bennet, mrs, must, sister",
          "elizabeth, ladyship, mr, would, could, darcy, catherine, said, must, bennet",
          "lane, distressed, fancied, fancy, far, farther, fashion, father, fault, favour"
         ],
         "type": "scatter",
         "x": [
          0,
          1,
          2,
          3,
          4,
          5,
          6,
          7,
          8,
          9,
          10
         ],
         "xaxis": "x",
         "y": [
          60,
          58,
          51,
          61,
          60,
          45,
          56,
          45,
          53,
          54,
          67
         ],
         "yaxis": "y"
        },
        {
         "mode": "markers+lines+text",
         "text": [
          "bingley, bennet, miss, believe, poor, netherfield, love, one, good, kitty",
          "pleasure, bingley, miss, better, find, less, bennet, room, way, thank",
          "wickham, collins, father, poor, catherine, miss, indeed, us, hope, oh",
          "dear, mary, wickham, collins, bingley, elizabeth, oh, miss, say, perhaps",
          "collins, catherine, lady, marry, happy, make, pleasure, come, love, house",
          "sisters, miss, collins, elizabeth, come, one, believe, lady, really, get",
          "sister, wickham, let, better, father, much, us, could, bingley, quite",
          "lydia, married, father, wickham, miss, much, well, us, yes, tell",
          "bingley, mary, married, hear, wickham, away, kitty, going, come, say",
          "thought, make, papa, love, ever, last, tell, know, never, say"
         ],
         "type": "scatter",
         "x": [
          0,
          1,
          2,
          3,
          4,
          5,
          6,
          7,
          8,
          9
         ],
         "xaxis": "x2",
         "y": [
          63,
          75,
          56,
          83,
          67,
          48,
          44,
          51,
          59,
          54
         ],
         "yaxis": "y2"
        }
       ],
       "layout": {
        "annotations": [
         {
          "font": {
           "size": 16
          },
          "showarrow": false,
          "text": "Book: Pride and Prejudice by Jane Austen",
          "x": 0.5,
          "xanchor": "center",
          "xref": "paper",
          "y": 1,
          "yanchor": "bottom",
          "yref": "paper"
         },
         {
          "font": {
           "size": 16
          },
          "showarrow": false,
          "text": "Movie: Pride & Prejudice, 2005",
          "x": 0.5,
          "xanchor": "center",
          "xref": "paper",
          "y": 0.375,
          "yanchor": "bottom",
          "yref": "paper"
         }
        ],
        "height": 1600,
        "hovermode": "x",
        "template": {
         "data": {
          "bar": [
           {
            "error_x": {
             "color": "#2a3f5f"
            },
            "error_y": {
             "color": "#2a3f5f"
            },
            "marker": {
             "line": {
              "color": "#E5ECF6",
              "width": 0.5
             },
             "pattern": {
              "fillmode": "overlay",
              "size": 10,
              "solidity": 0.2
             }
            },
            "type": "bar"
           }
          ],
          "barpolar": [
           {
            "marker": {
             "line": {
              "color": "#E5ECF6",
              "width": 0.5
             },
             "pattern": {
              "fillmode": "overlay",
              "size": 10,
              "solidity": 0.2
             }
            },
            "type": "barpolar"
           }
          ],
          "carpet": [
           {
            "aaxis": {
             "endlinecolor": "#2a3f5f",
             "gridcolor": "white",
             "linecolor": "white",
             "minorgridcolor": "white",
             "startlinecolor": "#2a3f5f"
            },
            "baxis": {
             "endlinecolor": "#2a3f5f",
             "gridcolor": "white",
             "linecolor": "white",
             "minorgridcolor": "white",
             "startlinecolor": "#2a3f5f"
            },
            "type": "carpet"
           }
          ],
          "choropleth": [
           {
            "colorbar": {
             "outlinewidth": 0,
             "ticks": ""
            },
            "type": "choropleth"
           }
          ],
          "contour": [
           {
            "colorbar": {
             "outlinewidth": 0,
             "ticks": ""
            },
            "colorscale": [
             [
              0,
              "#0d0887"
             ],
             [
              0.1111111111111111,
              "#46039f"
             ],
             [
              0.2222222222222222,
              "#7201a8"
             ],
             [
              0.3333333333333333,
              "#9c179e"
             ],
             [
              0.4444444444444444,
              "#bd3786"
             ],
             [
              0.5555555555555556,
              "#d8576b"
             ],
             [
              0.6666666666666666,
              "#ed7953"
             ],
             [
              0.7777777777777778,
              "#fb9f3a"
             ],
             [
              0.8888888888888888,
              "#fdca26"
             ],
             [
              1,
              "#f0f921"
             ]
            ],
            "type": "contour"
           }
          ],
          "contourcarpet": [
           {
            "colorbar": {
             "outlinewidth": 0,
             "ticks": ""
            },
            "type": "contourcarpet"
           }
          ],
          "heatmap": [
           {
            "colorbar": {
             "outlinewidth": 0,
             "ticks": ""
            },
            "colorscale": [
             [
              0,
              "#0d0887"
             ],
             [
              0.1111111111111111,
              "#46039f"
             ],
             [
              0.2222222222222222,
              "#7201a8"
             ],
             [
              0.3333333333333333,
              "#9c179e"
             ],
             [
              0.4444444444444444,
              "#bd3786"
             ],
             [
              0.5555555555555556,
              "#d8576b"
             ],
             [
              0.6666666666666666,
              "#ed7953"
             ],
             [
              0.7777777777777778,
              "#fb9f3a"
             ],
             [
              0.8888888888888888,
              "#fdca26"
             ],
             [
              1,
              "#f0f921"
             ]
            ],
            "type": "heatmap"
           }
          ],
          "heatmapgl": [
           {
            "colorbar": {
             "outlinewidth": 0,
             "ticks": ""
            },
            "colorscale": [
             [
              0,
              "#0d0887"
             ],
             [
              0.1111111111111111,
              "#46039f"
             ],
             [
              0.2222222222222222,
              "#7201a8"
             ],
             [
              0.3333333333333333,
              "#9c179e"
             ],
             [
              0.4444444444444444,
              "#bd3786"
             ],
             [
              0.5555555555555556,
              "#d8576b"
             ],
             [
              0.6666666666666666,
              "#ed7953"
             ],
             [
              0.7777777777777778,
              "#fb9f3a"
             ],
             [
              0.8888888888888888,
              "#fdca26"
             ],
             [
              1,
              "#f0f921"
             ]
            ],
            "type": "heatmapgl"
           }
          ],
          "histogram": [
           {
            "marker": {
             "pattern": {
              "fillmode": "overlay",
              "size": 10,
              "solidity": 0.2
             }
            },
            "type": "histogram"
           }
          ],
          "histogram2d": [
           {
            "colorbar": {
             "outlinewidth": 0,
             "ticks": ""
            },
            "colorscale": [
             [
              0,
              "#0d0887"
             ],
             [
              0.1111111111111111,
              "#46039f"
             ],
             [
              0.2222222222222222,
              "#7201a8"
             ],
             [
              0.3333333333333333,
              "#9c179e"
             ],
             [
              0.4444444444444444,
              "#bd3786"
             ],
             [
              0.5555555555555556,
              "#d8576b"
             ],
             [
              0.6666666666666666,
              "#ed7953"
             ],
             [
              0.7777777777777778,
              "#fb9f3a"
             ],
             [
              0.8888888888888888,
              "#fdca26"
             ],
             [
              1,
              "#f0f921"
             ]
            ],
            "type": "histogram2d"
           }
          ],
          "histogram2dcontour": [
           {
            "colorbar": {
             "outlinewidth": 0,
             "ticks": ""
            },
            "colorscale": [
             [
              0,
              "#0d0887"
             ],
             [
              0.1111111111111111,
              "#46039f"
             ],
             [
              0.2222222222222222,
              "#7201a8"
             ],
             [
              0.3333333333333333,
              "#9c179e"
             ],
             [
              0.4444444444444444,
              "#bd3786"
             ],
             [
              0.5555555555555556,
              "#d8576b"
             ],
             [
              0.6666666666666666,
              "#ed7953"
             ],
             [
              0.7777777777777778,
              "#fb9f3a"
             ],
             [
              0.8888888888888888,
              "#fdca26"
             ],
             [
              1,
              "#f0f921"
             ]
            ],
            "type": "histogram2dcontour"
           }
          ],
          "mesh3d": [
           {
            "colorbar": {
             "outlinewidth": 0,
             "ticks": ""
            },
            "type": "mesh3d"
           }
          ],
          "parcoords": [
           {
            "line": {
             "colorbar": {
              "outlinewidth": 0,
              "ticks": ""
             }
            },
            "type": "parcoords"
           }
          ],
          "pie": [
           {
            "automargin": true,
            "type": "pie"
           }
          ],
          "scatter": [
           {
            "fillpattern": {
             "fillmode": "overlay",
             "size": 10,
             "solidity": 0.2
            },
            "type": "scatter"
           }
          ],
          "scatter3d": [
           {
            "line": {
             "colorbar": {
              "outlinewidth": 0,
              "ticks": ""
             }
            },
            "marker": {
             "colorbar": {
              "outlinewidth": 0,
              "ticks": ""
             }
            },
            "type": "scatter3d"
           }
          ],
          "scattercarpet": [
           {
            "marker": {
             "colorbar": {
              "outlinewidth": 0,
              "ticks": ""
             }
            },
            "type": "scattercarpet"
           }
          ],
          "scattergeo": [
           {
            "marker": {
             "colorbar": {
              "outlinewidth": 0,
              "ticks": ""
             }
            },
            "type": "scattergeo"
           }
          ],
          "scattergl": [
           {
            "marker": {
             "colorbar": {
              "outlinewidth": 0,
              "ticks": ""
             }
            },
            "type": "scattergl"
           }
          ],
          "scattermapbox": [
           {
            "marker": {
             "colorbar": {
              "outlinewidth": 0,
              "ticks": ""
             }
            },
            "type": "scattermapbox"
           }
          ],
          "scatterpolar": [
           {
            "marker": {
             "colorbar": {
              "outlinewidth": 0,
              "ticks": ""
             }
            },
            "type": "scatterpolar"
           }
          ],
          "scatterpolargl": [
           {
            "marker": {
             "colorbar": {
              "outlinewidth": 0,
              "ticks": ""
             }
            },
            "type": "scatterpolargl"
           }
          ],
          "scatterternary": [
           {
            "marker": {
             "colorbar": {
              "outlinewidth": 0,
              "ticks": ""
             }
            },
            "type": "scatterternary"
           }
          ],
          "surface": [
           {
            "colorbar": {
             "outlinewidth": 0,
             "ticks": ""
            },
            "colorscale": [
             [
              0,
              "#0d0887"
             ],
             [
              0.1111111111111111,
              "#46039f"
             ],
             [
              0.2222222222222222,
              "#7201a8"
             ],
             [
              0.3333333333333333,
              "#9c179e"
             ],
             [
              0.4444444444444444,
              "#bd3786"
             ],
             [
              0.5555555555555556,
              "#d8576b"
             ],
             [
              0.6666666666666666,
              "#ed7953"
             ],
             [
              0.7777777777777778,
              "#fb9f3a"
             ],
             [
              0.8888888888888888,
              "#fdca26"
             ],
             [
              1,
              "#f0f921"
             ]
            ],
            "type": "surface"
           }
          ],
          "table": [
           {
            "cells": {
             "fill": {
              "color": "#EBF0F8"
             },
             "line": {
              "color": "white"
             }
            },
            "header": {
             "fill": {
              "color": "#C8D4E3"
             },
             "line": {
              "color": "white"
             }
            },
            "type": "table"
           }
          ]
         },
         "layout": {
          "annotationdefaults": {
           "arrowcolor": "#2a3f5f",
           "arrowhead": 0,
           "arrowwidth": 1
          },
          "autotypenumbers": "strict",
          "coloraxis": {
           "colorbar": {
            "outlinewidth": 0,
            "ticks": ""
           }
          },
          "colorscale": {
           "diverging": [
            [
             0,
             "#8e0152"
            ],
            [
             0.1,
             "#c51b7d"
            ],
            [
             0.2,
             "#de77ae"
            ],
            [
             0.3,
             "#f1b6da"
            ],
            [
             0.4,
             "#fde0ef"
            ],
            [
             0.5,
             "#f7f7f7"
            ],
            [
             0.6,
             "#e6f5d0"
            ],
            [
             0.7,
             "#b8e186"
            ],
            [
             0.8,
             "#7fbc41"
            ],
            [
             0.9,
             "#4d9221"
            ],
            [
             1,
             "#276419"
            ]
           ],
           "sequential": [
            [
             0,
             "#0d0887"
            ],
            [
             0.1111111111111111,
             "#46039f"
            ],
            [
             0.2222222222222222,
             "#7201a8"
            ],
            [
             0.3333333333333333,
             "#9c179e"
            ],
            [
             0.4444444444444444,
             "#bd3786"
            ],
            [
             0.5555555555555556,
             "#d8576b"
            ],
            [
             0.6666666666666666,
             "#ed7953"
            ],
            [
             0.7777777777777778,
             "#fb9f3a"
            ],
            [
             0.8888888888888888,
             "#fdca26"
            ],
            [
             1,
             "#f0f921"
            ]
           ],
           "sequentialminus": [
            [
             0,
             "#0d0887"
            ],
            [
             0.1111111111111111,
             "#46039f"
            ],
            [
             0.2222222222222222,
             "#7201a8"
            ],
            [
             0.3333333333333333,
             "#9c179e"
            ],
            [
             0.4444444444444444,
             "#bd3786"
            ],
            [
             0.5555555555555556,
             "#d8576b"
            ],
            [
             0.6666666666666666,
             "#ed7953"
            ],
            [
             0.7777777777777778,
             "#fb9f3a"
            ],
            [
             0.8888888888888888,
             "#fdca26"
            ],
            [
             1,
             "#f0f921"
            ]
           ]
          },
          "colorway": [
           "#636efa",
           "#EF553B",
           "#00cc96",
           "#ab63fa",
           "#FFA15A",
           "#19d3f3",
           "#FF6692",
           "#B6E880",
           "#FF97FF",
           "#FECB52"
          ],
          "font": {
           "color": "#2a3f5f"
          },
          "geo": {
           "bgcolor": "white",
           "lakecolor": "white",
           "landcolor": "#E5ECF6",
           "showlakes": true,
           "showland": true,
           "subunitcolor": "white"
          },
          "hoverlabel": {
           "align": "left"
          },
          "hovermode": "closest",
          "mapbox": {
           "style": "light"
          },
          "paper_bgcolor": "white",
          "plot_bgcolor": "#E5ECF6",
          "polar": {
           "angularaxis": {
            "gridcolor": "white",
            "linecolor": "white",
            "ticks": ""
           },
           "bgcolor": "#E5ECF6",
           "radialaxis": {
            "gridcolor": "white",
            "linecolor": "white",
            "ticks": ""
           }
          },
          "scene": {
           "xaxis": {
            "backgroundcolor": "#E5ECF6",
            "gridcolor": "white",
            "gridwidth": 2,
            "linecolor": "white",
            "showbackground": true,
            "ticks": "",
            "zerolinecolor": "white"
           },
           "yaxis": {
            "backgroundcolor": "#E5ECF6",
            "gridcolor": "white",
            "gridwidth": 2,
            "linecolor": "white",
            "showbackground": true,
            "ticks": "",
            "zerolinecolor": "white"
           },
           "zaxis": {
            "backgroundcolor": "#E5ECF6",
            "gridcolor": "white",
            "gridwidth": 2,
            "linecolor": "white",
            "showbackground": true,
            "ticks": "",
            "zerolinecolor": "white"
           }
          },
          "shapedefaults": {
           "line": {
            "color": "#2a3f5f"
           }
          },
          "ternary": {
           "aaxis": {
            "gridcolor": "white",
            "linecolor": "white",
            "ticks": ""
           },
           "baxis": {
            "gridcolor": "white",
            "linecolor": "white",
            "ticks": ""
           },
           "bgcolor": "#E5ECF6",
           "caxis": {
            "gridcolor": "white",
            "linecolor": "white",
            "ticks": ""
           }
          },
          "title": {
           "x": 0.05
          },
          "xaxis": {
           "automargin": true,
           "gridcolor": "white",
           "linecolor": "white",
           "ticks": "",
           "title": {
            "standoff": 15
           },
           "zerolinecolor": "white",
           "zerolinewidth": 2
          },
          "yaxis": {
           "automargin": true,
           "gridcolor": "white",
           "linecolor": "white",
           "ticks": "",
           "title": {
            "standoff": 15
           },
           "zerolinecolor": "white",
           "zerolinewidth": 2
          }
         }
        },
        "title": {
         "text": "Average Sentiment per Part"
        },
        "width": 1000,
        "xaxis": {
         "anchor": "y",
         "domain": [
          0,
          1
         ],
         "title": {
          "text": "Part"
         }
        },
        "xaxis2": {
         "anchor": "y2",
         "domain": [
          0,
          1
         ],
         "title": {
          "text": "Part"
         }
        },
        "yaxis": {
         "anchor": "x",
         "domain": [
          0.625,
          1
         ],
         "title": {
          "text": "Average Sentiment"
         }
        },
        "yaxis2": {
         "anchor": "x2",
         "domain": [
          0,
          0.375
         ],
         "title": {
          "text": "Average Sentiment"
         }
        }
       }
      }
     },
     "metadata": {},
     "output_type": "display_data"
    },
    {
     "data": {
      "application/vnd.plotly.v1+json": {
       "config": {
        "plotlyServerURL": "https://plot.ly"
       },
       "data": [
        {
         "mode": "markers+lines+text",
         "text": [
          "heathcliff, one, dogs, snow, ye, would, could, joseph, mr, sir",
          "hindley, children, would, heathcliff, earnshaw, one, mr, could, catherine, cathy",
          "hindley, heathcliff, catherine, edgar, would, linton, yah, said, mr, miss",
          "isabella, linton, heathcliff, said, would, edgar, catherine, could, mr, nelly",
          "un, letter, ye, heathcliff, would, catherine, could, linton, shall, said",
          "papa, would, hindley, heathcliff, one, said, mr, mile, catherine, could",
          "papa, cousin, linton, would, said, heathcliff, mr, ellen, miss, catherine",
          "papa, linton, cousin, catherine, would, said, father, heathcliff, ellen, us",
          "papa, catherine, heathcliff, said, would, linton, cousin, mr, one, shall",
          "cousin, hareton, would, heathcliff, mr, th, said, could, catherine, one",
          "quiet, youth, food, fool, foolish, foot, force, forced, forehead, forget"
         ],
         "type": "scatter",
         "x": [
          0,
          1,
          2,
          3,
          4,
          5,
          6,
          7,
          8,
          9,
          10
         ],
         "xaxis": "x",
         "y": [
          55,
          53,
          46,
          42,
          46,
          45,
          45,
          47,
          46,
          46,
          51
         ],
         "yaxis": "y"
        },
        {
         "mode": "markers+lines+text",
         "text": [
          "got, hold, man, heathcliff, dog, approaching, well, horse, nelly, get",
          "hindley, dog, horse, tell, look, get, joseph, barking, heathcliff, nelly",
          "hindley, man, heathcliff, joseph, hello, let, get, well, got, good",
          "dog, get, hindley, see, barking, joseph, heathcliff, know, leave, got",
          "look, got, nelly, like, edgar, hindley, heathcliff, get, hello, joseph",
          "nelly, please, never, well, know, tell, still, door, good, love",
          "edgar, nelly, coughing, tell, heathcliff, right, know, love, take, see",
          "heathcliff, get, man, edgar, need, hello, please, hindley, think, wind",
          "edgar, need, yes, please, barking, going, approaching, well, take, like",
          "heathcliff, leave, get, look, never, dog, like, door, would, hello"
         ],
         "type": "scatter",
         "x": [
          0,
          1,
          2,
          3,
          4,
          5,
          6,
          7,
          8,
          9
         ],
         "xaxis": "x2",
         "y": [
          45,
          28,
          46,
          51,
          56,
          85,
          45,
          59,
          38,
          47
         ],
         "yaxis": "y2"
        }
       ],
       "layout": {
        "annotations": [
         {
          "font": {
           "size": 16
          },
          "showarrow": false,
          "text": "Book: Wuthering Heights by Emily Brontë",
          "x": 0.5,
          "xanchor": "center",
          "xref": "paper",
          "y": 1,
          "yanchor": "bottom",
          "yref": "paper"
         },
         {
          "font": {
           "size": 16
          },
          "showarrow": false,
          "text": "Movie: Wuthering Heights, 2011",
          "x": 0.5,
          "xanchor": "center",
          "xref": "paper",
          "y": 0.375,
          "yanchor": "bottom",
          "yref": "paper"
         }
        ],
        "height": 1600,
        "hovermode": "x",
        "template": {
         "data": {
          "bar": [
           {
            "error_x": {
             "color": "#2a3f5f"
            },
            "error_y": {
             "color": "#2a3f5f"
            },
            "marker": {
             "line": {
              "color": "#E5ECF6",
              "width": 0.5
             },
             "pattern": {
              "fillmode": "overlay",
              "size": 10,
              "solidity": 0.2
             }
            },
            "type": "bar"
           }
          ],
          "barpolar": [
           {
            "marker": {
             "line": {
              "color": "#E5ECF6",
              "width": 0.5
             },
             "pattern": {
              "fillmode": "overlay",
              "size": 10,
              "solidity": 0.2
             }
            },
            "type": "barpolar"
           }
          ],
          "carpet": [
           {
            "aaxis": {
             "endlinecolor": "#2a3f5f",
             "gridcolor": "white",
             "linecolor": "white",
             "minorgridcolor": "white",
             "startlinecolor": "#2a3f5f"
            },
            "baxis": {
             "endlinecolor": "#2a3f5f",
             "gridcolor": "white",
             "linecolor": "white",
             "minorgridcolor": "white",
             "startlinecolor": "#2a3f5f"
            },
            "type": "carpet"
           }
          ],
          "choropleth": [
           {
            "colorbar": {
             "outlinewidth": 0,
             "ticks": ""
            },
            "type": "choropleth"
           }
          ],
          "contour": [
           {
            "colorbar": {
             "outlinewidth": 0,
             "ticks": ""
            },
            "colorscale": [
             [
              0,
              "#0d0887"
             ],
             [
              0.1111111111111111,
              "#46039f"
             ],
             [
              0.2222222222222222,
              "#7201a8"
             ],
             [
              0.3333333333333333,
              "#9c179e"
             ],
             [
              0.4444444444444444,
              "#bd3786"
             ],
             [
              0.5555555555555556,
              "#d8576b"
             ],
             [
              0.6666666666666666,
              "#ed7953"
             ],
             [
              0.7777777777777778,
              "#fb9f3a"
             ],
             [
              0.8888888888888888,
              "#fdca26"
             ],
             [
              1,
              "#f0f921"
             ]
            ],
            "type": "contour"
           }
          ],
          "contourcarpet": [
           {
            "colorbar": {
             "outlinewidth": 0,
             "ticks": ""
            },
            "type": "contourcarpet"
           }
          ],
          "heatmap": [
           {
            "colorbar": {
             "outlinewidth": 0,
             "ticks": ""
            },
            "colorscale": [
             [
              0,
              "#0d0887"
             ],
             [
              0.1111111111111111,
              "#46039f"
             ],
             [
              0.2222222222222222,
              "#7201a8"
             ],
             [
              0.3333333333333333,
              "#9c179e"
             ],
             [
              0.4444444444444444,
              "#bd3786"
             ],
             [
              0.5555555555555556,
              "#d8576b"
             ],
             [
              0.6666666666666666,
              "#ed7953"
             ],
             [
              0.7777777777777778,
              "#fb9f3a"
             ],
             [
              0.8888888888888888,
              "#fdca26"
             ],
             [
              1,
              "#f0f921"
             ]
            ],
            "type": "heatmap"
           }
          ],
          "heatmapgl": [
           {
            "colorbar": {
             "outlinewidth": 0,
             "ticks": ""
            },
            "colorscale": [
             [
              0,
              "#0d0887"
             ],
             [
              0.1111111111111111,
              "#46039f"
             ],
             [
              0.2222222222222222,
              "#7201a8"
             ],
             [
              0.3333333333333333,
              "#9c179e"
             ],
             [
              0.4444444444444444,
              "#bd3786"
             ],
             [
              0.5555555555555556,
              "#d8576b"
             ],
             [
              0.6666666666666666,
              "#ed7953"
             ],
             [
              0.7777777777777778,
              "#fb9f3a"
             ],
             [
              0.8888888888888888,
              "#fdca26"
             ],
             [
              1,
              "#f0f921"
             ]
            ],
            "type": "heatmapgl"
           }
          ],
          "histogram": [
           {
            "marker": {
             "pattern": {
              "fillmode": "overlay",
              "size": 10,
              "solidity": 0.2
             }
            },
            "type": "histogram"
           }
          ],
          "histogram2d": [
           {
            "colorbar": {
             "outlinewidth": 0,
             "ticks": ""
            },
            "colorscale": [
             [
              0,
              "#0d0887"
             ],
             [
              0.1111111111111111,
              "#46039f"
             ],
             [
              0.2222222222222222,
              "#7201a8"
             ],
             [
              0.3333333333333333,
              "#9c179e"
             ],
             [
              0.4444444444444444,
              "#bd3786"
             ],
             [
              0.5555555555555556,
              "#d8576b"
             ],
             [
              0.6666666666666666,
              "#ed7953"
             ],
             [
              0.7777777777777778,
              "#fb9f3a"
             ],
             [
              0.8888888888888888,
              "#fdca26"
             ],
             [
              1,
              "#f0f921"
             ]
            ],
            "type": "histogram2d"
           }
          ],
          "histogram2dcontour": [
           {
            "colorbar": {
             "outlinewidth": 0,
             "ticks": ""
            },
            "colorscale": [
             [
              0,
              "#0d0887"
             ],
             [
              0.1111111111111111,
              "#46039f"
             ],
             [
              0.2222222222222222,
              "#7201a8"
             ],
             [
              0.3333333333333333,
              "#9c179e"
             ],
             [
              0.4444444444444444,
              "#bd3786"
             ],
             [
              0.5555555555555556,
              "#d8576b"
             ],
             [
              0.6666666666666666,
              "#ed7953"
             ],
             [
              0.7777777777777778,
              "#fb9f3a"
             ],
             [
              0.8888888888888888,
              "#fdca26"
             ],
             [
              1,
              "#f0f921"
             ]
            ],
            "type": "histogram2dcontour"
           }
          ],
          "mesh3d": [
           {
            "colorbar": {
             "outlinewidth": 0,
             "ticks": ""
            },
            "type": "mesh3d"
           }
          ],
          "parcoords": [
           {
            "line": {
             "colorbar": {
              "outlinewidth": 0,
              "ticks": ""
             }
            },
            "type": "parcoords"
           }
          ],
          "pie": [
           {
            "automargin": true,
            "type": "pie"
           }
          ],
          "scatter": [
           {
            "fillpattern": {
             "fillmode": "overlay",
             "size": 10,
             "solidity": 0.2
            },
            "type": "scatter"
           }
          ],
          "scatter3d": [
           {
            "line": {
             "colorbar": {
              "outlinewidth": 0,
              "ticks": ""
             }
            },
            "marker": {
             "colorbar": {
              "outlinewidth": 0,
              "ticks": ""
             }
            },
            "type": "scatter3d"
           }
          ],
          "scattercarpet": [
           {
            "marker": {
             "colorbar": {
              "outlinewidth": 0,
              "ticks": ""
             }
            },
            "type": "scattercarpet"
           }
          ],
          "scattergeo": [
           {
            "marker": {
             "colorbar": {
              "outlinewidth": 0,
              "ticks": ""
             }
            },
            "type": "scattergeo"
           }
          ],
          "scattergl": [
           {
            "marker": {
             "colorbar": {
              "outlinewidth": 0,
              "ticks": ""
             }
            },
            "type": "scattergl"
           }
          ],
          "scattermapbox": [
           {
            "marker": {
             "colorbar": {
              "outlinewidth": 0,
              "ticks": ""
             }
            },
            "type": "scattermapbox"
           }
          ],
          "scatterpolar": [
           {
            "marker": {
             "colorbar": {
              "outlinewidth": 0,
              "ticks": ""
             }
            },
            "type": "scatterpolar"
           }
          ],
          "scatterpolargl": [
           {
            "marker": {
             "colorbar": {
              "outlinewidth": 0,
              "ticks": ""
             }
            },
            "type": "scatterpolargl"
           }
          ],
          "scatterternary": [
           {
            "marker": {
             "colorbar": {
              "outlinewidth": 0,
              "ticks": ""
             }
            },
            "type": "scatterternary"
           }
          ],
          "surface": [
           {
            "colorbar": {
             "outlinewidth": 0,
             "ticks": ""
            },
            "colorscale": [
             [
              0,
              "#0d0887"
             ],
             [
              0.1111111111111111,
              "#46039f"
             ],
             [
              0.2222222222222222,
              "#7201a8"
             ],
             [
              0.3333333333333333,
              "#9c179e"
             ],
             [
              0.4444444444444444,
              "#bd3786"
             ],
             [
              0.5555555555555556,
              "#d8576b"
             ],
             [
              0.6666666666666666,
              "#ed7953"
             ],
             [
              0.7777777777777778,
              "#fb9f3a"
             ],
             [
              0.8888888888888888,
              "#fdca26"
             ],
             [
              1,
              "#f0f921"
             ]
            ],
            "type": "surface"
           }
          ],
          "table": [
           {
            "cells": {
             "fill": {
              "color": "#EBF0F8"
             },
             "line": {
              "color": "white"
             }
            },
            "header": {
             "fill": {
              "color": "#C8D4E3"
             },
             "line": {
              "color": "white"
             }
            },
            "type": "table"
           }
          ]
         },
         "layout": {
          "annotationdefaults": {
           "arrowcolor": "#2a3f5f",
           "arrowhead": 0,
           "arrowwidth": 1
          },
          "autotypenumbers": "strict",
          "coloraxis": {
           "colorbar": {
            "outlinewidth": 0,
            "ticks": ""
           }
          },
          "colorscale": {
           "diverging": [
            [
             0,
             "#8e0152"
            ],
            [
             0.1,
             "#c51b7d"
            ],
            [
             0.2,
             "#de77ae"
            ],
            [
             0.3,
             "#f1b6da"
            ],
            [
             0.4,
             "#fde0ef"
            ],
            [
             0.5,
             "#f7f7f7"
            ],
            [
             0.6,
             "#e6f5d0"
            ],
            [
             0.7,
             "#b8e186"
            ],
            [
             0.8,
             "#7fbc41"
            ],
            [
             0.9,
             "#4d9221"
            ],
            [
             1,
             "#276419"
            ]
           ],
           "sequential": [
            [
             0,
             "#0d0887"
            ],
            [
             0.1111111111111111,
             "#46039f"
            ],
            [
             0.2222222222222222,
             "#7201a8"
            ],
            [
             0.3333333333333333,
             "#9c179e"
            ],
            [
             0.4444444444444444,
             "#bd3786"
            ],
            [
             0.5555555555555556,
             "#d8576b"
            ],
            [
             0.6666666666666666,
             "#ed7953"
            ],
            [
             0.7777777777777778,
             "#fb9f3a"
            ],
            [
             0.8888888888888888,
             "#fdca26"
            ],
            [
             1,
             "#f0f921"
            ]
           ],
           "sequentialminus": [
            [
             0,
             "#0d0887"
            ],
            [
             0.1111111111111111,
             "#46039f"
            ],
            [
             0.2222222222222222,
             "#7201a8"
            ],
            [
             0.3333333333333333,
             "#9c179e"
            ],
            [
             0.4444444444444444,
             "#bd3786"
            ],
            [
             0.5555555555555556,
             "#d8576b"
            ],
            [
             0.6666666666666666,
             "#ed7953"
            ],
            [
             0.7777777777777778,
             "#fb9f3a"
            ],
            [
             0.8888888888888888,
             "#fdca26"
            ],
            [
             1,
             "#f0f921"
            ]
           ]
          },
          "colorway": [
           "#636efa",
           "#EF553B",
           "#00cc96",
           "#ab63fa",
           "#FFA15A",
           "#19d3f3",
           "#FF6692",
           "#B6E880",
           "#FF97FF",
           "#FECB52"
          ],
          "font": {
           "color": "#2a3f5f"
          },
          "geo": {
           "bgcolor": "white",
           "lakecolor": "white",
           "landcolor": "#E5ECF6",
           "showlakes": true,
           "showland": true,
           "subunitcolor": "white"
          },
          "hoverlabel": {
           "align": "left"
          },
          "hovermode": "closest",
          "mapbox": {
           "style": "light"
          },
          "paper_bgcolor": "white",
          "plot_bgcolor": "#E5ECF6",
          "polar": {
           "angularaxis": {
            "gridcolor": "white",
            "linecolor": "white",
            "ticks": ""
           },
           "bgcolor": "#E5ECF6",
           "radialaxis": {
            "gridcolor": "white",
            "linecolor": "white",
            "ticks": ""
           }
          },
          "scene": {
           "xaxis": {
            "backgroundcolor": "#E5ECF6",
            "gridcolor": "white",
            "gridwidth": 2,
            "linecolor": "white",
            "showbackground": true,
            "ticks": "",
            "zerolinecolor": "white"
           },
           "yaxis": {
            "backgroundcolor": "#E5ECF6",
            "gridcolor": "white",
            "gridwidth": 2,
            "linecolor": "white",
            "showbackground": true,
            "ticks": "",
            "zerolinecolor": "white"
           },
           "zaxis": {
            "backgroundcolor": "#E5ECF6",
            "gridcolor": "white",
            "gridwidth": 2,
            "linecolor": "white",
            "showbackground": true,
            "ticks": "",
            "zerolinecolor": "white"
           }
          },
          "shapedefaults": {
           "line": {
            "color": "#2a3f5f"
           }
          },
          "ternary": {
           "aaxis": {
            "gridcolor": "white",
            "linecolor": "white",
            "ticks": ""
           },
           "baxis": {
            "gridcolor": "white",
            "linecolor": "white",
            "ticks": ""
           },
           "bgcolor": "#E5ECF6",
           "caxis": {
            "gridcolor": "white",
            "linecolor": "white",
            "ticks": ""
           }
          },
          "title": {
           "x": 0.05
          },
          "xaxis": {
           "automargin": true,
           "gridcolor": "white",
           "linecolor": "white",
           "ticks": "",
           "title": {
            "standoff": 15
           },
           "zerolinecolor": "white",
           "zerolinewidth": 2
          },
          "yaxis": {
           "automargin": true,
           "gridcolor": "white",
           "linecolor": "white",
           "ticks": "",
           "title": {
            "standoff": 15
           },
           "zerolinecolor": "white",
           "zerolinewidth": 2
          }
         }
        },
        "title": {
         "text": "Average Sentiment per Part"
        },
        "width": 1000,
        "xaxis": {
         "anchor": "y",
         "domain": [
          0,
          1
         ],
         "title": {
          "text": "Part"
         }
        },
        "xaxis2": {
         "anchor": "y2",
         "domain": [
          0,
          1
         ],
         "title": {
          "text": "Part"
         }
        },
        "yaxis": {
         "anchor": "x",
         "domain": [
          0.625,
          1
         ],
         "title": {
          "text": "Average Sentiment"
         }
        },
        "yaxis2": {
         "anchor": "x2",
         "domain": [
          0,
          0.375
         ],
         "title": {
          "text": "Average Sentiment"
         }
        }
       }
      }
     },
     "metadata": {},
     "output_type": "display_data"
    }
   ],
   "source": [
    "for pair in zip(book_dfs, subs_dfs):\n",
    "    fig = make_subplots(rows=2, cols=1,\n",
    "                        subplot_titles=(f\"Book: {pair[0]['title'][0]} by {pair[0]['author'][0]}\", f\"Movie: {pair[1]['title'][0]}, {pair[1]['year'][0]}\"))\n",
    "\n",
    "    fig.add_trace(go.Scatter(x=pair[0].index,\n",
    "                            y=pair[0]['parts_sentiment'],\n",
    "                            text=pair[0]['relevant_words'],\n",
    "                            mode='markers+lines+text'), row=1, col=1)\n",
    "\n",
    "    fig.add_trace(go.Scatter(x=pair[1].index,\n",
    "                            y=pair[1]['parts_sentiment'],\n",
    "                            text=pair[1]['relevant_words'],\n",
    "                            mode='markers+lines+text'), row=2, col=1)\n",
    "\n",
    "    fig.update_layout(title_text='Average Sentiment per Part', hovermode='x', width=1000, height=1600)\n",
    "\n",
    "    fig['layout']['xaxis']['title']='Part'\n",
    "    fig['layout']['xaxis2']['title']='Part'\n",
    "    fig['layout']['yaxis']['title']='Average Sentiment'\n",
    "    fig['layout']['yaxis2']['title']='Average Sentiment'\n",
    "\n",
    "    fig.show()"
   ]
  },
  {
   "attachments": {},
   "cell_type": "markdown",
   "metadata": {},
   "source": [
    "In this one we also have the most relevant people and actions in the split."
   ]
  },
  {
   "cell_type": "code",
   "execution_count": 48,
   "metadata": {},
   "outputs": [
    {
     "data": {
      "application/vnd.plotly.v1+json": {
       "config": {
        "plotlyServerURL": "https://plot.ly"
       },
       "data": [
        {
         "mode": "markers+lines+text",
         "text": [
          "People: filson, christopher, deg | Verbs: come, seem, move, pass, lay",
          "People: louis, quatorze | Verbs: look, find, take, seem, crown",
          "People: jerry | Verbs: come, say, make, live, know",
          "People: john, jacob, christopher | Verbs: come, go, know, say, take",
          "People: smith, hitherto, favourite | Verbs: go, come, say, leave, get",
          "People: dynamos, murdoch, carpathia | Verbs: go, see, come, know, tell",
          "People: prinz, friedrich | Verbs: come, see, take, find, hear",
          "People: franklin, carpathia, christopher | Verbs: save, come, make, wait, carry",
          "People: john, william, arthur | Verbs: illustrate, gild, see, sew, translate",
          "People: cloth, william, john | Verbs: gild, illustrate, poem, sew, see",
          "People:  | Verbs: essay"
         ],
         "type": "scatter",
         "x": [
          0,
          1,
          2,
          3,
          4,
          5,
          6,
          7,
          8,
          9,
          10
         ],
         "xaxis": "x",
         "y": [
          69,
          61,
          57,
          53,
          44,
          48,
          40,
          47,
          57,
          65,
          48
         ],
         "yaxis": "y"
        },
        {
         "mode": "markers+lines+text",
         "text": [
          "People: calvert, bobby, cigar | Verbs: go, see, get, know, take",
          "People: jack, pazzo, bet | Verbs: go, see, come, get, call",
          "People: jack, louis, xvl | Verbs: go, know, come, think, get",
          "People: jack, dawson, exquisite | Verbs: see, get, go, leave, come",
          "People: jack, stop, hear | Verbs: go, rise, come, know, see",
          "People: jack, jesus, come | Verbs: go, see, get, know, look",
          "People: hockley, murdoch, iceberg | Verbs: go, get, put, come, know",
          "People: jack, god, steward | Verbs: go, rise, come, get, let",
          "People: jack, murdoch, stuck | Verbs: come, go, get, rise, keep",
          "People: jack, know, boat | Verbs: go, come, let, rise, keep"
         ],
         "type": "scatter",
         "x": [
          0,
          1,
          2,
          3,
          4,
          5,
          6,
          7,
          8,
          9
         ],
         "xaxis": "x2",
         "y": [
          54,
          76,
          52,
          56,
          56,
          55,
          48,
          49,
          59,
          53
         ],
         "yaxis": "y2"
        }
       ],
       "layout": {
        "annotations": [
         {
          "font": {
           "size": 16
          },
          "showarrow": false,
          "text": "Book: Titanic by Filson Young",
          "x": 0.5,
          "xanchor": "center",
          "xref": "paper",
          "y": 1,
          "yanchor": "bottom",
          "yref": "paper"
         },
         {
          "font": {
           "size": 16
          },
          "showarrow": false,
          "text": "Movie: Titanic, 1997",
          "x": 0.5,
          "xanchor": "center",
          "xref": "paper",
          "y": 0.375,
          "yanchor": "bottom",
          "yref": "paper"
         }
        ],
        "height": 1600,
        "hovermode": "x",
        "template": {
         "data": {
          "bar": [
           {
            "error_x": {
             "color": "#2a3f5f"
            },
            "error_y": {
             "color": "#2a3f5f"
            },
            "marker": {
             "line": {
              "color": "#E5ECF6",
              "width": 0.5
             },
             "pattern": {
              "fillmode": "overlay",
              "size": 10,
              "solidity": 0.2
             }
            },
            "type": "bar"
           }
          ],
          "barpolar": [
           {
            "marker": {
             "line": {
              "color": "#E5ECF6",
              "width": 0.5
             },
             "pattern": {
              "fillmode": "overlay",
              "size": 10,
              "solidity": 0.2
             }
            },
            "type": "barpolar"
           }
          ],
          "carpet": [
           {
            "aaxis": {
             "endlinecolor": "#2a3f5f",
             "gridcolor": "white",
             "linecolor": "white",
             "minorgridcolor": "white",
             "startlinecolor": "#2a3f5f"
            },
            "baxis": {
             "endlinecolor": "#2a3f5f",
             "gridcolor": "white",
             "linecolor": "white",
             "minorgridcolor": "white",
             "startlinecolor": "#2a3f5f"
            },
            "type": "carpet"
           }
          ],
          "choropleth": [
           {
            "colorbar": {
             "outlinewidth": 0,
             "ticks": ""
            },
            "type": "choropleth"
           }
          ],
          "contour": [
           {
            "colorbar": {
             "outlinewidth": 0,
             "ticks": ""
            },
            "colorscale": [
             [
              0,
              "#0d0887"
             ],
             [
              0.1111111111111111,
              "#46039f"
             ],
             [
              0.2222222222222222,
              "#7201a8"
             ],
             [
              0.3333333333333333,
              "#9c179e"
             ],
             [
              0.4444444444444444,
              "#bd3786"
             ],
             [
              0.5555555555555556,
              "#d8576b"
             ],
             [
              0.6666666666666666,
              "#ed7953"
             ],
             [
              0.7777777777777778,
              "#fb9f3a"
             ],
             [
              0.8888888888888888,
              "#fdca26"
             ],
             [
              1,
              "#f0f921"
             ]
            ],
            "type": "contour"
           }
          ],
          "contourcarpet": [
           {
            "colorbar": {
             "outlinewidth": 0,
             "ticks": ""
            },
            "type": "contourcarpet"
           }
          ],
          "heatmap": [
           {
            "colorbar": {
             "outlinewidth": 0,
             "ticks": ""
            },
            "colorscale": [
             [
              0,
              "#0d0887"
             ],
             [
              0.1111111111111111,
              "#46039f"
             ],
             [
              0.2222222222222222,
              "#7201a8"
             ],
             [
              0.3333333333333333,
              "#9c179e"
             ],
             [
              0.4444444444444444,
              "#bd3786"
             ],
             [
              0.5555555555555556,
              "#d8576b"
             ],
             [
              0.6666666666666666,
              "#ed7953"
             ],
             [
              0.7777777777777778,
              "#fb9f3a"
             ],
             [
              0.8888888888888888,
              "#fdca26"
             ],
             [
              1,
              "#f0f921"
             ]
            ],
            "type": "heatmap"
           }
          ],
          "heatmapgl": [
           {
            "colorbar": {
             "outlinewidth": 0,
             "ticks": ""
            },
            "colorscale": [
             [
              0,
              "#0d0887"
             ],
             [
              0.1111111111111111,
              "#46039f"
             ],
             [
              0.2222222222222222,
              "#7201a8"
             ],
             [
              0.3333333333333333,
              "#9c179e"
             ],
             [
              0.4444444444444444,
              "#bd3786"
             ],
             [
              0.5555555555555556,
              "#d8576b"
             ],
             [
              0.6666666666666666,
              "#ed7953"
             ],
             [
              0.7777777777777778,
              "#fb9f3a"
             ],
             [
              0.8888888888888888,
              "#fdca26"
             ],
             [
              1,
              "#f0f921"
             ]
            ],
            "type": "heatmapgl"
           }
          ],
          "histogram": [
           {
            "marker": {
             "pattern": {
              "fillmode": "overlay",
              "size": 10,
              "solidity": 0.2
             }
            },
            "type": "histogram"
           }
          ],
          "histogram2d": [
           {
            "colorbar": {
             "outlinewidth": 0,
             "ticks": ""
            },
            "colorscale": [
             [
              0,
              "#0d0887"
             ],
             [
              0.1111111111111111,
              "#46039f"
             ],
             [
              0.2222222222222222,
              "#7201a8"
             ],
             [
              0.3333333333333333,
              "#9c179e"
             ],
             [
              0.4444444444444444,
              "#bd3786"
             ],
             [
              0.5555555555555556,
              "#d8576b"
             ],
             [
              0.6666666666666666,
              "#ed7953"
             ],
             [
              0.7777777777777778,
              "#fb9f3a"
             ],
             [
              0.8888888888888888,
              "#fdca26"
             ],
             [
              1,
              "#f0f921"
             ]
            ],
            "type": "histogram2d"
           }
          ],
          "histogram2dcontour": [
           {
            "colorbar": {
             "outlinewidth": 0,
             "ticks": ""
            },
            "colorscale": [
             [
              0,
              "#0d0887"
             ],
             [
              0.1111111111111111,
              "#46039f"
             ],
             [
              0.2222222222222222,
              "#7201a8"
             ],
             [
              0.3333333333333333,
              "#9c179e"
             ],
             [
              0.4444444444444444,
              "#bd3786"
             ],
             [
              0.5555555555555556,
              "#d8576b"
             ],
             [
              0.6666666666666666,
              "#ed7953"
             ],
             [
              0.7777777777777778,
              "#fb9f3a"
             ],
             [
              0.8888888888888888,
              "#fdca26"
             ],
             [
              1,
              "#f0f921"
             ]
            ],
            "type": "histogram2dcontour"
           }
          ],
          "mesh3d": [
           {
            "colorbar": {
             "outlinewidth": 0,
             "ticks": ""
            },
            "type": "mesh3d"
           }
          ],
          "parcoords": [
           {
            "line": {
             "colorbar": {
              "outlinewidth": 0,
              "ticks": ""
             }
            },
            "type": "parcoords"
           }
          ],
          "pie": [
           {
            "automargin": true,
            "type": "pie"
           }
          ],
          "scatter": [
           {
            "fillpattern": {
             "fillmode": "overlay",
             "size": 10,
             "solidity": 0.2
            },
            "type": "scatter"
           }
          ],
          "scatter3d": [
           {
            "line": {
             "colorbar": {
              "outlinewidth": 0,
              "ticks": ""
             }
            },
            "marker": {
             "colorbar": {
              "outlinewidth": 0,
              "ticks": ""
             }
            },
            "type": "scatter3d"
           }
          ],
          "scattercarpet": [
           {
            "marker": {
             "colorbar": {
              "outlinewidth": 0,
              "ticks": ""
             }
            },
            "type": "scattercarpet"
           }
          ],
          "scattergeo": [
           {
            "marker": {
             "colorbar": {
              "outlinewidth": 0,
              "ticks": ""
             }
            },
            "type": "scattergeo"
           }
          ],
          "scattergl": [
           {
            "marker": {
             "colorbar": {
              "outlinewidth": 0,
              "ticks": ""
             }
            },
            "type": "scattergl"
           }
          ],
          "scattermapbox": [
           {
            "marker": {
             "colorbar": {
              "outlinewidth": 0,
              "ticks": ""
             }
            },
            "type": "scattermapbox"
           }
          ],
          "scatterpolar": [
           {
            "marker": {
             "colorbar": {
              "outlinewidth": 0,
              "ticks": ""
             }
            },
            "type": "scatterpolar"
           }
          ],
          "scatterpolargl": [
           {
            "marker": {
             "colorbar": {
              "outlinewidth": 0,
              "ticks": ""
             }
            },
            "type": "scatterpolargl"
           }
          ],
          "scatterternary": [
           {
            "marker": {
             "colorbar": {
              "outlinewidth": 0,
              "ticks": ""
             }
            },
            "type": "scatterternary"
           }
          ],
          "surface": [
           {
            "colorbar": {
             "outlinewidth": 0,
             "ticks": ""
            },
            "colorscale": [
             [
              0,
              "#0d0887"
             ],
             [
              0.1111111111111111,
              "#46039f"
             ],
             [
              0.2222222222222222,
              "#7201a8"
             ],
             [
              0.3333333333333333,
              "#9c179e"
             ],
             [
              0.4444444444444444,
              "#bd3786"
             ],
             [
              0.5555555555555556,
              "#d8576b"
             ],
             [
              0.6666666666666666,
              "#ed7953"
             ],
             [
              0.7777777777777778,
              "#fb9f3a"
             ],
             [
              0.8888888888888888,
              "#fdca26"
             ],
             [
              1,
              "#f0f921"
             ]
            ],
            "type": "surface"
           }
          ],
          "table": [
           {
            "cells": {
             "fill": {
              "color": "#EBF0F8"
             },
             "line": {
              "color": "white"
             }
            },
            "header": {
             "fill": {
              "color": "#C8D4E3"
             },
             "line": {
              "color": "white"
             }
            },
            "type": "table"
           }
          ]
         },
         "layout": {
          "annotationdefaults": {
           "arrowcolor": "#2a3f5f",
           "arrowhead": 0,
           "arrowwidth": 1
          },
          "autotypenumbers": "strict",
          "coloraxis": {
           "colorbar": {
            "outlinewidth": 0,
            "ticks": ""
           }
          },
          "colorscale": {
           "diverging": [
            [
             0,
             "#8e0152"
            ],
            [
             0.1,
             "#c51b7d"
            ],
            [
             0.2,
             "#de77ae"
            ],
            [
             0.3,
             "#f1b6da"
            ],
            [
             0.4,
             "#fde0ef"
            ],
            [
             0.5,
             "#f7f7f7"
            ],
            [
             0.6,
             "#e6f5d0"
            ],
            [
             0.7,
             "#b8e186"
            ],
            [
             0.8,
             "#7fbc41"
            ],
            [
             0.9,
             "#4d9221"
            ],
            [
             1,
             "#276419"
            ]
           ],
           "sequential": [
            [
             0,
             "#0d0887"
            ],
            [
             0.1111111111111111,
             "#46039f"
            ],
            [
             0.2222222222222222,
             "#7201a8"
            ],
            [
             0.3333333333333333,
             "#9c179e"
            ],
            [
             0.4444444444444444,
             "#bd3786"
            ],
            [
             0.5555555555555556,
             "#d8576b"
            ],
            [
             0.6666666666666666,
             "#ed7953"
            ],
            [
             0.7777777777777778,
             "#fb9f3a"
            ],
            [
             0.8888888888888888,
             "#fdca26"
            ],
            [
             1,
             "#f0f921"
            ]
           ],
           "sequentialminus": [
            [
             0,
             "#0d0887"
            ],
            [
             0.1111111111111111,
             "#46039f"
            ],
            [
             0.2222222222222222,
             "#7201a8"
            ],
            [
             0.3333333333333333,
             "#9c179e"
            ],
            [
             0.4444444444444444,
             "#bd3786"
            ],
            [
             0.5555555555555556,
             "#d8576b"
            ],
            [
             0.6666666666666666,
             "#ed7953"
            ],
            [
             0.7777777777777778,
             "#fb9f3a"
            ],
            [
             0.8888888888888888,
             "#fdca26"
            ],
            [
             1,
             "#f0f921"
            ]
           ]
          },
          "colorway": [
           "#636efa",
           "#EF553B",
           "#00cc96",
           "#ab63fa",
           "#FFA15A",
           "#19d3f3",
           "#FF6692",
           "#B6E880",
           "#FF97FF",
           "#FECB52"
          ],
          "font": {
           "color": "#2a3f5f"
          },
          "geo": {
           "bgcolor": "white",
           "lakecolor": "white",
           "landcolor": "#E5ECF6",
           "showlakes": true,
           "showland": true,
           "subunitcolor": "white"
          },
          "hoverlabel": {
           "align": "left"
          },
          "hovermode": "closest",
          "mapbox": {
           "style": "light"
          },
          "paper_bgcolor": "white",
          "plot_bgcolor": "#E5ECF6",
          "polar": {
           "angularaxis": {
            "gridcolor": "white",
            "linecolor": "white",
            "ticks": ""
           },
           "bgcolor": "#E5ECF6",
           "radialaxis": {
            "gridcolor": "white",
            "linecolor": "white",
            "ticks": ""
           }
          },
          "scene": {
           "xaxis": {
            "backgroundcolor": "#E5ECF6",
            "gridcolor": "white",
            "gridwidth": 2,
            "linecolor": "white",
            "showbackground": true,
            "ticks": "",
            "zerolinecolor": "white"
           },
           "yaxis": {
            "backgroundcolor": "#E5ECF6",
            "gridcolor": "white",
            "gridwidth": 2,
            "linecolor": "white",
            "showbackground": true,
            "ticks": "",
            "zerolinecolor": "white"
           },
           "zaxis": {
            "backgroundcolor": "#E5ECF6",
            "gridcolor": "white",
            "gridwidth": 2,
            "linecolor": "white",
            "showbackground": true,
            "ticks": "",
            "zerolinecolor": "white"
           }
          },
          "shapedefaults": {
           "line": {
            "color": "#2a3f5f"
           }
          },
          "ternary": {
           "aaxis": {
            "gridcolor": "white",
            "linecolor": "white",
            "ticks": ""
           },
           "baxis": {
            "gridcolor": "white",
            "linecolor": "white",
            "ticks": ""
           },
           "bgcolor": "#E5ECF6",
           "caxis": {
            "gridcolor": "white",
            "linecolor": "white",
            "ticks": ""
           }
          },
          "title": {
           "x": 0.05
          },
          "xaxis": {
           "automargin": true,
           "gridcolor": "white",
           "linecolor": "white",
           "ticks": "",
           "title": {
            "standoff": 15
           },
           "zerolinecolor": "white",
           "zerolinewidth": 2
          },
          "yaxis": {
           "automargin": true,
           "gridcolor": "white",
           "linecolor": "white",
           "ticks": "",
           "title": {
            "standoff": 15
           },
           "zerolinecolor": "white",
           "zerolinewidth": 2
          }
         }
        },
        "title": {
         "text": "Average Sentiment per Part"
        },
        "width": 1000,
        "xaxis": {
         "anchor": "y",
         "domain": [
          0,
          1
         ],
         "title": {
          "text": "Part"
         }
        },
        "xaxis2": {
         "anchor": "y2",
         "domain": [
          0,
          1
         ],
         "title": {
          "text": "Part"
         }
        },
        "yaxis": {
         "anchor": "x",
         "domain": [
          0.625,
          1
         ],
         "title": {
          "text": "Average Sentiment"
         }
        },
        "yaxis2": {
         "anchor": "x2",
         "domain": [
          0,
          0.375
         ],
         "title": {
          "text": "Average Sentiment"
         }
        }
       }
      }
     },
     "metadata": {},
     "output_type": "display_data"
    },
    {
     "data": {
      "application/vnd.plotly.v1+json": {
       "config": {
        "plotlyServerURL": "https://plot.ly"
       },
       "data": [
        {
         "mode": "markers+lines+text",
         "text": [
          "People: elizabeth, bingley, george | Verbs: say, know, make, see, head",
          "People: elizabeth, bingley, darcy | Verbs: say, think, make, see, go",
          "People: elizabeth, wickham, bingley | Verbs: say, make, see, give, think",
          "People: elizabeth, bingley, william | Verbs: say, make, think, see, give",
          "People: elizabeth, william, de | Verbs: say, see, know, give, think",
          "People: elizabeth, wickham, bingley | Verbs: say, think, go, know, make",
          "People: elizabeth, darcy, kitty | Verbs: see, say, know, go, make",
          "People: elizabeth, bingley, darcy | Verbs: know, go, say, give, come",
          "People: elizabeth, wickham, bingley | Verbs: say, come, go, see, know",
          "People: elizabeth, kitty, jane | Verbs: say, make, know, give, come",
          "People: chancery, lane | Verbs: "
         ],
         "type": "scatter",
         "x": [
          0,
          1,
          2,
          3,
          4,
          5,
          6,
          7,
          8,
          9,
          10
         ],
         "xaxis": "x",
         "y": [
          60,
          58,
          51,
          61,
          60,
          45,
          56,
          45,
          53,
          54,
          67
         ],
         "yaxis": "y"
        },
        {
         "mode": "markers+lines+text",
         "text": [
          "People: kitty, bennet, elizabeth | Verbs: dance, know, tell, come, believe",
          "People: elizabeth, william, lucas | Verbs: know, see, go, think, find",
          "People: wickham, betsy, catherine | Verbs: make, give, look, ask, pass",
          "People: jane, elizabeth, bingley | Verbs: make, say, see, like, meet",
          "People: wickham, pleasant | Verbs: make, see, come, marry, give",
          "People: elizabeth, de, bourgh | Verbs: come, play, see, know, ask",
          "People: wickham, bingley | Verbs: tell, take, make, let, come",
          "People: elizabeth, georgiana, wickham | Verbs: know, see, think, go, tell",
          "People: darcy, wickham, elizabeth | Verbs: come, think, see, say, go",
          "People: elizabeth, bennet, mary | Verbs: make, know, come, tell, wish"
         ],
         "type": "scatter",
         "x": [
          0,
          1,
          2,
          3,
          4,
          5,
          6,
          7,
          8,
          9
         ],
         "xaxis": "x2",
         "y": [
          63,
          75,
          56,
          83,
          67,
          48,
          44,
          51,
          59,
          54
         ],
         "yaxis": "y2"
        }
       ],
       "layout": {
        "annotations": [
         {
          "font": {
           "size": 16
          },
          "showarrow": false,
          "text": "Book: Pride and Prejudice by Jane Austen",
          "x": 0.5,
          "xanchor": "center",
          "xref": "paper",
          "y": 1,
          "yanchor": "bottom",
          "yref": "paper"
         },
         {
          "font": {
           "size": 16
          },
          "showarrow": false,
          "text": "Movie: Pride & Prejudice, 2005",
          "x": 0.5,
          "xanchor": "center",
          "xref": "paper",
          "y": 0.375,
          "yanchor": "bottom",
          "yref": "paper"
         }
        ],
        "height": 1600,
        "hovermode": "x",
        "template": {
         "data": {
          "bar": [
           {
            "error_x": {
             "color": "#2a3f5f"
            },
            "error_y": {
             "color": "#2a3f5f"
            },
            "marker": {
             "line": {
              "color": "#E5ECF6",
              "width": 0.5
             },
             "pattern": {
              "fillmode": "overlay",
              "size": 10,
              "solidity": 0.2
             }
            },
            "type": "bar"
           }
          ],
          "barpolar": [
           {
            "marker": {
             "line": {
              "color": "#E5ECF6",
              "width": 0.5
             },
             "pattern": {
              "fillmode": "overlay",
              "size": 10,
              "solidity": 0.2
             }
            },
            "type": "barpolar"
           }
          ],
          "carpet": [
           {
            "aaxis": {
             "endlinecolor": "#2a3f5f",
             "gridcolor": "white",
             "linecolor": "white",
             "minorgridcolor": "white",
             "startlinecolor": "#2a3f5f"
            },
            "baxis": {
             "endlinecolor": "#2a3f5f",
             "gridcolor": "white",
             "linecolor": "white",
             "minorgridcolor": "white",
             "startlinecolor": "#2a3f5f"
            },
            "type": "carpet"
           }
          ],
          "choropleth": [
           {
            "colorbar": {
             "outlinewidth": 0,
             "ticks": ""
            },
            "type": "choropleth"
           }
          ],
          "contour": [
           {
            "colorbar": {
             "outlinewidth": 0,
             "ticks": ""
            },
            "colorscale": [
             [
              0,
              "#0d0887"
             ],
             [
              0.1111111111111111,
              "#46039f"
             ],
             [
              0.2222222222222222,
              "#7201a8"
             ],
             [
              0.3333333333333333,
              "#9c179e"
             ],
             [
              0.4444444444444444,
              "#bd3786"
             ],
             [
              0.5555555555555556,
              "#d8576b"
             ],
             [
              0.6666666666666666,
              "#ed7953"
             ],
             [
              0.7777777777777778,
              "#fb9f3a"
             ],
             [
              0.8888888888888888,
              "#fdca26"
             ],
             [
              1,
              "#f0f921"
             ]
            ],
            "type": "contour"
           }
          ],
          "contourcarpet": [
           {
            "colorbar": {
             "outlinewidth": 0,
             "ticks": ""
            },
            "type": "contourcarpet"
           }
          ],
          "heatmap": [
           {
            "colorbar": {
             "outlinewidth": 0,
             "ticks": ""
            },
            "colorscale": [
             [
              0,
              "#0d0887"
             ],
             [
              0.1111111111111111,
              "#46039f"
             ],
             [
              0.2222222222222222,
              "#7201a8"
             ],
             [
              0.3333333333333333,
              "#9c179e"
             ],
             [
              0.4444444444444444,
              "#bd3786"
             ],
             [
              0.5555555555555556,
              "#d8576b"
             ],
             [
              0.6666666666666666,
              "#ed7953"
             ],
             [
              0.7777777777777778,
              "#fb9f3a"
             ],
             [
              0.8888888888888888,
              "#fdca26"
             ],
             [
              1,
              "#f0f921"
             ]
            ],
            "type": "heatmap"
           }
          ],
          "heatmapgl": [
           {
            "colorbar": {
             "outlinewidth": 0,
             "ticks": ""
            },
            "colorscale": [
             [
              0,
              "#0d0887"
             ],
             [
              0.1111111111111111,
              "#46039f"
             ],
             [
              0.2222222222222222,
              "#7201a8"
             ],
             [
              0.3333333333333333,
              "#9c179e"
             ],
             [
              0.4444444444444444,
              "#bd3786"
             ],
             [
              0.5555555555555556,
              "#d8576b"
             ],
             [
              0.6666666666666666,
              "#ed7953"
             ],
             [
              0.7777777777777778,
              "#fb9f3a"
             ],
             [
              0.8888888888888888,
              "#fdca26"
             ],
             [
              1,
              "#f0f921"
             ]
            ],
            "type": "heatmapgl"
           }
          ],
          "histogram": [
           {
            "marker": {
             "pattern": {
              "fillmode": "overlay",
              "size": 10,
              "solidity": 0.2
             }
            },
            "type": "histogram"
           }
          ],
          "histogram2d": [
           {
            "colorbar": {
             "outlinewidth": 0,
             "ticks": ""
            },
            "colorscale": [
             [
              0,
              "#0d0887"
             ],
             [
              0.1111111111111111,
              "#46039f"
             ],
             [
              0.2222222222222222,
              "#7201a8"
             ],
             [
              0.3333333333333333,
              "#9c179e"
             ],
             [
              0.4444444444444444,
              "#bd3786"
             ],
             [
              0.5555555555555556,
              "#d8576b"
             ],
             [
              0.6666666666666666,
              "#ed7953"
             ],
             [
              0.7777777777777778,
              "#fb9f3a"
             ],
             [
              0.8888888888888888,
              "#fdca26"
             ],
             [
              1,
              "#f0f921"
             ]
            ],
            "type": "histogram2d"
           }
          ],
          "histogram2dcontour": [
           {
            "colorbar": {
             "outlinewidth": 0,
             "ticks": ""
            },
            "colorscale": [
             [
              0,
              "#0d0887"
             ],
             [
              0.1111111111111111,
              "#46039f"
             ],
             [
              0.2222222222222222,
              "#7201a8"
             ],
             [
              0.3333333333333333,
              "#9c179e"
             ],
             [
              0.4444444444444444,
              "#bd3786"
             ],
             [
              0.5555555555555556,
              "#d8576b"
             ],
             [
              0.6666666666666666,
              "#ed7953"
             ],
             [
              0.7777777777777778,
              "#fb9f3a"
             ],
             [
              0.8888888888888888,
              "#fdca26"
             ],
             [
              1,
              "#f0f921"
             ]
            ],
            "type": "histogram2dcontour"
           }
          ],
          "mesh3d": [
           {
            "colorbar": {
             "outlinewidth": 0,
             "ticks": ""
            },
            "type": "mesh3d"
           }
          ],
          "parcoords": [
           {
            "line": {
             "colorbar": {
              "outlinewidth": 0,
              "ticks": ""
             }
            },
            "type": "parcoords"
           }
          ],
          "pie": [
           {
            "automargin": true,
            "type": "pie"
           }
          ],
          "scatter": [
           {
            "fillpattern": {
             "fillmode": "overlay",
             "size": 10,
             "solidity": 0.2
            },
            "type": "scatter"
           }
          ],
          "scatter3d": [
           {
            "line": {
             "colorbar": {
              "outlinewidth": 0,
              "ticks": ""
             }
            },
            "marker": {
             "colorbar": {
              "outlinewidth": 0,
              "ticks": ""
             }
            },
            "type": "scatter3d"
           }
          ],
          "scattercarpet": [
           {
            "marker": {
             "colorbar": {
              "outlinewidth": 0,
              "ticks": ""
             }
            },
            "type": "scattercarpet"
           }
          ],
          "scattergeo": [
           {
            "marker": {
             "colorbar": {
              "outlinewidth": 0,
              "ticks": ""
             }
            },
            "type": "scattergeo"
           }
          ],
          "scattergl": [
           {
            "marker": {
             "colorbar": {
              "outlinewidth": 0,
              "ticks": ""
             }
            },
            "type": "scattergl"
           }
          ],
          "scattermapbox": [
           {
            "marker": {
             "colorbar": {
              "outlinewidth": 0,
              "ticks": ""
             }
            },
            "type": "scattermapbox"
           }
          ],
          "scatterpolar": [
           {
            "marker": {
             "colorbar": {
              "outlinewidth": 0,
              "ticks": ""
             }
            },
            "type": "scatterpolar"
           }
          ],
          "scatterpolargl": [
           {
            "marker": {
             "colorbar": {
              "outlinewidth": 0,
              "ticks": ""
             }
            },
            "type": "scatterpolargl"
           }
          ],
          "scatterternary": [
           {
            "marker": {
             "colorbar": {
              "outlinewidth": 0,
              "ticks": ""
             }
            },
            "type": "scatterternary"
           }
          ],
          "surface": [
           {
            "colorbar": {
             "outlinewidth": 0,
             "ticks": ""
            },
            "colorscale": [
             [
              0,
              "#0d0887"
             ],
             [
              0.1111111111111111,
              "#46039f"
             ],
             [
              0.2222222222222222,
              "#7201a8"
             ],
             [
              0.3333333333333333,
              "#9c179e"
             ],
             [
              0.4444444444444444,
              "#bd3786"
             ],
             [
              0.5555555555555556,
              "#d8576b"
             ],
             [
              0.6666666666666666,
              "#ed7953"
             ],
             [
              0.7777777777777778,
              "#fb9f3a"
             ],
             [
              0.8888888888888888,
              "#fdca26"
             ],
             [
              1,
              "#f0f921"
             ]
            ],
            "type": "surface"
           }
          ],
          "table": [
           {
            "cells": {
             "fill": {
              "color": "#EBF0F8"
             },
             "line": {
              "color": "white"
             }
            },
            "header": {
             "fill": {
              "color": "#C8D4E3"
             },
             "line": {
              "color": "white"
             }
            },
            "type": "table"
           }
          ]
         },
         "layout": {
          "annotationdefaults": {
           "arrowcolor": "#2a3f5f",
           "arrowhead": 0,
           "arrowwidth": 1
          },
          "autotypenumbers": "strict",
          "coloraxis": {
           "colorbar": {
            "outlinewidth": 0,
            "ticks": ""
           }
          },
          "colorscale": {
           "diverging": [
            [
             0,
             "#8e0152"
            ],
            [
             0.1,
             "#c51b7d"
            ],
            [
             0.2,
             "#de77ae"
            ],
            [
             0.3,
             "#f1b6da"
            ],
            [
             0.4,
             "#fde0ef"
            ],
            [
             0.5,
             "#f7f7f7"
            ],
            [
             0.6,
             "#e6f5d0"
            ],
            [
             0.7,
             "#b8e186"
            ],
            [
             0.8,
             "#7fbc41"
            ],
            [
             0.9,
             "#4d9221"
            ],
            [
             1,
             "#276419"
            ]
           ],
           "sequential": [
            [
             0,
             "#0d0887"
            ],
            [
             0.1111111111111111,
             "#46039f"
            ],
            [
             0.2222222222222222,
             "#7201a8"
            ],
            [
             0.3333333333333333,
             "#9c179e"
            ],
            [
             0.4444444444444444,
             "#bd3786"
            ],
            [
             0.5555555555555556,
             "#d8576b"
            ],
            [
             0.6666666666666666,
             "#ed7953"
            ],
            [
             0.7777777777777778,
             "#fb9f3a"
            ],
            [
             0.8888888888888888,
             "#fdca26"
            ],
            [
             1,
             "#f0f921"
            ]
           ],
           "sequentialminus": [
            [
             0,
             "#0d0887"
            ],
            [
             0.1111111111111111,
             "#46039f"
            ],
            [
             0.2222222222222222,
             "#7201a8"
            ],
            [
             0.3333333333333333,
             "#9c179e"
            ],
            [
             0.4444444444444444,
             "#bd3786"
            ],
            [
             0.5555555555555556,
             "#d8576b"
            ],
            [
             0.6666666666666666,
             "#ed7953"
            ],
            [
             0.7777777777777778,
             "#fb9f3a"
            ],
            [
             0.8888888888888888,
             "#fdca26"
            ],
            [
             1,
             "#f0f921"
            ]
           ]
          },
          "colorway": [
           "#636efa",
           "#EF553B",
           "#00cc96",
           "#ab63fa",
           "#FFA15A",
           "#19d3f3",
           "#FF6692",
           "#B6E880",
           "#FF97FF",
           "#FECB52"
          ],
          "font": {
           "color": "#2a3f5f"
          },
          "geo": {
           "bgcolor": "white",
           "lakecolor": "white",
           "landcolor": "#E5ECF6",
           "showlakes": true,
           "showland": true,
           "subunitcolor": "white"
          },
          "hoverlabel": {
           "align": "left"
          },
          "hovermode": "closest",
          "mapbox": {
           "style": "light"
          },
          "paper_bgcolor": "white",
          "plot_bgcolor": "#E5ECF6",
          "polar": {
           "angularaxis": {
            "gridcolor": "white",
            "linecolor": "white",
            "ticks": ""
           },
           "bgcolor": "#E5ECF6",
           "radialaxis": {
            "gridcolor": "white",
            "linecolor": "white",
            "ticks": ""
           }
          },
          "scene": {
           "xaxis": {
            "backgroundcolor": "#E5ECF6",
            "gridcolor": "white",
            "gridwidth": 2,
            "linecolor": "white",
            "showbackground": true,
            "ticks": "",
            "zerolinecolor": "white"
           },
           "yaxis": {
            "backgroundcolor": "#E5ECF6",
            "gridcolor": "white",
            "gridwidth": 2,
            "linecolor": "white",
            "showbackground": true,
            "ticks": "",
            "zerolinecolor": "white"
           },
           "zaxis": {
            "backgroundcolor": "#E5ECF6",
            "gridcolor": "white",
            "gridwidth": 2,
            "linecolor": "white",
            "showbackground": true,
            "ticks": "",
            "zerolinecolor": "white"
           }
          },
          "shapedefaults": {
           "line": {
            "color": "#2a3f5f"
           }
          },
          "ternary": {
           "aaxis": {
            "gridcolor": "white",
            "linecolor": "white",
            "ticks": ""
           },
           "baxis": {
            "gridcolor": "white",
            "linecolor": "white",
            "ticks": ""
           },
           "bgcolor": "#E5ECF6",
           "caxis": {
            "gridcolor": "white",
            "linecolor": "white",
            "ticks": ""
           }
          },
          "title": {
           "x": 0.05
          },
          "xaxis": {
           "automargin": true,
           "gridcolor": "white",
           "linecolor": "white",
           "ticks": "",
           "title": {
            "standoff": 15
           },
           "zerolinecolor": "white",
           "zerolinewidth": 2
          },
          "yaxis": {
           "automargin": true,
           "gridcolor": "white",
           "linecolor": "white",
           "ticks": "",
           "title": {
            "standoff": 15
           },
           "zerolinecolor": "white",
           "zerolinewidth": 2
          }
         }
        },
        "title": {
         "text": "Average Sentiment per Part"
        },
        "width": 1000,
        "xaxis": {
         "anchor": "y",
         "domain": [
          0,
          1
         ],
         "title": {
          "text": "Part"
         }
        },
        "xaxis2": {
         "anchor": "y2",
         "domain": [
          0,
          1
         ],
         "title": {
          "text": "Part"
         }
        },
        "yaxis": {
         "anchor": "x",
         "domain": [
          0.625,
          1
         ],
         "title": {
          "text": "Average Sentiment"
         }
        },
        "yaxis2": {
         "anchor": "x2",
         "domain": [
          0,
          0.375
         ],
         "title": {
          "text": "Average Sentiment"
         }
        }
       }
      }
     },
     "metadata": {},
     "output_type": "display_data"
    },
    {
     "data": {
      "application/vnd.plotly.v1+json": {
       "config": {
        "plotlyServerURL": "https://plot.ly"
       },
       "data": [
        {
         "mode": "markers+lines+text",
         "text": [
          "People: joseph, heathcliff, mrs | Verbs: say, go, take, make, come",
          "People: linton, joseph, earnshaw | Verbs: say, make, go, come, see",
          "People: linton, joseph, edgar | Verbs: say, go, come, take, see",
          "People: linton, mrs, isabella | Verbs: say, go, come, make, know",
          "People: linton, joseph, heathcliff | Verbs: say, go, see, think, come",
          "People: linton, joseph, mrs | Verbs: say, come, go, make, get",
          "People: linton, joseph, cathy | Verbs: say, see, go, come, take",
          "People: linton, catherine, joseph | Verbs: say, go, come, see, tell",
          "People: linton, joseph, mrs | Verbs: say, go, come, see, get",
          "People: joseph, hareton, dean | Verbs: say, go, come, see, take",
          "People:  | Verbs: "
         ],
         "type": "scatter",
         "x": [
          0,
          1,
          2,
          3,
          4,
          5,
          6,
          7,
          8,
          9,
          10
         ],
         "xaxis": "x",
         "y": [
          55,
          53,
          46,
          42,
          46,
          45,
          45,
          47,
          46,
          46,
          51
         ],
         "yaxis": "y"
        },
        {
         "mode": "markers+lines+text",
         "text": [
          "People: joseph | Verbs: get, come, go, whine, pant",
          "People: joseph, hindley, lad | Verbs: come, go, say, give, bark",
          "People: joseph, barbara, allen | Verbs: go, get, come, let, bear",
          "People: joseph, cathy, robert | Verbs: get, go, bark, come, see",
          "People: joseph, cathy, edgar | Verbs: get, look, come, see, say",
          "People: dr, kenneth, quick | Verbs: come, scream, go, love, speak",
          "People: heathcliff, marry, cathy | Verbs: bring, marry, cough, tell, love",
          "People: linton, joseph, isabella | Verbs: go, get, come, stay, think",
          "People: isabella, edgar, robert | Verbs: go, come, bark, want, approach",
          "People: joseph, news, cathy | Verbs: scream, leave, get, kill, wake"
         ],
         "type": "scatter",
         "x": [
          0,
          1,
          2,
          3,
          4,
          5,
          6,
          7,
          8,
          9
         ],
         "xaxis": "x2",
         "y": [
          45,
          28,
          46,
          51,
          56,
          85,
          45,
          59,
          38,
          47
         ],
         "yaxis": "y2"
        }
       ],
       "layout": {
        "annotations": [
         {
          "font": {
           "size": 16
          },
          "showarrow": false,
          "text": "Book: Wuthering Heights by Emily Brontë",
          "x": 0.5,
          "xanchor": "center",
          "xref": "paper",
          "y": 1,
          "yanchor": "bottom",
          "yref": "paper"
         },
         {
          "font": {
           "size": 16
          },
          "showarrow": false,
          "text": "Movie: Wuthering Heights, 2011",
          "x": 0.5,
          "xanchor": "center",
          "xref": "paper",
          "y": 0.375,
          "yanchor": "bottom",
          "yref": "paper"
         }
        ],
        "height": 1600,
        "hovermode": "x",
        "template": {
         "data": {
          "bar": [
           {
            "error_x": {
             "color": "#2a3f5f"
            },
            "error_y": {
             "color": "#2a3f5f"
            },
            "marker": {
             "line": {
              "color": "#E5ECF6",
              "width": 0.5
             },
             "pattern": {
              "fillmode": "overlay",
              "size": 10,
              "solidity": 0.2
             }
            },
            "type": "bar"
           }
          ],
          "barpolar": [
           {
            "marker": {
             "line": {
              "color": "#E5ECF6",
              "width": 0.5
             },
             "pattern": {
              "fillmode": "overlay",
              "size": 10,
              "solidity": 0.2
             }
            },
            "type": "barpolar"
           }
          ],
          "carpet": [
           {
            "aaxis": {
             "endlinecolor": "#2a3f5f",
             "gridcolor": "white",
             "linecolor": "white",
             "minorgridcolor": "white",
             "startlinecolor": "#2a3f5f"
            },
            "baxis": {
             "endlinecolor": "#2a3f5f",
             "gridcolor": "white",
             "linecolor": "white",
             "minorgridcolor": "white",
             "startlinecolor": "#2a3f5f"
            },
            "type": "carpet"
           }
          ],
          "choropleth": [
           {
            "colorbar": {
             "outlinewidth": 0,
             "ticks": ""
            },
            "type": "choropleth"
           }
          ],
          "contour": [
           {
            "colorbar": {
             "outlinewidth": 0,
             "ticks": ""
            },
            "colorscale": [
             [
              0,
              "#0d0887"
             ],
             [
              0.1111111111111111,
              "#46039f"
             ],
             [
              0.2222222222222222,
              "#7201a8"
             ],
             [
              0.3333333333333333,
              "#9c179e"
             ],
             [
              0.4444444444444444,
              "#bd3786"
             ],
             [
              0.5555555555555556,
              "#d8576b"
             ],
             [
              0.6666666666666666,
              "#ed7953"
             ],
             [
              0.7777777777777778,
              "#fb9f3a"
             ],
             [
              0.8888888888888888,
              "#fdca26"
             ],
             [
              1,
              "#f0f921"
             ]
            ],
            "type": "contour"
           }
          ],
          "contourcarpet": [
           {
            "colorbar": {
             "outlinewidth": 0,
             "ticks": ""
            },
            "type": "contourcarpet"
           }
          ],
          "heatmap": [
           {
            "colorbar": {
             "outlinewidth": 0,
             "ticks": ""
            },
            "colorscale": [
             [
              0,
              "#0d0887"
             ],
             [
              0.1111111111111111,
              "#46039f"
             ],
             [
              0.2222222222222222,
              "#7201a8"
             ],
             [
              0.3333333333333333,
              "#9c179e"
             ],
             [
              0.4444444444444444,
              "#bd3786"
             ],
             [
              0.5555555555555556,
              "#d8576b"
             ],
             [
              0.6666666666666666,
              "#ed7953"
             ],
             [
              0.7777777777777778,
              "#fb9f3a"
             ],
             [
              0.8888888888888888,
              "#fdca26"
             ],
             [
              1,
              "#f0f921"
             ]
            ],
            "type": "heatmap"
           }
          ],
          "heatmapgl": [
           {
            "colorbar": {
             "outlinewidth": 0,
             "ticks": ""
            },
            "colorscale": [
             [
              0,
              "#0d0887"
             ],
             [
              0.1111111111111111,
              "#46039f"
             ],
             [
              0.2222222222222222,
              "#7201a8"
             ],
             [
              0.3333333333333333,
              "#9c179e"
             ],
             [
              0.4444444444444444,
              "#bd3786"
             ],
             [
              0.5555555555555556,
              "#d8576b"
             ],
             [
              0.6666666666666666,
              "#ed7953"
             ],
             [
              0.7777777777777778,
              "#fb9f3a"
             ],
             [
              0.8888888888888888,
              "#fdca26"
             ],
             [
              1,
              "#f0f921"
             ]
            ],
            "type": "heatmapgl"
           }
          ],
          "histogram": [
           {
            "marker": {
             "pattern": {
              "fillmode": "overlay",
              "size": 10,
              "solidity": 0.2
             }
            },
            "type": "histogram"
           }
          ],
          "histogram2d": [
           {
            "colorbar": {
             "outlinewidth": 0,
             "ticks": ""
            },
            "colorscale": [
             [
              0,
              "#0d0887"
             ],
             [
              0.1111111111111111,
              "#46039f"
             ],
             [
              0.2222222222222222,
              "#7201a8"
             ],
             [
              0.3333333333333333,
              "#9c179e"
             ],
             [
              0.4444444444444444,
              "#bd3786"
             ],
             [
              0.5555555555555556,
              "#d8576b"
             ],
             [
              0.6666666666666666,
              "#ed7953"
             ],
             [
              0.7777777777777778,
              "#fb9f3a"
             ],
             [
              0.8888888888888888,
              "#fdca26"
             ],
             [
              1,
              "#f0f921"
             ]
            ],
            "type": "histogram2d"
           }
          ],
          "histogram2dcontour": [
           {
            "colorbar": {
             "outlinewidth": 0,
             "ticks": ""
            },
            "colorscale": [
             [
              0,
              "#0d0887"
             ],
             [
              0.1111111111111111,
              "#46039f"
             ],
             [
              0.2222222222222222,
              "#7201a8"
             ],
             [
              0.3333333333333333,
              "#9c179e"
             ],
             [
              0.4444444444444444,
              "#bd3786"
             ],
             [
              0.5555555555555556,
              "#d8576b"
             ],
             [
              0.6666666666666666,
              "#ed7953"
             ],
             [
              0.7777777777777778,
              "#fb9f3a"
             ],
             [
              0.8888888888888888,
              "#fdca26"
             ],
             [
              1,
              "#f0f921"
             ]
            ],
            "type": "histogram2dcontour"
           }
          ],
          "mesh3d": [
           {
            "colorbar": {
             "outlinewidth": 0,
             "ticks": ""
            },
            "type": "mesh3d"
           }
          ],
          "parcoords": [
           {
            "line": {
             "colorbar": {
              "outlinewidth": 0,
              "ticks": ""
             }
            },
            "type": "parcoords"
           }
          ],
          "pie": [
           {
            "automargin": true,
            "type": "pie"
           }
          ],
          "scatter": [
           {
            "fillpattern": {
             "fillmode": "overlay",
             "size": 10,
             "solidity": 0.2
            },
            "type": "scatter"
           }
          ],
          "scatter3d": [
           {
            "line": {
             "colorbar": {
              "outlinewidth": 0,
              "ticks": ""
             }
            },
            "marker": {
             "colorbar": {
              "outlinewidth": 0,
              "ticks": ""
             }
            },
            "type": "scatter3d"
           }
          ],
          "scattercarpet": [
           {
            "marker": {
             "colorbar": {
              "outlinewidth": 0,
              "ticks": ""
             }
            },
            "type": "scattercarpet"
           }
          ],
          "scattergeo": [
           {
            "marker": {
             "colorbar": {
              "outlinewidth": 0,
              "ticks": ""
             }
            },
            "type": "scattergeo"
           }
          ],
          "scattergl": [
           {
            "marker": {
             "colorbar": {
              "outlinewidth": 0,
              "ticks": ""
             }
            },
            "type": "scattergl"
           }
          ],
          "scattermapbox": [
           {
            "marker": {
             "colorbar": {
              "outlinewidth": 0,
              "ticks": ""
             }
            },
            "type": "scattermapbox"
           }
          ],
          "scatterpolar": [
           {
            "marker": {
             "colorbar": {
              "outlinewidth": 0,
              "ticks": ""
             }
            },
            "type": "scatterpolar"
           }
          ],
          "scatterpolargl": [
           {
            "marker": {
             "colorbar": {
              "outlinewidth": 0,
              "ticks": ""
             }
            },
            "type": "scatterpolargl"
           }
          ],
          "scatterternary": [
           {
            "marker": {
             "colorbar": {
              "outlinewidth": 0,
              "ticks": ""
             }
            },
            "type": "scatterternary"
           }
          ],
          "surface": [
           {
            "colorbar": {
             "outlinewidth": 0,
             "ticks": ""
            },
            "colorscale": [
             [
              0,
              "#0d0887"
             ],
             [
              0.1111111111111111,
              "#46039f"
             ],
             [
              0.2222222222222222,
              "#7201a8"
             ],
             [
              0.3333333333333333,
              "#9c179e"
             ],
             [
              0.4444444444444444,
              "#bd3786"
             ],
             [
              0.5555555555555556,
              "#d8576b"
             ],
             [
              0.6666666666666666,
              "#ed7953"
             ],
             [
              0.7777777777777778,
              "#fb9f3a"
             ],
             [
              0.8888888888888888,
              "#fdca26"
             ],
             [
              1,
              "#f0f921"
             ]
            ],
            "type": "surface"
           }
          ],
          "table": [
           {
            "cells": {
             "fill": {
              "color": "#EBF0F8"
             },
             "line": {
              "color": "white"
             }
            },
            "header": {
             "fill": {
              "color": "#C8D4E3"
             },
             "line": {
              "color": "white"
             }
            },
            "type": "table"
           }
          ]
         },
         "layout": {
          "annotationdefaults": {
           "arrowcolor": "#2a3f5f",
           "arrowhead": 0,
           "arrowwidth": 1
          },
          "autotypenumbers": "strict",
          "coloraxis": {
           "colorbar": {
            "outlinewidth": 0,
            "ticks": ""
           }
          },
          "colorscale": {
           "diverging": [
            [
             0,
             "#8e0152"
            ],
            [
             0.1,
             "#c51b7d"
            ],
            [
             0.2,
             "#de77ae"
            ],
            [
             0.3,
             "#f1b6da"
            ],
            [
             0.4,
             "#fde0ef"
            ],
            [
             0.5,
             "#f7f7f7"
            ],
            [
             0.6,
             "#e6f5d0"
            ],
            [
             0.7,
             "#b8e186"
            ],
            [
             0.8,
             "#7fbc41"
            ],
            [
             0.9,
             "#4d9221"
            ],
            [
             1,
             "#276419"
            ]
           ],
           "sequential": [
            [
             0,
             "#0d0887"
            ],
            [
             0.1111111111111111,
             "#46039f"
            ],
            [
             0.2222222222222222,
             "#7201a8"
            ],
            [
             0.3333333333333333,
             "#9c179e"
            ],
            [
             0.4444444444444444,
             "#bd3786"
            ],
            [
             0.5555555555555556,
             "#d8576b"
            ],
            [
             0.6666666666666666,
             "#ed7953"
            ],
            [
             0.7777777777777778,
             "#fb9f3a"
            ],
            [
             0.8888888888888888,
             "#fdca26"
            ],
            [
             1,
             "#f0f921"
            ]
           ],
           "sequentialminus": [
            [
             0,
             "#0d0887"
            ],
            [
             0.1111111111111111,
             "#46039f"
            ],
            [
             0.2222222222222222,
             "#7201a8"
            ],
            [
             0.3333333333333333,
             "#9c179e"
            ],
            [
             0.4444444444444444,
             "#bd3786"
            ],
            [
             0.5555555555555556,
             "#d8576b"
            ],
            [
             0.6666666666666666,
             "#ed7953"
            ],
            [
             0.7777777777777778,
             "#fb9f3a"
            ],
            [
             0.8888888888888888,
             "#fdca26"
            ],
            [
             1,
             "#f0f921"
            ]
           ]
          },
          "colorway": [
           "#636efa",
           "#EF553B",
           "#00cc96",
           "#ab63fa",
           "#FFA15A",
           "#19d3f3",
           "#FF6692",
           "#B6E880",
           "#FF97FF",
           "#FECB52"
          ],
          "font": {
           "color": "#2a3f5f"
          },
          "geo": {
           "bgcolor": "white",
           "lakecolor": "white",
           "landcolor": "#E5ECF6",
           "showlakes": true,
           "showland": true,
           "subunitcolor": "white"
          },
          "hoverlabel": {
           "align": "left"
          },
          "hovermode": "closest",
          "mapbox": {
           "style": "light"
          },
          "paper_bgcolor": "white",
          "plot_bgcolor": "#E5ECF6",
          "polar": {
           "angularaxis": {
            "gridcolor": "white",
            "linecolor": "white",
            "ticks": ""
           },
           "bgcolor": "#E5ECF6",
           "radialaxis": {
            "gridcolor": "white",
            "linecolor": "white",
            "ticks": ""
           }
          },
          "scene": {
           "xaxis": {
            "backgroundcolor": "#E5ECF6",
            "gridcolor": "white",
            "gridwidth": 2,
            "linecolor": "white",
            "showbackground": true,
            "ticks": "",
            "zerolinecolor": "white"
           },
           "yaxis": {
            "backgroundcolor": "#E5ECF6",
            "gridcolor": "white",
            "gridwidth": 2,
            "linecolor": "white",
            "showbackground": true,
            "ticks": "",
            "zerolinecolor": "white"
           },
           "zaxis": {
            "backgroundcolor": "#E5ECF6",
            "gridcolor": "white",
            "gridwidth": 2,
            "linecolor": "white",
            "showbackground": true,
            "ticks": "",
            "zerolinecolor": "white"
           }
          },
          "shapedefaults": {
           "line": {
            "color": "#2a3f5f"
           }
          },
          "ternary": {
           "aaxis": {
            "gridcolor": "white",
            "linecolor": "white",
            "ticks": ""
           },
           "baxis": {
            "gridcolor": "white",
            "linecolor": "white",
            "ticks": ""
           },
           "bgcolor": "#E5ECF6",
           "caxis": {
            "gridcolor": "white",
            "linecolor": "white",
            "ticks": ""
           }
          },
          "title": {
           "x": 0.05
          },
          "xaxis": {
           "automargin": true,
           "gridcolor": "white",
           "linecolor": "white",
           "ticks": "",
           "title": {
            "standoff": 15
           },
           "zerolinecolor": "white",
           "zerolinewidth": 2
          },
          "yaxis": {
           "automargin": true,
           "gridcolor": "white",
           "linecolor": "white",
           "ticks": "",
           "title": {
            "standoff": 15
           },
           "zerolinecolor": "white",
           "zerolinewidth": 2
          }
         }
        },
        "title": {
         "text": "Average Sentiment per Part"
        },
        "width": 1000,
        "xaxis": {
         "anchor": "y",
         "domain": [
          0,
          1
         ],
         "title": {
          "text": "Part"
         }
        },
        "xaxis2": {
         "anchor": "y2",
         "domain": [
          0,
          1
         ],
         "title": {
          "text": "Part"
         }
        },
        "yaxis": {
         "anchor": "x",
         "domain": [
          0.625,
          1
         ],
         "title": {
          "text": "Average Sentiment"
         }
        },
        "yaxis2": {
         "anchor": "x2",
         "domain": [
          0,
          0.375
         ],
         "title": {
          "text": "Average Sentiment"
         }
        }
       }
      }
     },
     "metadata": {},
     "output_type": "display_data"
    }
   ],
   "source": [
    "for pair in zip(book_dfs, subs_dfs):\n",
    "    fig = make_subplots(rows=2, cols=1,\n",
    "                        subplot_titles=(f\"Book: {pair[0]['title'][0]} by {pair[0]['author'][0]}\", f\"Movie: {pair[1]['title'][0]}, {pair[1]['year'][0]}\"))\n",
    "\n",
    "    fig.add_trace(go.Scatter(x=pair[0].index,\n",
    "                            y=pair[0]['parts_sentiment'],\n",
    "                            text=pair[0]['relevant_people_and_verbs'],\n",
    "                            mode='markers+lines+text'), row=1, col=1)\n",
    "\n",
    "    fig.add_trace(go.Scatter(x=pair[1].index,\n",
    "                            y=pair[1]['parts_sentiment'],\n",
    "                            text=pair[1]['relevant_people_and_verbs'],\n",
    "                            mode='markers+lines+text'), row=2, col=1)\n",
    "\n",
    "    fig.update_layout(title_text='Average Sentiment per Part', hovermode='x', width=1000, height=1600)\n",
    "\n",
    "    fig['layout']['xaxis']['title']='Part'\n",
    "    fig['layout']['xaxis2']['title']='Part'\n",
    "    fig['layout']['yaxis']['title']='Average Sentiment'\n",
    "    fig['layout']['yaxis2']['title']='Average Sentiment'\n",
    "\n",
    "    fig.show()"
   ]
  }
 ],
 "metadata": {
  "kernelspec": {
   "display_name": "Python 3",
   "language": "python",
   "name": "python3"
  },
  "language_info": {
   "codemirror_mode": {
    "name": "ipython",
    "version": 3
   },
   "file_extension": ".py",
   "mimetype": "text/x-python",
   "name": "python",
   "nbconvert_exporter": "python",
   "pygments_lexer": "ipython3",
   "version": "3.10.6"
  },
  "orig_nbformat": 4
 },
 "nbformat": 4,
 "nbformat_minor": 2
}
